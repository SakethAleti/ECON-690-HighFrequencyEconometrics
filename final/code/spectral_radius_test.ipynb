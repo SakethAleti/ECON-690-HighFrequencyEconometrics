{
 "cells": [
  {
   "cell_type": "code",
   "execution_count": 106,
   "metadata": {},
   "outputs": [],
   "source": [
    "import glob\n",
    "import pandas as pd\n",
    "import numpy as np\n",
    "import matplotlib.pyplot as plt\n",
    "import matplotlib\n",
    "import seaborn as sns\n",
    "from collections import OrderedDict\n",
    "from multiprocessing import Pool\n",
    "from numba import jit\n",
    "from tqdm.auto import tqdm\n",
    "import statsmodels.api as sm\n",
    "import statsmodels.formula.api as smf\n",
    "from statsmodels.regression.rolling import RollingOLS\n",
    "from statsmodels.tsa import arima_process\n",
    "from statsmodels.tsa.statespace.tools import (\n",
    "    constrain_stationary_univariate, unconstrain_stationary_univariate)\n",
    "from statsmodels import tsa\n",
    "\n",
    "sns.set_context(\"paper\", font_scale=1.7)\n",
    "sns.set_style(\n",
    "    \"ticks\",\n",
    "    {\n",
    "        \"axes.grid\": True,\n",
    "        \"grid.color\": \"0.95\",\n",
    "        \"grid.linestyle\": \"-\",\n",
    "        \"axes.facecolor\": \"white\",\n",
    "        \"figure.facecolor\": \"#FAFAFA\",\n",
    "    },\n",
    ")"
   ]
  },
  {
   "cell_type": "markdown",
   "metadata": {},
   "source": [
    "# Import Data"
   ]
  },
  {
   "cell_type": "code",
   "execution_count": 107,
   "metadata": {},
   "outputs": [
    {
     "data": {
      "application/vnd.jupyter.widget-view+json": {
       "model_id": "6f0d83234873423ea0867f2eedc99352",
       "version_major": 2,
       "version_minor": 0
      },
      "text/plain": [
       "HBox(children=(FloatProgress(value=0.0, max=471.0), HTML(value='')))"
      ]
     },
     "metadata": {},
     "output_type": "display_data"
    },
    {
     "name": "stdout",
     "output_type": "stream",
     "text": [
      "\n",
      "CPU times: user 2.55 s, sys: 3.88 s, total: 6.42 s\n",
      "Wall time: 6.83 s\n"
     ]
    }
   ],
   "source": [
    "%%time\n",
    "data_files = glob.glob(\"../data/returns/ticker_daily_rv/*.feather\")\n",
    "\n",
    "ticker_dfs = []\n",
    "for ticker_df in tqdm(map(pd.read_feather, data_files), total = len(data_files)):\n",
    "    # Magic number for the number of observations each file should have\n",
    "    if len(ticker_df) == 1447:\n",
    "        ticker_dfs.append(ticker_df)\n",
    "\n",
    "data_rv_df = pd.concat(ticker_dfs).reset_index(drop = True)"
   ]
  },
  {
   "cell_type": "markdown",
   "metadata": {},
   "source": [
    "# Clean Data"
   ]
  },
  {
   "cell_type": "markdown",
   "metadata": {},
   "source": [
    "## Additional Vars"
   ]
  },
  {
   "cell_type": "code",
   "execution_count": 108,
   "metadata": {},
   "outputs": [],
   "source": [
    "data_rv_df['1'] = 1\n",
    "data_rv_df['rvol'] = np.sqrt(data_rv_df['rv'])"
   ]
  },
  {
   "cell_type": "markdown",
   "metadata": {},
   "source": [
    "## Lagged Measures"
   ]
  },
  {
   "cell_type": "code",
   "execution_count": 109,
   "metadata": {},
   "outputs": [],
   "source": [
    "data_rv_df = data_rv_df.sort_values(by = ['ticker', 'date'])\n",
    "\n",
    "# Signed Jump variants\n",
    "data_rv_df['sgn_jump_var_pos'] = data_rv_df['sgn_jump_var']*(data_rv_df['sgn_jump_var'] > 0)\n",
    "data_rv_df['sgn_jump_var_neg'] = data_rv_df['sgn_jump_var']*(data_rv_df['sgn_jump_var'] < 0)\n",
    "\n",
    "data_rv_df['rq'] = data_rv_df['return_p4']/3\n",
    "data_rv_df['sqrt_rq'] = np.sqrt(data_rv_df['rq'])\n",
    "\n",
    "data_rv_df['year'] = data_rv_df['date'].dt.year"
   ]
  },
  {
   "cell_type": "code",
   "execution_count": 110,
   "metadata": {},
   "outputs": [],
   "source": [
    "# Lags\n",
    "data_rv_df[\"rv_d_lag_1\"] = data_rv_df[\"return_d_p2\"].shift(1)\n",
    "data_rv_df[\"rv_d_lag_m5\"] = data_rv_df[\"rv_lag_1\"].rolling(5).mean()\n",
    "data_rv_df[\"rv_d_lag_m22\"] = data_rv_df[\"rv_lag_1\"].rolling(22).mean()"
   ]
  },
  {
   "cell_type": "code",
   "execution_count": 111,
   "metadata": {},
   "outputs": [
    {
     "data": {
      "application/vnd.jupyter.widget-view+json": {
       "model_id": "e660637c5890450abc03f434fce338b5",
       "version_major": 2,
       "version_minor": 0
      },
      "text/plain": [
       "HBox(children=(FloatProgress(value=0.0, max=17.0), HTML(value='')))"
      ]
     },
     "metadata": {},
     "output_type": "display_data"
    },
    {
     "name": "stdout",
     "output_type": "stream",
     "text": [
      "\n"
     ]
    }
   ],
   "source": [
    "lag_coeff_cols = [\n",
    "    \"return_j_pos\",\n",
    "    \"return_j_neg\",\n",
    "    \"return_d_pos\",\n",
    "    \"return_d_neg\",\n",
    "    \"sum_jump_p2_1\",\n",
    "    \"sum_jump_p2_5\",\n",
    "    \"sum_jump_p2_22\",\n",
    "    \"sum_jump_p2_pos_1\",\n",
    "    \"sum_jump_p2_pos_5\",\n",
    "    \"sum_jump_p2_pos_22\",\n",
    "    \"sum_jump_p2_neg_1\",\n",
    "    \"sum_jump_p2_neg_5\",\n",
    "    \"sum_jump_p2_neg_22\",\n",
    "    \"sgn_jump_var\",\n",
    "    \"sgn_jump_var_pos\",\n",
    "    \"sgn_jump_var_neg\",\n",
    "    \"sqrt_rq\",\n",
    "]\n",
    "\n",
    "interact_cols = [\n",
    "    \"rv_lag_1\",\n",
    "    \"rv_lag_m5\",\n",
    "    \"rv_lag_m22\",\n",
    "    \"rv_d_lag_1\",\n",
    "    \"rv_d_lag_m5\",\n",
    "    \"rv_d_lag_m22\",\n",
    "]\n",
    "\n",
    "for col in tqdm(lag_coeff_cols):\n",
    "    data_rv_df[col + \"_lag_1\"] = data_rv_df.groupby(\"ticker\")[col].shift(1)\n",
    "\n",
    "    for icol in interact_cols:\n",
    "        data_rv_df[f\"{icol}:{col}_lag_1\"] = np.multiply(\n",
    "            data_rv_df[icol], data_rv_df[col + \"_lag_1\"]\n",
    "        )"
   ]
  },
  {
   "cell_type": "markdown",
   "metadata": {},
   "source": [
    "# Rolling Beta"
   ]
  },
  {
   "cell_type": "code",
   "execution_count": 112,
   "metadata": {},
   "outputs": [
    {
     "data": {
      "text/plain": [
       "1447"
      ]
     },
     "execution_count": 112,
     "metadata": {},
     "output_type": "execute_result"
    }
   ],
   "source": [
    "# Window length\n",
    "window = 66\n",
    "lags = 22\n",
    "len(ticker_rv_df['rv'])"
   ]
  },
  {
   "cell_type": "code",
   "execution_count": null,
   "metadata": {},
   "outputs": [],
   "source": []
  },
  {
   "cell_type": "code",
   "execution_count": 113,
   "metadata": {},
   "outputs": [],
   "source": [
    "def spectral_rad(data):\n",
    "    \n",
    "    fit_params = tsa.ar_model.AutoReg(np.array(data), lags).fit().params\n",
    "    \n",
    "    Phi = np.eye(lags)\n",
    "    Phi = np.c_[Phi, np.zeros((lags,1))]\n",
    "    Phi = np.vstack((fit_params, Phi))\n",
    "    eigvals, eigvecs = np.linalg.eig(Phi)\n",
    "    spectral_rad = np.linalg.norm(np.max(eigvals))\n",
    "    \n",
    "    return spectral_rad"
   ]
  },
  {
   "cell_type": "code",
   "execution_count": 114,
   "metadata": {},
   "outputs": [],
   "source": [
    "tickers_rv_df = data_rv_df.query('ticker in [\"AAPL\"]').copy().reset_index(drop = True)\n",
    "tickers_rv_df['spectral_rad'] = tickers_rv_df['rv'].rolling(66).apply(lambda x: spectral_rad(x))"
   ]
  },
  {
   "cell_type": "code",
   "execution_count": 115,
   "metadata": {},
   "outputs": [
    {
     "data": {
      "text/plain": [
       "<AxesSubplot:xlabel='date', ylabel='spectral_rad'>"
      ]
     },
     "execution_count": 115,
     "metadata": {},
     "output_type": "execute_result"
    },
    {
     "data": {
      "image/png": "[encoded data removed]",
      "text/plain": [
       "<Figure size 432x288 with 1 Axes>"
      ]
     },
     "metadata": {},
     "output_type": "display_data"
    }
   ],
   "source": [
    "sns.lineplot(x = 'date', y = 'spectral_rad', data = tickers_rv_df)"
   ]
  },
  {
   "cell_type": "code",
   "execution_count": 198,
   "metadata": {},
   "outputs": [],
   "source": [
    "lags = 22\n",
    "def tsls_pers(data):\n",
    "    x = np.array(data)\n",
    "    newz = tsa.ar_model.AutoReg(x, lags).fit().predict()\n",
    "    x = x[(lags):]\n",
    "#     display(np.shape(x), np.shape(newz))\n",
    "    persistence = ((newz.T @ x)**(-1)) * (newz[:-1].T @ x[1:])\n",
    "    \n",
    "    return persistence"
   ]
  },
  {
   "cell_type": "code",
   "execution_count": 199,
   "metadata": {},
   "outputs": [],
   "source": [
    "for i in range(10):\n",
    "    tickers_rv_df[f'rv_{i+1}'] = tickers_rv_df['rv'].shift(i+1)\n",
    "\n",
    "\n",
    "tickers_rv_df['persistence'] = tickers_rv_df['rv'].rolling(66).apply(lambda x: tsls_pers(x))"
   ]
  },
  {
   "cell_type": "code",
   "execution_count": 200,
   "metadata": {},
   "outputs": [
    {
     "data": {
      "text/plain": [
       "<AxesSubplot:xlabel='date', ylabel='persistence'>"
      ]
     },
     "execution_count": 200,
     "metadata": {},
     "output_type": "execute_result"
    },
    {
     "data": {
      "image/png": "[encoded data removed]",
      "text/plain": [
       "<Figure size 432x288 with 1 Axes>"
      ]
     },
     "metadata": {},
     "output_type": "display_data"
    }
   ],
   "source": [
    "sns.lineplot(x = 'date', y = 'persistence', data = tickers_rv_df)"
   ]
  },
  {
   "cell_type": "code",
   "execution_count": 154,
   "metadata": {},
   "outputs": [
    {
     "data": {
      "text/plain": [
       "(1443, 3)"
      ]
     },
     "execution_count": 154,
     "metadata": {},
     "output_type": "execute_result"
    }
   ],
   "source": [
    "np.shape(z[:-1,:])"
   ]
  },
  {
   "cell_type": "code",
   "execution_count": 155,
   "metadata": {},
   "outputs": [
    {
     "data": {
      "text/plain": [
       "(1443,)"
      ]
     },
     "execution_count": 155,
     "metadata": {},
     "output_type": "execute_result"
    }
   ],
   "source": [
    "np.shape(x[1:])"
   ]
  },
  {
   "cell_type": "code",
   "execution_count": 166,
   "metadata": {},
   "outputs": [],
   "source": []
  },
  {
   "cell_type": "code",
   "execution_count": null,
   "metadata": {},
   "outputs": [],
   "source": []
  },
  {
   "cell_type": "code",
   "execution_count": 172,
   "metadata": {},
   "outputs": [
    {
     "data": {
      "text/plain": [
       "0.8841548821395474"
      ]
     },
     "execution_count": 172,
     "metadata": {},
     "output_type": "execute_result"
    }
   ],
   "source": []
  },
  {
   "cell_type": "code",
   "execution_count": 134,
   "metadata": {},
   "outputs": [
    {
     "data": {
      "text/plain": [
       "array([4.35030503e-05, 4.09666776e-01, 3.10673816e-01, 3.56915339e-02])"
      ]
     },
     "execution_count": 134,
     "metadata": {},
     "output_type": "execute_result"
    }
   ],
   "source": [
    "tsa.ar_model.AutoReg(x, 3).fit().params"
   ]
  },
  {
   "cell_type": "code",
   "execution_count": 60,
   "metadata": {},
   "outputs": [],
   "source": [
    "def fit_rolling_regression(ticker):\n",
    "\n",
    "    reg_df = (\n",
    "        data_rv_df.query(\"ticker == @ticker\")\n",
    "        .sort_values(by=\"date\")[[\"date\"] + ['rv']]\n",
    "        .dropna()\n",
    "        .set_index('date')\n",
    "    )\n",
    "    \n",
    "    sr_list = []\n",
    "    \n",
    "    for roll_shift in range(500):\n",
    "        sr_list.append(spectral_rad(np.roll(reg_df['rv'].values, -1*roll_shift)[:66]))\n",
    "    \n",
    "    return sr_list"
   ]
  },
  {
   "cell_type": "code",
   "execution_count": 61,
   "metadata": {},
   "outputs": [
    {
     "data": {
      "application/vnd.jupyter.widget-view+json": {
       "model_id": "5332deed2b6b4e7f963a71f506383583",
       "version_major": 2,
       "version_minor": 0
      },
      "text/plain": [
       "HBox(children=(FloatProgress(value=0.0, max=455.0), HTML(value='')))"
      ]
     },
     "metadata": {},
     "output_type": "display_data"
    },
    {
     "name": "stdout",
     "output_type": "stream",
     "text": [
      "\n",
      "CPU times: user 46.9 ms, sys: 766 ms, total: 812 ms\n",
      "Wall time: 2.05 s\n"
     ]
    }
   ],
   "source": [
    "%%time\n",
    "# Run HARs\n",
    "tickers = data_rv_df[\n",
    "    \"ticker\"\n",
    "].unique()  \n",
    "results = []\n",
    "\n",
    "with Pool(8) as p:\n",
    "    for fit_params_df in tqdm(\n",
    "        p.imap_unordered(fit_rolling_regression, tickers[:10]),\n",
    "        total=len(tickers),\n",
    "    ):\n",
    "        results.append(fit_params_df)"
   ]
  },
  {
   "cell_type": "code",
   "execution_count": 63,
   "metadata": {},
   "outputs": [
    {
     "data": {
      "text/plain": [
       "[<matplotlib.lines.Line2D at 0x7f2827f479e8>]"
      ]
     },
     "execution_count": 63,
     "metadata": {},
     "output_type": "execute_result"
    },
    {
     "data": {
      "image/png": "[encoded data removed]",
      "text/plain": [
       "<Figure size 432x288 with 1 Axes>"
      ]
     },
     "metadata": {},
     "output_type": "display_data"
    }
   ],
   "source": [
    "plt.plot(results[0])"
   ]
  }
 ],
 "metadata": {
  "kernelspec": {
   "display_name": "Python 3",
   "language": "python",
   "name": "python3"
  },
  "language_info": {
   "codemirror_mode": {
    "name": "ipython",
    "version": 3
   },
   "file_extension": ".py",
   "mimetype": "text/x-python",
   "name": "python",
   "nbconvert_exporter": "python",
   "pygments_lexer": "ipython3",
   "version": "3.6.9"
  }
 },
 "nbformat": 4,
 "nbformat_minor": 4
}
