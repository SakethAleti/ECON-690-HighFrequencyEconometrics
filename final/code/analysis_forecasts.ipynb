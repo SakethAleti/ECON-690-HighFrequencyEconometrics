{
 "cells": [
  {
   "cell_type": "code",
   "execution_count": 45,
   "metadata": {},
   "outputs": [],
   "source": [
    "import glob\n",
    "import pandas as pd\n",
    "import numpy as np\n",
    "import matplotlib.pyplot as plt\n",
    "import matplotlib\n",
    "import seaborn as sns\n",
    "from collections import OrderedDict\n",
    "from multiprocessing import Pool\n",
    "from numba import jit\n",
    "from tqdm.auto import tqdm\n",
    "import statsmodels.api as sm\n",
    "import statsmodels.formula.api as smf\n",
    "from statsmodels.regression.rolling import RollingOLS\n",
    "from statsmodels.tsa import arima_process\n",
    "from statsmodels.tsa.statespace.tools import (\n",
    "    constrain_stationary_univariate, unconstrain_stationary_univariate)\n",
    "\n",
    "\n",
    "sns.set_context(\"paper\", font_scale=1.7)\n",
    "sns.set_style(\n",
    "    \"ticks\",\n",
    "    {\n",
    "        \"axes.grid\": True,\n",
    "        \"grid.color\": \"0.95\",\n",
    "        \"grid.linestyle\": \"-\",\n",
    "        \"axes.facecolor\": \"white\",\n",
    "    },\n",
    ")"
   ]
  },
  {
   "cell_type": "markdown",
   "metadata": {},
   "source": [
    "# Import Data"
   ]
  },
  {
   "cell_type": "code",
   "execution_count": 46,
   "metadata": {},
   "outputs": [
    {
     "data": {
      "application/vnd.jupyter.widget-view+json": {
       "model_id": "80fcf37c9dac41f0b3796abd6a518832",
       "version_major": 2,
       "version_minor": 0
      },
      "text/plain": [
       "HBox(children=(FloatProgress(value=0.0, max=471.0), HTML(value='')))"
      ]
     },
     "metadata": {},
     "output_type": "display_data"
    },
    {
     "name": "stdout",
     "output_type": "stream",
     "text": [
      "\n",
      "CPU times: user 2.73 s, sys: 3.86 s, total: 6.59 s\n",
      "Wall time: 4.25 s\n"
     ]
    }
   ],
   "source": [
    "%%time\n",
    "data_files = glob.glob(\"../data/returns/ticker_daily_rv/*.feather\")\n",
    "\n",
    "ticker_dfs = []\n",
    "for ticker_df in tqdm(map(pd.read_feather, data_files), total = len(data_files)):\n",
    "    # Magic number for the number of observations each file should have\n",
    "    if len(ticker_df) == 1447:\n",
    "        ticker_dfs.append(ticker_df)\n",
    "\n",
    "data_rv_df = pd.concat(ticker_dfs).reset_index(drop = True)"
   ]
  },
  {
   "cell_type": "markdown",
   "metadata": {},
   "source": [
    "# Clean Data"
   ]
  },
  {
   "cell_type": "markdown",
   "metadata": {},
   "source": [
    "## Additional Vars"
   ]
  },
  {
   "cell_type": "code",
   "execution_count": 47,
   "metadata": {},
   "outputs": [],
   "source": [
    "data_rv_df['1'] = 1\n",
    "data_rv_df['rvol'] = np.sqrt(data_rv_df['rv'])"
   ]
  },
  {
   "cell_type": "code",
   "execution_count": 48,
   "metadata": {},
   "outputs": [],
   "source": [
    "# Drop nee\n",
    "data_rv_df = data_rv_df.query('ticker != \"NEE\"').copy()"
   ]
  },
  {
   "cell_type": "markdown",
   "metadata": {},
   "source": [
    "## Lagged Measures"
   ]
  },
  {
   "cell_type": "code",
   "execution_count": 49,
   "metadata": {},
   "outputs": [],
   "source": [
    "data_rv_df = data_rv_df.sort_values(by = ['ticker', 'date'])\n",
    "\n",
    "# Signed Jump variants\n",
    "data_rv_df['sgn_jump_var_pos'] = data_rv_df['sgn_jump_var']*(data_rv_df['sgn_jump_var'] > 0)\n",
    "data_rv_df['sgn_jump_var_neg'] = data_rv_df['sgn_jump_var']*(data_rv_df['sgn_jump_var'] < 0)\n",
    "\n",
    "data_rv_df['rq'] = data_rv_df['return_p4']/3\n",
    "data_rv_df['sqrt_rq'] = np.sqrt(data_rv_df['rq'])\n",
    "\n",
    "data_rv_df['year'] = data_rv_df['date'].dt.year"
   ]
  },
  {
   "cell_type": "code",
   "execution_count": 50,
   "metadata": {},
   "outputs": [],
   "source": [
    "# Lags\n",
    "data_rv_df[\"rv_d_lag_1\"] = data_rv_df[\"return_d_p2\"].shift(1)\n",
    "data_rv_df[\"rv_d_lag_m5\"] = data_rv_df[\"rv_lag_1\"].rolling(5).mean()\n",
    "data_rv_df[\"rv_d_lag_m22\"] = data_rv_df[\"rv_lag_1\"].rolling(22).mean()"
   ]
  },
  {
   "cell_type": "code",
   "execution_count": 51,
   "metadata": {},
   "outputs": [
    {
     "data": {
      "application/vnd.jupyter.widget-view+json": {
       "model_id": "f6f3953b520645648ec0911e690421f8",
       "version_major": 2,
       "version_minor": 0
      },
      "text/plain": [
       "HBox(children=(FloatProgress(value=0.0, max=17.0), HTML(value='')))"
      ]
     },
     "metadata": {},
     "output_type": "display_data"
    },
    {
     "name": "stdout",
     "output_type": "stream",
     "text": [
      "\n"
     ]
    }
   ],
   "source": [
    "lag_coeff_cols = [\n",
    "    \"return_j_pos\",\n",
    "    \"return_j_neg\",\n",
    "    \"return_d_pos\",\n",
    "    \"return_d_neg\",\n",
    "    \"sum_jump_p2_1\",\n",
    "    \"sum_jump_p2_5\",\n",
    "    \"sum_jump_p2_22\",\n",
    "    \"sum_jump_p2_pos_1\",\n",
    "    \"sum_jump_p2_pos_5\",\n",
    "    \"sum_jump_p2_pos_22\",\n",
    "    \"sum_jump_p2_neg_1\",\n",
    "    \"sum_jump_p2_neg_5\",\n",
    "    \"sum_jump_p2_neg_22\",\n",
    "    \"sgn_jump_var\",\n",
    "    \"sgn_jump_var_pos\",\n",
    "    \"sgn_jump_var_neg\",\n",
    "    \"sqrt_rq\",\n",
    "]\n",
    "\n",
    "interact_cols = [\n",
    "    \"rv_lag_1\",\n",
    "    \"rv_lag_m5\",\n",
    "    \"rv_lag_m22\",\n",
    "    \"rv_d_lag_1\",\n",
    "    \"rv_d_lag_m5\",\n",
    "    \"rv_d_lag_m22\",\n",
    "]\n",
    "\n",
    "for col in tqdm(lag_coeff_cols):\n",
    "    data_rv_df[col + \"_lag_1\"] = data_rv_df.groupby(\"ticker\")[col].shift(1)\n",
    "\n",
    "    for icol in interact_cols:\n",
    "        data_rv_df[f\"{icol}:{col}_lag_1\"] = np.multiply(\n",
    "            data_rv_df[icol], data_rv_df[col + \"_lag_1\"]\n",
    "        )"
   ]
  },
  {
   "cell_type": "markdown",
   "metadata": {},
   "source": [
    "# Rolling Beta"
   ]
  },
  {
   "cell_type": "code",
   "execution_count": 52,
   "metadata": {},
   "outputs": [],
   "source": [
    "# Window length\n",
    "window = 66\n",
    "\n",
    "# Regression\n",
    "reg_formula = 'rv ~ rv_lag_1 + rv_lag_m5 + rv_lag_m22'\n",
    "var_list = reg_formula.replace('+', ' ').replace('~', ' ').split()"
   ]
  },
  {
   "cell_type": "code",
   "execution_count": 53,
   "metadata": {},
   "outputs": [],
   "source": [
    "def fit_rolling_regression(ticker):\n",
    "\n",
    "    reg_df = (\n",
    "        data_rv_df.query(\"ticker == @ticker\")\n",
    "        .sort_values(by=\"date\")[[\"date\"] + var_list]\n",
    "        .dropna()\n",
    "        .set_index('date')\n",
    "    )\n",
    "    fit = RollingOLS.from_formula(reg_formula, reg_df, window).fit(\n",
    "        method=\"pinv\", params_only=True\n",
    "    )\n",
    "\n",
    "    fit_params_df = fit.params\n",
    "    fit_params_df[\"ticker\"] = ticker\n",
    "\n",
    "    return fit_params_df.reset_index()"
   ]
  },
  {
   "cell_type": "code",
   "execution_count": 54,
   "metadata": {},
   "outputs": [
    {
     "data": {
      "application/vnd.jupyter.widget-view+json": {
       "model_id": "4d25a9121ada4bb98dcf8efd0b36d75e",
       "version_major": 2,
       "version_minor": 0
      },
      "text/plain": [
       "HBox(children=(FloatProgress(value=0.0, max=454.0), HTML(value='')))"
      ]
     },
     "metadata": {},
     "output_type": "display_data"
    },
    {
     "name": "stdout",
     "output_type": "stream",
     "text": [
      "\n",
      "CPU times: user 734 ms, sys: 2.64 s, total: 3.38 s\n",
      "Wall time: 1min 11s\n"
     ]
    }
   ],
   "source": [
    "%%time\n",
    "# Run HARs\n",
    "tickers = data_rv_df[\n",
    "    \"ticker\"\n",
    "].unique()  \n",
    "results = []\n",
    "\n",
    "with Pool(8) as p:\n",
    "    for fit_params_df in tqdm(\n",
    "        p.imap_unordered(fit_rolling_regression, tickers, chunksize=30),\n",
    "        total=len(tickers),\n",
    "    ):\n",
    "        results.append(fit_params_df)\n",
    "\n",
    "rolling_beta_df = pd.concat(results)"
   ]
  },
  {
   "cell_type": "code",
   "execution_count": 55,
   "metadata": {},
   "outputs": [],
   "source": [
    "coeff_cols = [\"rv_lag_1\", \"rv_lag_m5\", \"rv_lag_m22\"]\n",
    "data_rv_df = data_rv_df.merge(\n",
    "    rolling_beta_df.rename(columns={x: (x + \"_rollcoeff\") for x in coeff_cols}).drop(\n",
    "        \"Intercept\", axis=1\n",
    "    ),\n",
    "    on=[\"date\", \"ticker\"], how = 'left'\n",
    ")"
   ]
  },
  {
   "cell_type": "code",
   "execution_count": 56,
   "metadata": {},
   "outputs": [
    {
     "data": {
      "text/plain": [
       "<AxesSubplot:xlabel='date'>"
      ]
     },
     "execution_count": 56,
     "metadata": {},
     "output_type": "execute_result"
    },
    {
     "data": {
      "image/png": "[encoded data removed]",
      "text/plain": [
       "<Figure size 432x288 with 1 Axes>"
      ]
     },
     "metadata": {},
     "output_type": "display_data"
    }
   ],
   "source": [
    "data_rv_df.query('ticker == \"AAPL\"').plot(x = 'date', y = 'rv_lag_1_rollcoeff')"
   ]
  },
  {
   "cell_type": "markdown",
   "metadata": {},
   "source": [
    "# Forecast Analysis"
   ]
  },
  {
   "cell_type": "markdown",
   "metadata": {},
   "source": [
    "## Forecast Funcs"
   ]
  },
  {
   "cell_type": "code",
   "execution_count": 57,
   "metadata": {},
   "outputs": [],
   "source": [
    "from numba.core.errors import NumbaPerformanceWarning\n",
    "import warnings\n",
    "\n",
    "warnings.simplefilter('ignore', category=NumbaPerformanceWarning)\n",
    "\n",
    "## Numba functions, about 90 times faster than usual ones\n",
    "@jit(nopython = True)\n",
    "def numba_ols(y, x):\n",
    "    beta_hat = np.linalg.pinv(x.T @ x) @ (x.T @ y)\n",
    "    return beta_hat\n",
    "\n",
    "# Compile by running on some random data\n",
    "numba_ols(np.random.normal(0,1,(100,1)), np.random.normal(0,1,(100,3)));"
   ]
  },
  {
   "cell_type": "code",
   "execution_count": 58,
   "metadata": {},
   "outputs": [],
   "source": [
    "# def get_forecast_error_ols(ticker_rv_df, endog_vars, exog_vars, window, skip_rows):\n",
    "\n",
    "#     # Set up regression dataframe\n",
    "#     exog_vars = [x.strip() for x in exog_vars.replace('\\n', '').split('+')]\n",
    "#     reg_data_df = ticker_rv_df[[endog_vars] + exog_vars].iloc[(skip_rows-1):,:].reset_index(drop = True)\n",
    "\n",
    "#     if np.any(reg_data_df.isna()):\n",
    "#         print(np.any(reg_data_df.isna(), axis = 0))\n",
    "#         raise Exception('NA Values in reg data')\n",
    "\n",
    "#     end_index = len(reg_data_df)\n",
    "#     reg_data_array = reg_data_df.values\n",
    "#     forecast_loss_array = []\n",
    "\n",
    "#     is_switch_estimator = 'switch' in ''.join(exog_vars)\n",
    "#     is_jump_estimator = 'jump' in ''.join(exog_vars)\n",
    "    \n",
    "#     for i in range(0, end_index-window+1):\n",
    "\n",
    "#         reg_data_array_splice = np.asfortranarray(reg_data_array[i:(i+window),:])\n",
    "\n",
    "#         # Regress on winow-1 observations\n",
    "#         train_endog, train_exog = reg_data_array_splice[:(window-1),0], reg_data_array_splice[:(window-1),1:]\n",
    "\n",
    "#         # Testing observations\n",
    "#         test_endog, test_exog = reg_data_array_splice[-1,0], reg_data_array_splice[-1,1:]\n",
    "\n",
    "#         # Regress and get forecast error\n",
    "#         forecast = test_exog @ numba_ols(train_endog, train_exog) \n",
    "#         if is_switch_estimator or is_jump_estimator:\n",
    "#             forecast = np.max([np.min(train_endog), forecast])\n",
    "#             forecast = np.min([np.max(train_endog), forecast])\n",
    "# #         forecast_loss = np.square(test_endog - forecast)\n",
    "#         forecast_loss = np.log(np.max([forecast, 4e-7])) + test_endog/np.max([forecast, 4e-7])\n",
    "#         forecast_loss_array.append(forecast_loss)\n",
    "        \n",
    "#     return forecast_loss_array"
   ]
  },
  {
   "cell_type": "code",
   "execution_count": 242,
   "metadata": {},
   "outputs": [],
   "source": [
    "@jit(nopython = True)\n",
    "def est_forecast_loss(reg_data_array, window, end_index, use_insanity_filter, is_switch):\n",
    "    \n",
    "    forecast_loss_array = []\n",
    "    \n",
    "    for i in range(0, end_index-window+1):\n",
    "        \n",
    "        reg_data_array_splice = np.asfortranarray(reg_data_array[i:(i+window),:])\n",
    "\n",
    "        # Regress on winow-1 observations\n",
    "        train_endog, train_exog = reg_data_array_splice[:(window-1),0], reg_data_array_splice[:(window-1),1:]\n",
    "\n",
    "        # Testing observations\n",
    "        test_endog, test_exog = reg_data_array_splice[-1,0], reg_data_array_splice[-1,1:]\n",
    "\n",
    "        # Regress and get forecast error\n",
    "        forecast = test_exog @ numba_ols(train_endog, train_exog) \n",
    "        if is_switch:\n",
    "            forecast = np.max(np.array([np.min(train_endog), forecast]))\n",
    "            forecast = np.min(np.array([np.max(train_endog), forecast]))\n",
    "        else:\n",
    "            if use_insanity_filter:\n",
    "                if (forecast > np.max(train_endog)) or (forecast < np.min(train_endog)):\n",
    "                    forecast = np.mean(train_endog)\n",
    "\n",
    "        # MSE\n",
    "#         forecast_loss = np.square(test_endog - forecast)\n",
    "        \n",
    "        # QLIKE\n",
    "        train_endog_min = np.min(train_endog)\n",
    "        forecast = np.max(np.array([1e-5, forecast]))\n",
    "        forecast_loss = np.log(forecast) + test_endog/forecast - np.log(test_endog) -1\n",
    "        \n",
    "        forecast_loss_array.append(forecast_loss)\n",
    "        \n",
    "    return forecast_loss_array\n",
    "\n",
    "def get_forecast_error_ols(ticker_rv_df, endog_vars, exog_vars, window, skip_rows):\n",
    "\n",
    "    # Set up regression dataframe\n",
    "    exog_vars = [x.strip() for x in exog_vars.replace('\\n', '').split('+')]\n",
    "    reg_data_df = ticker_rv_df[[endog_vars] + exog_vars].iloc[(skip_rows):,:].reset_index(drop = True)\n",
    "\n",
    "    if np.any(reg_data_df.isna()):\n",
    "        print(np.any(reg_data_df.isna(), axis = 0))\n",
    "        raise Exception('NA Values in reg data')\n",
    "\n",
    "    end_index = len(reg_data_df)\n",
    "    reg_data_array = reg_data_df.values\n",
    "\n",
    "#     use_insanity_filter = True\n",
    "    is_switch = 'switch' in ''.join(exog_vars)\n",
    "    use_insanity_filter = (('switch' in ''.join(exog_vars)) \n",
    "                           or ('jump' in ''.join(exog_vars))  \n",
    "                           or ('rq' in ''.join(exog_vars))\n",
    "                          )\n",
    "    \n",
    "    output = est_forecast_loss(reg_data_array, window, end_index, use_insanity_filter, is_switch)\n",
    "        \n",
    "    return output\n",
    "\n",
    "# Run once to compile\n",
    "_ = get_forecast_error_ols(data_rv_df.query('ticker == \"AMZN\"'), \n",
    "                           'rv', '1 + rv_lag_1', 250, 50)"
   ]
  },
  {
   "cell_type": "markdown",
   "metadata": {},
   "source": [
    "## Set up switch"
   ]
  },
  {
   "cell_type": "code",
   "execution_count": 243,
   "metadata": {},
   "outputs": [],
   "source": [
    "data_rv_df[\"persistence\"] = (\n",
    "    data_rv_df[\"rv_lag_1_rollcoeff\"]\n",
    "    + data_rv_df[\"rv_lag_m5_rollcoeff\"]\n",
    "    + data_rv_df[\"rv_lag_m22_rollcoeff\"]\n",
    ")\n"
   ]
  },
  {
   "cell_type": "code",
   "execution_count": 244,
   "metadata": {},
   "outputs": [
    {
     "data": {
      "text/plain": [
       "[<matplotlib.lines.Line2D at 0x7fcab9a71dd8>]"
      ]
     },
     "execution_count": 244,
     "metadata": {},
     "output_type": "execute_result"
    },
    {
     "data": {
      "image/png": "[encoded data removed]",
      "text/plain": [
       "<Figure size 432x288 with 1 Axes>"
      ]
     },
     "metadata": {},
     "output_type": "display_data"
    }
   ],
   "source": [
    "plt.plot(data_rv_df.query('ticker == \"AAPL\"')['persistence'].clip(-3, 3))"
   ]
  },
  {
   "cell_type": "code",
   "execution_count": 245,
   "metadata": {},
   "outputs": [],
   "source": [
    "data_rv_df[\"indicator_high_beta\"] = data_rv_df[\"persistence\"].clip(-3, 3) > 0.6\n",
    "data_rv_df[\"switch\"] = (\n",
    "    data_rv_df.groupby(\"ticker\")[\"indicator_high_beta\"]\n",
    "    .rolling(22)\n",
    "    .mean()\n",
    "    .reset_index(drop=True)\n",
    ")\n",
    "data_rv_df[\"switch_lag_1\"] = (\n",
    "    data_rv_df.groupby(\"ticker\")[\"switch\"].shift(1).reset_index(drop=True)\n",
    ")"
   ]
  },
  {
   "cell_type": "code",
   "execution_count": 246,
   "metadata": {},
   "outputs": [
    {
     "data": {
      "text/plain": [
       "<AxesSubplot:xlabel='date', ylabel='switch'>"
      ]
     },
     "execution_count": 246,
     "metadata": {},
     "output_type": "execute_result"
    },
    {
     "data": {
      "image/png": "[encoded data removed]",
      "text/plain": [
       "<Figure size 432x288 with 1 Axes>"
      ]
     },
     "metadata": {},
     "output_type": "display_data"
    }
   ],
   "source": [
    "sns.lineplot(x = 'date', y = 'switch', data = data_rv_df.query('ticker == \"AMZN\"'))"
   ]
  },
  {
   "cell_type": "code",
   "execution_count": 247,
   "metadata": {},
   "outputs": [
    {
     "data": {
      "application/vnd.jupyter.widget-view+json": {
       "model_id": "39150613ee5e4ae3878b8e30ea99b683",
       "version_major": 2,
       "version_minor": 0
      },
      "text/plain": [
       "HBox(children=(FloatProgress(value=0.0, max=10.0), HTML(value='')))"
      ]
     },
     "metadata": {},
     "output_type": "display_data"
    },
    {
     "name": "stdout",
     "output_type": "stream",
     "text": [
      "\n"
     ]
    }
   ],
   "source": [
    "data_rv_df['switchn'] = 1 - data_rv_df['switch']\n",
    "data_rv_df['switchn_lag_1'] = 1 - data_rv_df['switch_lag_1']\n",
    "data_rv_df['bv_lag_1'] = data_rv_df.groupby('ticker')['bipower_var_daily'].shift(1)\n",
    "data_rv_df['sgn_jump_var_pos_lag_1']  = data_rv_df['sgn_jump_var_lag_1']*(data_rv_df['sgn_jump_var_pos_lag_1'] > 0)\n",
    "data_rv_df['sgn_jump_var_neg_lag_1']  = data_rv_df['sgn_jump_var_lag_1']*(data_rv_df['sgn_jump_var_neg_lag_1'] < 0)\n",
    "\n",
    "interact_cols = [\n",
    "    'rv_lag_1',\n",
    "    'rv_lag_m5',\n",
    "    'rv_lag_m22',\n",
    "    'rv_d_lag_1',\n",
    "    'rv_d_lag_m5',\n",
    "    'rv_d_lag_m22',\n",
    "    'bv_lag_1',\n",
    "    'rv_lag_1:sqrt_rq_lag_1',\n",
    "    'rv_lag_m5:sqrt_rq_lag_1',\n",
    "    'rv_lag_m22:sqrt_rq_lag_1',\n",
    "]\n",
    "\n",
    "for col in tqdm(interact_cols):\n",
    "    data_rv_df[f'{col}:switchn_lag_1'] = data_rv_df[col]*data_rv_df['switchn_lag_1']"
   ]
  },
  {
   "cell_type": "markdown",
   "metadata": {},
   "source": [
    "## Performance"
   ]
  },
  {
   "cell_type": "markdown",
   "metadata": {},
   "source": [
    "### Regressions"
   ]
  },
  {
   "cell_type": "code",
   "execution_count": 248,
   "metadata": {},
   "outputs": [],
   "source": [
    "# Params\n",
    "window = 250\n",
    "skip_rows = 44\n",
    "endog_vars = 'rv'"
   ]
  },
  {
   "cell_type": "code",
   "execution_count": 249,
   "metadata": {},
   "outputs": [],
   "source": [
    "exog_vars_list = [\n",
    "'''\n",
    "1 + rv_lag_1\n",
    "+ rv_lag_m5\n",
    "+ rv_lag_m22\n",
    "''',\n",
    "# '''\n",
    "# 1 + rv_lag_1\n",
    "# + rv_lag_1:sqrt_rq_lag_1\n",
    "# + rv_lag_m5\n",
    "# + rv_lag_m22\n",
    "# ''',\n",
    "# '''\n",
    "# 1 + sgn_jump_var_pos_lag_1 + sgn_jump_var_pos_lag_1 + bv_lag_1 +\n",
    "# rv_lag_m5 + rv_lag_m22\n",
    "# ''',\n",
    "'''\n",
    "1 + switchn_lag_1 \n",
    "+ rv_lag_1 + rv_lag_1:switchn_lag_1 + \n",
    "rv_lag_m5:switchn_lag_1 + rv_lag_m22:switchn_lag_1\n",
    "''',\n",
    "# '''\n",
    "# 1 + switchn_lag_1 \n",
    "# + rv_lag_1 + rv_lag_1:switchn_lag_1 + \n",
    "# rv_lag_m5 + rv_lag_m5:switchn_lag_1 + \n",
    "# rv_lag_m22 + rv_lag_m22:switchn_lag_1\n",
    "# ''',\n",
    "# '''\n",
    "# 1 + switchn_lag_1 + sgn_jump_var_lag_1 \n",
    "# + bv_lag_1 + bv_lag_1:switchn_lag_1 + \n",
    "# rv_lag_m5:switchn_lag_1\n",
    "# '''\n",
    "]"
   ]
  },
  {
   "cell_type": "code",
   "execution_count": 250,
   "metadata": {},
   "outputs": [],
   "source": [
    "data_tickers_rv_df = data_rv_df.set_index('ticker').copy()\n",
    "ticker_list = list(data_tickers_rv_df.index.unique())"
   ]
  },
  {
   "cell_type": "code",
   "execution_count": 251,
   "metadata": {},
   "outputs": [],
   "source": [
    "def temp_f(ticker):\n",
    "\n",
    "    ticker_rv_df = data_tickers_rv_df.loc[ticker, :]\n",
    "        \n",
    "    forecast_loss_list = []\n",
    "    for exog_vars in exog_vars_list:\n",
    "        \n",
    "        try:\n",
    "            forecast_loss = (\n",
    "                get_forecast_error_ols(ticker_rv_df, endog_vars, exog_vars, window, skip_rows)\n",
    "            )\n",
    "        except:\n",
    "            raise Exception(f'Issue with {ticker} and\\n{exog_vars}')\n",
    "        forecast_loss_list.append(forecast_loss)\n",
    "        \n",
    "    return [ticker] + [forecast_loss_list]"
   ]
  },
  {
   "cell_type": "code",
   "execution_count": 252,
   "metadata": {},
   "outputs": [
    {
     "data": {
      "application/vnd.jupyter.widget-view+json": {
       "model_id": "83448ee89d9943249ac4af4fbfe51ec7",
       "version_major": 2,
       "version_minor": 0
      },
      "text/plain": [
       "HBox(children=(FloatProgress(value=0.0, max=454.0), HTML(value='')))"
      ]
     },
     "metadata": {},
     "output_type": "display_data"
    },
    {
     "name": "stdout",
     "output_type": "stream",
     "text": [
      "\n",
      "CPU times: user 93.8 ms, sys: 4.53 s, total: 4.62 s\n",
      "Wall time: 10 s\n"
     ]
    }
   ],
   "source": [
    "%%time\n",
    "ols_reg_results = []\n",
    "\n",
    "with Pool(8) as p:\n",
    "\n",
    "    for result in tqdm(\n",
    "        p.imap_unordered(temp_f, ticker_list, chunksize = 25), total=len(ticker_list)\n",
    "    ):\n",
    "        ols_reg_results.append(result)"
   ]
  },
  {
   "cell_type": "markdown",
   "metadata": {},
   "source": [
    "### Format Reg Results"
   ]
  },
  {
   "cell_type": "code",
   "execution_count": 253,
   "metadata": {},
   "outputs": [
    {
     "data": {
      "text/html": [
       "<div>\n",
       "<style scoped>\n",
       "    .dataframe tbody tr th:only-of-type {\n",
       "        vertical-align: middle;\n",
       "    }\n",
       "\n",
       "    .dataframe tbody tr th {\n",
       "        vertical-align: top;\n",
       "    }\n",
       "\n",
       "    .dataframe thead th {\n",
       "        text-align: right;\n",
       "    }\n",
       "</style>\n",
       "<table border=\"1\" class=\"dataframe\">\n",
       "  <thead>\n",
       "    <tr style=\"text-align: right;\">\n",
       "      <th></th>\n",
       "      <th>ticker</th>\n",
       "      <th>forecast_error_results</th>\n",
       "      <th>forecast_error_means</th>\n",
       "      <th>forecast_error_medians</th>\n",
       "      <th>har_mean</th>\n",
       "      <th>har_ls_mean</th>\n",
       "      <th>har_median</th>\n",
       "      <th>har_ls_median</th>\n",
       "    </tr>\n",
       "  </thead>\n",
       "  <tbody>\n",
       "    <tr>\n",
       "      <th>0</th>\n",
       "      <td>CCI</td>\n",
       "      <td>[[0.0012058383520514582, 0.14751357164655055, ...</td>\n",
       "      <td>[0.5455378891899508, 0.20487562891269745]</td>\n",
       "      <td>[0.06164501933046118, 0.07253861447410781]</td>\n",
       "      <td>0.545538</td>\n",
       "      <td>0.204876</td>\n",
       "      <td>0.061645</td>\n",
       "      <td>0.072539</td>\n",
       "    </tr>\n",
       "    <tr>\n",
       "      <th>1</th>\n",
       "      <td>CCL</td>\n",
       "      <td>[[0.0068102958346925035, 0.01674159409853715, ...</td>\n",
       "      <td>[0.8354205753018833, 0.39114672353313823]</td>\n",
       "      <td>[0.07871141853705743, 0.09188780500474447]</td>\n",
       "      <td>0.835421</td>\n",
       "      <td>0.391147</td>\n",
       "      <td>0.078711</td>\n",
       "      <td>0.091888</td>\n",
       "    </tr>\n",
       "    <tr>\n",
       "      <th>2</th>\n",
       "      <td>CDNS</td>\n",
       "      <td>[[0.19468526910920403, 0.03297391390951354, 0....</td>\n",
       "      <td>[0.34673449466921885, 0.18842287133374866]</td>\n",
       "      <td>[0.06211851530422896, 0.07389695173905331]</td>\n",
       "      <td>0.346734</td>\n",
       "      <td>0.188423</td>\n",
       "      <td>0.062119</td>\n",
       "      <td>0.073897</td>\n",
       "    </tr>\n",
       "    <tr>\n",
       "      <th>3</th>\n",
       "      <td>CDW</td>\n",
       "      <td>[[0.035619610401105284, 0.201385470031334, 0.0...</td>\n",
       "      <td>[0.4941260487351148, 0.18678064713354886]</td>\n",
       "      <td>[0.05930446724131988, 0.06628940835139563]</td>\n",
       "      <td>0.494126</td>\n",
       "      <td>0.186781</td>\n",
       "      <td>0.059304</td>\n",
       "      <td>0.066289</td>\n",
       "    </tr>\n",
       "    <tr>\n",
       "      <th>4</th>\n",
       "      <td>CE</td>\n",
       "      <td>[[0.2176985504030764, 0.006937663530911742, 0....</td>\n",
       "      <td>[0.45572240092617433, 0.17372318301625114]</td>\n",
       "      <td>[0.059193379193341666, 0.06675084400949638]</td>\n",
       "      <td>0.455722</td>\n",
       "      <td>0.173723</td>\n",
       "      <td>0.059193</td>\n",
       "      <td>0.066751</td>\n",
       "    </tr>\n",
       "    <tr>\n",
       "      <th>...</th>\n",
       "      <td>...</td>\n",
       "      <td>...</td>\n",
       "      <td>...</td>\n",
       "      <td>...</td>\n",
       "      <td>...</td>\n",
       "      <td>...</td>\n",
       "      <td>...</td>\n",
       "      <td>...</td>\n",
       "    </tr>\n",
       "    <tr>\n",
       "      <th>449</th>\n",
       "      <td>XLNX</td>\n",
       "      <td>[[0.18433062218604945, 0.006431588222262086, 0...</td>\n",
       "      <td>[0.20976532038210982, 0.23682550897058036]</td>\n",
       "      <td>[0.07862617410528516, 0.08469235823626642]</td>\n",
       "      <td>0.209765</td>\n",
       "      <td>0.236826</td>\n",
       "      <td>0.078626</td>\n",
       "      <td>0.084692</td>\n",
       "    </tr>\n",
       "    <tr>\n",
       "      <th>450</th>\n",
       "      <td>XOM</td>\n",
       "      <td>[[0.007438772507120994, 0.011337026542888928, ...</td>\n",
       "      <td>[1.0474066484028255, 0.4517474230444368]</td>\n",
       "      <td>[0.05861492875039609, 0.07198772131993003]</td>\n",
       "      <td>1.047407</td>\n",
       "      <td>0.451747</td>\n",
       "      <td>0.058615</td>\n",
       "      <td>0.071988</td>\n",
       "    </tr>\n",
       "    <tr>\n",
       "      <th>451</th>\n",
       "      <td>XRAY</td>\n",
       "      <td>[[0.1901893302634008, 0.0009559873904185778, 0...</td>\n",
       "      <td>[0.23126384079700793, 0.1892166586716687]</td>\n",
       "      <td>[0.06276065699911548, 0.0622224105527609]</td>\n",
       "      <td>0.231264</td>\n",
       "      <td>0.189217</td>\n",
       "      <td>0.062761</td>\n",
       "      <td>0.062222</td>\n",
       "    </tr>\n",
       "    <tr>\n",
       "      <th>452</th>\n",
       "      <td>XRX</td>\n",
       "      <td>[[0.0017839696397272675, 0.015209416724729863,...</td>\n",
       "      <td>[1.6197044594838619, 0.3386237765859707]</td>\n",
       "      <td>[0.07052294723704478, 0.08035864377818314]</td>\n",
       "      <td>1.619704</td>\n",
       "      <td>0.338624</td>\n",
       "      <td>0.070523</td>\n",
       "      <td>0.080359</td>\n",
       "    </tr>\n",
       "    <tr>\n",
       "      <th>453</th>\n",
       "      <td>XYL</td>\n",
       "      <td>[[0.33898261190245194, 0.09642179217886238, 0....</td>\n",
       "      <td>[0.3006612436086015, 0.15869135161001935]</td>\n",
       "      <td>[0.060701638873816854, 0.06015441934905308]</td>\n",
       "      <td>0.300661</td>\n",
       "      <td>0.158691</td>\n",
       "      <td>0.060702</td>\n",
       "      <td>0.060154</td>\n",
       "    </tr>\n",
       "  </tbody>\n",
       "</table>\n",
       "<p>454 rows × 8 columns</p>\n",
       "</div>"
      ],
      "text/plain": [
       "    ticker                             forecast_error_results  \\\n",
       "0      CCI  [[0.0012058383520514582, 0.14751357164655055, ...   \n",
       "1      CCL  [[0.0068102958346925035, 0.01674159409853715, ...   \n",
       "2     CDNS  [[0.19468526910920403, 0.03297391390951354, 0....   \n",
       "3      CDW  [[0.035619610401105284, 0.201385470031334, 0.0...   \n",
       "4       CE  [[0.2176985504030764, 0.006937663530911742, 0....   \n",
       "..     ...                                                ...   \n",
       "449   XLNX  [[0.18433062218604945, 0.006431588222262086, 0...   \n",
       "450    XOM  [[0.007438772507120994, 0.011337026542888928, ...   \n",
       "451   XRAY  [[0.1901893302634008, 0.0009559873904185778, 0...   \n",
       "452    XRX  [[0.0017839696397272675, 0.015209416724729863,...   \n",
       "453    XYL  [[0.33898261190245194, 0.09642179217886238, 0....   \n",
       "\n",
       "                           forecast_error_means  \\\n",
       "0     [0.5455378891899508, 0.20487562891269745]   \n",
       "1     [0.8354205753018833, 0.39114672353313823]   \n",
       "2    [0.34673449466921885, 0.18842287133374866]   \n",
       "3     [0.4941260487351148, 0.18678064713354886]   \n",
       "4    [0.45572240092617433, 0.17372318301625114]   \n",
       "..                                          ...   \n",
       "449  [0.20976532038210982, 0.23682550897058036]   \n",
       "450    [1.0474066484028255, 0.4517474230444368]   \n",
       "451   [0.23126384079700793, 0.1892166586716687]   \n",
       "452    [1.6197044594838619, 0.3386237765859707]   \n",
       "453   [0.3006612436086015, 0.15869135161001935]   \n",
       "\n",
       "                          forecast_error_medians  har_mean  har_ls_mean  \\\n",
       "0     [0.06164501933046118, 0.07253861447410781]  0.545538     0.204876   \n",
       "1     [0.07871141853705743, 0.09188780500474447]  0.835421     0.391147   \n",
       "2     [0.06211851530422896, 0.07389695173905331]  0.346734     0.188423   \n",
       "3     [0.05930446724131988, 0.06628940835139563]  0.494126     0.186781   \n",
       "4    [0.059193379193341666, 0.06675084400949638]  0.455722     0.173723   \n",
       "..                                           ...       ...          ...   \n",
       "449   [0.07862617410528516, 0.08469235823626642]  0.209765     0.236826   \n",
       "450   [0.05861492875039609, 0.07198772131993003]  1.047407     0.451747   \n",
       "451    [0.06276065699911548, 0.0622224105527609]  0.231264     0.189217   \n",
       "452   [0.07052294723704478, 0.08035864377818314]  1.619704     0.338624   \n",
       "453  [0.060701638873816854, 0.06015441934905308]  0.300661     0.158691   \n",
       "\n",
       "     har_median  har_ls_median  \n",
       "0      0.061645       0.072539  \n",
       "1      0.078711       0.091888  \n",
       "2      0.062119       0.073897  \n",
       "3      0.059304       0.066289  \n",
       "4      0.059193       0.066751  \n",
       "..          ...            ...  \n",
       "449    0.078626       0.084692  \n",
       "450    0.058615       0.071988  \n",
       "451    0.062761       0.062222  \n",
       "452    0.070523       0.080359  \n",
       "453    0.060702       0.060154  \n",
       "\n",
       "[454 rows x 8 columns]"
      ]
     },
     "execution_count": 253,
     "metadata": {},
     "output_type": "execute_result"
    }
   ],
   "source": [
    "# Formatted results\n",
    "reg_names = [\n",
    "    'har', \n",
    "#     'harq', \n",
    "#     'har_sgn_bv',\n",
    "    'har_ls',\n",
    "#     'har_ls_extend',\n",
    "]\n",
    "\n",
    "results_df = pd.DataFrame(ols_reg_results, \n",
    "                          columns = ['ticker', 'forecast_error_results']).set_index('ticker')\n",
    "\n",
    "results_df[\"forecast_error_means\"] = (\n",
    "    results_df[\"forecast_error_results\"]\n",
    "    .apply(lambda x: np.mean(np.array(x), axis=1))\n",
    "    .values\n",
    ")\n",
    "results_df[\"forecast_error_medians\"] = (\n",
    "    results_df[\"forecast_error_results\"]\n",
    "    .apply(lambda x: np.median(np.array(x), axis=1))\n",
    "    .values\n",
    ")\n",
    "\n",
    "results_df[[x + '_mean' for x in reg_names]] = results_df['forecast_error_means'].apply(pd.Series)\n",
    "results_df[[x + '_median' for x in reg_names]] = results_df['forecast_error_medians'].apply(pd.Series)\n",
    "\n",
    "results_df = results_df.reset_index()\n",
    "results_df"
   ]
  },
  {
   "cell_type": "markdown",
   "metadata": {},
   "source": [
    "### Descriptive Stats"
   ]
  },
  {
   "cell_type": "code",
   "execution_count": 254,
   "metadata": {},
   "outputs": [
    {
     "data": {
      "text/html": [
       "<div>\n",
       "<style scoped>\n",
       "    .dataframe tbody tr th:only-of-type {\n",
       "        vertical-align: middle;\n",
       "    }\n",
       "\n",
       "    .dataframe tbody tr th {\n",
       "        vertical-align: top;\n",
       "    }\n",
       "\n",
       "    .dataframe thead th {\n",
       "        text-align: right;\n",
       "    }\n",
       "</style>\n",
       "<table border=\"1\" class=\"dataframe\">\n",
       "  <thead>\n",
       "    <tr style=\"text-align: right;\">\n",
       "      <th></th>\n",
       "      <th>0</th>\n",
       "    </tr>\n",
       "  </thead>\n",
       "  <tbody>\n",
       "    <tr>\n",
       "      <th>forecast_error_means</th>\n",
       "      <td>0.494764</td>\n",
       "    </tr>\n",
       "    <tr>\n",
       "      <th>har_mean</th>\n",
       "      <td>0.494764</td>\n",
       "    </tr>\n",
       "    <tr>\n",
       "      <th>har_ls_mean</th>\n",
       "      <td>0.253990</td>\n",
       "    </tr>\n",
       "  </tbody>\n",
       "</table>\n",
       "</div>"
      ],
      "text/plain": [
       "                             0\n",
       "forecast_error_means  0.494764\n",
       "har_mean              0.494764\n",
       "har_ls_mean           0.253990"
      ]
     },
     "execution_count": 254,
     "metadata": {},
     "output_type": "execute_result"
    }
   ],
   "source": [
    "results_mean_mean = pd.DataFrame(\n",
    "    results_df[[x for x in results_df.columns if \"mean\" in x]].mean() * 1e6\n",
    ")\n",
    "results_mean_mean/1e6"
   ]
  },
  {
   "cell_type": "code",
   "execution_count": 255,
   "metadata": {},
   "outputs": [],
   "source": [
    "reg_formulas_fmt = [x.replace('\\n', ' ').strip() for x in exog_vars_list]"
   ]
  },
  {
   "cell_type": "code",
   "execution_count": 256,
   "metadata": {},
   "outputs": [
    {
     "name": "stdout",
     "output_type": "stream",
     "text": [
      "\\begin{tabular}{lrr}\n",
      "\\toprule\n",
      "{} &  har\\_mean &  har\\_ls\\_mean \\\\\n",
      "\\midrule\n",
      "0 &       1.0 &       0.5134 \\\\\n",
      "\\bottomrule\n",
      "\\end{tabular}\n",
      "\n",
      "\\begin{tabular}{lrr}\n",
      "\\toprule\n",
      "{} &  har\\_mean &  har\\_ls\\_mean \\\\\n",
      "\\midrule\n",
      "0 &       1.0 &       0.5476 \\\\\n",
      "\\bottomrule\n",
      "\\end{tabular}\n",
      "\n"
     ]
    }
   ],
   "source": [
    "results_mean_mean = pd.DataFrame(\n",
    "    results_df[[x for x in results_df.columns if \"mean\" in x and 'forecast' not in x]].mean() * 1e6\n",
    ")\n",
    "results_mean_median = pd.DataFrame(\n",
    "    results_df[[x for x in results_df.columns if \"mean\" in x and 'forecast' not in x]].median() * 1e6\n",
    ")\n",
    "\n",
    "print(((results_mean_mean/results_mean_mean.loc['har_mean',0]).T).round(4).to_latex())\n",
    "print(((results_mean_median/results_mean_median.loc['har_mean',0]).T).round(4).to_latex())"
   ]
  },
  {
   "cell_type": "code",
   "execution_count": null,
   "metadata": {},
   "outputs": [],
   "source": []
  },
  {
   "cell_type": "code",
   "execution_count": null,
   "metadata": {},
   "outputs": [],
   "source": []
  },
  {
   "cell_type": "code",
   "execution_count": null,
   "metadata": {},
   "outputs": [],
   "source": []
  },
  {
   "cell_type": "code",
   "execution_count": null,
   "metadata": {},
   "outputs": [],
   "source": []
  },
  {
   "cell_type": "code",
   "execution_count": null,
   "metadata": {},
   "outputs": [],
   "source": []
  },
  {
   "cell_type": "code",
   "execution_count": 259,
   "metadata": {},
   "outputs": [
    {
     "name": "stdout",
     "output_type": "stream",
     "text": [
      "\\begin{tabular}{lrr}\n",
      "\\toprule\n",
      "{} &  har\\_mean &  har\\_ls\\_mean \\\\\n",
      "ticker &           &              \\\\\n",
      "\\midrule\n",
      "AMZN   &         1.000 &       1.0437 \\\\\n",
      "GOOG   &         1.000 &       0.6707 \\\\\n",
      "AAPL   &         1.000 &       1.1852 \\\\\n",
      "FB     &         1.000 &       0.7979 \\\\\n",
      "JNJ    &         1.000 &       1.4828 \\\\\n",
      "JPM    &         1.000 &       0.4975 \\\\\n",
      "MSFT   &         1.000 &       1.8231 \\\\\n",
      "V      &         1.000 &       0.4507 \\\\\n",
      "\\bottomrule\n",
      "\\end{tabular}\n",
      "\n"
     ]
    }
   ],
   "source": [
    "## Ticker subset\n",
    "ticker_subset = np.sort([\"MSFT\", 'AAPL', 'GOOG', 'AMZN', 'FB', \n",
    "                         'JPM', 'JNJ','V'])\n",
    "results_mean_tickers = results_df.query(\"ticker in @ticker_subset\")[\n",
    "    [\"ticker\"] + [col for col in results_df.columns if \"mean\" in col and 'means' not in col and 'simple' not in col]\n",
    "].reset_index()\n",
    "\n",
    "for col in results_mean_tickers:\n",
    "    if \"mean\" in col and col != 'har_mean':\n",
    "        results_mean_tickers[col] = (\n",
    "            results_mean_tickers[col] / results_mean_tickers[\"har_mean\"]\n",
    "        )\n",
    "\n",
    "results_mean_tickers['har_mean'] = 1\n",
    "print(results_mean_tickers.round(4).iloc[:,1:].set_index('ticker').to_latex().replace(' 1 &', ' 1.000 &'))"
   ]
  },
  {
   "cell_type": "code",
   "execution_count": 260,
   "metadata": {},
   "outputs": [
    {
     "data": {
      "text/html": [
       "<style  type=\"text/css\" >\n",
       "#T_b73b642c_2dee_11eb_8d9b_54e1ad293b81row0_col0{\n",
       "            background-color:  #440154;\n",
       "            color:  #f1f1f1;\n",
       "        }#T_b73b642c_2dee_11eb_8d9b_54e1ad293b81row1_col0{\n",
       "            background-color:  #fde725;\n",
       "            color:  #000000;\n",
       "        }</style><table id=\"T_b73b642c_2dee_11eb_8d9b_54e1ad293b81\" ><thead>    <tr>        <th class=\"blank level0\" ></th>        <th class=\"col_heading level0 col0\" >0</th>    </tr></thead><tbody>\n",
       "                <tr>\n",
       "                        <th id=\"T_b73b642c_2dee_11eb_8d9b_54e1ad293b81level0_row0\" class=\"row_heading level0 row0\" >har_mean</th>\n",
       "                        <td id=\"T_b73b642c_2dee_11eb_8d9b_54e1ad293b81row0_col0\" class=\"data row0 col0\" >396520.722596</td>\n",
       "            </tr>\n",
       "            <tr>\n",
       "                        <th id=\"T_b73b642c_2dee_11eb_8d9b_54e1ad293b81level0_row1\" class=\"row_heading level0 row1\" >har_ls_mean</th>\n",
       "                        <td id=\"T_b73b642c_2dee_11eb_8d9b_54e1ad293b81row1_col0\" class=\"data row1 col0\" >217123.945896</td>\n",
       "            </tr>\n",
       "    </tbody></table>"
      ],
      "text/plain": [
       "<pandas.io.formats.style.Styler at 0x7fca32347a90>"
      ]
     },
     "execution_count": 260,
     "metadata": {},
     "output_type": "execute_result"
    }
   ],
   "source": [
    "pd.DataFrame(\n",
    "    results_df[[x for x in results_df.columns if \"mean\" in x]].median() * 1e6\n",
    ").style.background_gradient(cmap=matplotlib.cm.viridis_r)"
   ]
  },
  {
   "cell_type": "markdown",
   "metadata": {},
   "source": [
    "### Forecast Error $L_{m,i,t}$"
   ]
  },
  {
   "cell_type": "code",
   "execution_count": 261,
   "metadata": {},
   "outputs": [
    {
     "data": {
      "text/plain": [
       "1447"
      ]
     },
     "execution_count": 261,
     "metadata": {},
     "output_type": "execute_result"
    }
   ],
   "source": [
    "len(data_rv_df.query('ticker == \"AAPL\"')) "
   ]
  },
  {
   "cell_type": "code",
   "execution_count": 262,
   "metadata": {},
   "outputs": [
    {
     "data": {
      "text/html": [
       "<div>\n",
       "<style scoped>\n",
       "    .dataframe tbody tr th:only-of-type {\n",
       "        vertical-align: middle;\n",
       "    }\n",
       "\n",
       "    .dataframe tbody tr th {\n",
       "        vertical-align: top;\n",
       "    }\n",
       "\n",
       "    .dataframe thead th {\n",
       "        text-align: right;\n",
       "    }\n",
       "</style>\n",
       "<table border=\"1\" class=\"dataframe\">\n",
       "  <thead>\n",
       "    <tr style=\"text-align: right;\">\n",
       "      <th></th>\n",
       "      <th>ticker</th>\n",
       "      <th>forecast_error_results</th>\n",
       "      <th>forecast_error_means</th>\n",
       "      <th>forecast_error_medians</th>\n",
       "      <th>har_mean</th>\n",
       "      <th>har_ls_mean</th>\n",
       "      <th>har_median</th>\n",
       "      <th>har_ls_median</th>\n",
       "      <th>har_fer</th>\n",
       "      <th>har_ls_fer</th>\n",
       "      <th>har_vs_har_ls_Y</th>\n",
       "    </tr>\n",
       "  </thead>\n",
       "  <tbody>\n",
       "    <tr>\n",
       "      <th>0</th>\n",
       "      <td>CCI</td>\n",
       "      <td>[[0.0012058383520514582, 0.14751357164655055, ...</td>\n",
       "      <td>[0.5455378891899508, 0.20487562891269745]</td>\n",
       "      <td>[0.06164501933046118, 0.07253861447410781]</td>\n",
       "      <td>0.545538</td>\n",
       "      <td>0.204876</td>\n",
       "      <td>0.061645</td>\n",
       "      <td>0.072539</td>\n",
       "      <td>[0.0012058383520514582, 0.14751357164655055, 0...</td>\n",
       "      <td>[0.04522723698349829, 0.04943139159174059, 0.0...</td>\n",
       "      <td>[-0.04402139863144683, 0.09808218005480995, 0....</td>\n",
       "    </tr>\n",
       "    <tr>\n",
       "      <th>1</th>\n",
       "      <td>CCL</td>\n",
       "      <td>[[0.0068102958346925035, 0.01674159409853715, ...</td>\n",
       "      <td>[0.8354205753018833, 0.39114672353313823]</td>\n",
       "      <td>[0.07871141853705743, 0.09188780500474447]</td>\n",
       "      <td>0.835421</td>\n",
       "      <td>0.391147</td>\n",
       "      <td>0.078711</td>\n",
       "      <td>0.091888</td>\n",
       "      <td>[0.0068102958346925035, 0.01674159409853715, 0...</td>\n",
       "      <td>[0.03895305950098127, 0.07415504964886477, 0.2...</td>\n",
       "      <td>[-0.032142763666288765, -0.05741345555032762, ...</td>\n",
       "    </tr>\n",
       "    <tr>\n",
       "      <th>2</th>\n",
       "      <td>CDNS</td>\n",
       "      <td>[[0.19468526910920403, 0.03297391390951354, 0....</td>\n",
       "      <td>[0.34673449466921885, 0.18842287133374866]</td>\n",
       "      <td>[0.06211851530422896, 0.07389695173905331]</td>\n",
       "      <td>0.346734</td>\n",
       "      <td>0.188423</td>\n",
       "      <td>0.062119</td>\n",
       "      <td>0.073897</td>\n",
       "      <td>[0.19468526910920403, 0.03297391390951354, 0.1...</td>\n",
       "      <td>[0.08781651399769608, 7.69915432208279e-06, 0....</td>\n",
       "      <td>[0.10686875511150795, 0.03296621475519146, 0.1...</td>\n",
       "    </tr>\n",
       "    <tr>\n",
       "      <th>3</th>\n",
       "      <td>CDW</td>\n",
       "      <td>[[0.035619610401105284, 0.201385470031334, 0.0...</td>\n",
       "      <td>[0.4941260487351148, 0.18678064713354886]</td>\n",
       "      <td>[0.05930446724131988, 0.06628940835139563]</td>\n",
       "      <td>0.494126</td>\n",
       "      <td>0.186781</td>\n",
       "      <td>0.059304</td>\n",
       "      <td>0.066289</td>\n",
       "      <td>[0.035619610401105284, 0.201385470031334, 0.05...</td>\n",
       "      <td>[8.273377938383675e-05, 0.0017029954890759313,...</td>\n",
       "      <td>[0.03553687662172145, 0.19968247454225807, -0....</td>\n",
       "    </tr>\n",
       "    <tr>\n",
       "      <th>4</th>\n",
       "      <td>CE</td>\n",
       "      <td>[[0.2176985504030764, 0.006937663530911742, 0....</td>\n",
       "      <td>[0.45572240092617433, 0.17372318301625114]</td>\n",
       "      <td>[0.059193379193341666, 0.06675084400949638]</td>\n",
       "      <td>0.455722</td>\n",
       "      <td>0.173723</td>\n",
       "      <td>0.059193</td>\n",
       "      <td>0.066751</td>\n",
       "      <td>[0.2176985504030764, 0.006937663530911742, 0.0...</td>\n",
       "      <td>[0.22265665961931003, 0.0020746232912252083, 0...</td>\n",
       "      <td>[-0.0049581092162336304, 0.0048630402396865335...</td>\n",
       "    </tr>\n",
       "  </tbody>\n",
       "</table>\n",
       "</div>"
      ],
      "text/plain": [
       "  ticker                             forecast_error_results  \\\n",
       "0    CCI  [[0.0012058383520514582, 0.14751357164655055, ...   \n",
       "1    CCL  [[0.0068102958346925035, 0.01674159409853715, ...   \n",
       "2   CDNS  [[0.19468526910920403, 0.03297391390951354, 0....   \n",
       "3    CDW  [[0.035619610401105284, 0.201385470031334, 0.0...   \n",
       "4     CE  [[0.2176985504030764, 0.006937663530911742, 0....   \n",
       "\n",
       "                         forecast_error_means  \\\n",
       "0   [0.5455378891899508, 0.20487562891269745]   \n",
       "1   [0.8354205753018833, 0.39114672353313823]   \n",
       "2  [0.34673449466921885, 0.18842287133374866]   \n",
       "3   [0.4941260487351148, 0.18678064713354886]   \n",
       "4  [0.45572240092617433, 0.17372318301625114]   \n",
       "\n",
       "                        forecast_error_medians  har_mean  har_ls_mean  \\\n",
       "0   [0.06164501933046118, 0.07253861447410781]  0.545538     0.204876   \n",
       "1   [0.07871141853705743, 0.09188780500474447]  0.835421     0.391147   \n",
       "2   [0.06211851530422896, 0.07389695173905331]  0.346734     0.188423   \n",
       "3   [0.05930446724131988, 0.06628940835139563]  0.494126     0.186781   \n",
       "4  [0.059193379193341666, 0.06675084400949638]  0.455722     0.173723   \n",
       "\n",
       "   har_median  har_ls_median  \\\n",
       "0    0.061645       0.072539   \n",
       "1    0.078711       0.091888   \n",
       "2    0.062119       0.073897   \n",
       "3    0.059304       0.066289   \n",
       "4    0.059193       0.066751   \n",
       "\n",
       "                                             har_fer  \\\n",
       "0  [0.0012058383520514582, 0.14751357164655055, 0...   \n",
       "1  [0.0068102958346925035, 0.01674159409853715, 0...   \n",
       "2  [0.19468526910920403, 0.03297391390951354, 0.1...   \n",
       "3  [0.035619610401105284, 0.201385470031334, 0.05...   \n",
       "4  [0.2176985504030764, 0.006937663530911742, 0.0...   \n",
       "\n",
       "                                          har_ls_fer  \\\n",
       "0  [0.04522723698349829, 0.04943139159174059, 0.0...   \n",
       "1  [0.03895305950098127, 0.07415504964886477, 0.2...   \n",
       "2  [0.08781651399769608, 7.69915432208279e-06, 0....   \n",
       "3  [8.273377938383675e-05, 0.0017029954890759313,...   \n",
       "4  [0.22265665961931003, 0.0020746232912252083, 0...   \n",
       "\n",
       "                                     har_vs_har_ls_Y  \n",
       "0  [-0.04402139863144683, 0.09808218005480995, 0....  \n",
       "1  [-0.032142763666288765, -0.05741345555032762, ...  \n",
       "2  [0.10686875511150795, 0.03296621475519146, 0.1...  \n",
       "3  [0.03553687662172145, 0.19968247454225807, -0....  \n",
       "4  [-0.0049581092162336304, 0.0048630402396865335...  "
      ]
     },
     "execution_count": 262,
     "metadata": {},
     "output_type": "execute_result"
    }
   ],
   "source": [
    "results_df[[x + '_fer' for x in reg_names]] = results_df['forecast_error_results'].apply(pd.Series).applymap(np.array)\n",
    "\n",
    "for reg_name in reg_names:\n",
    "    if reg_name != 'har':\n",
    "        results_df['har_vs_' + reg_name + '_Y'] = results_df['har_fer'] - results_df[reg_name + '_fer']\n",
    "        \n",
    "results_df.head()"
   ]
  },
  {
   "cell_type": "markdown",
   "metadata": {},
   "source": [
    "### HAR Performance - Trimming at Quantiles"
   ]
  },
  {
   "cell_type": "code",
   "execution_count": 278,
   "metadata": {},
   "outputs": [],
   "source": [
    "def get_rel_mean_error(results_df, drop_covid=False):\n",
    "    \n",
    "    if drop_covid:\n",
    "        \n",
    "        temp_results = []\n",
    "\n",
    "        for reg_name in reg_names:\n",
    "            result = np.mean(np.vstack(np.array(results_df[reg_name + '_fer']))[:,:-189])\n",
    "            temp_results.append(result)      \n",
    "            \n",
    "        results_mean_mean = pd.DataFrame(temp_results, index = [x + '_mean' for x in reg_names])\n",
    "            \n",
    "            \n",
    "    else:\n",
    "        results_mean_mean = pd.DataFrame(\n",
    "            results_df[\n",
    "                [x for x in results_df.columns if \"mean\" in x if \"fore\" not in x]\n",
    "            ].mean()\n",
    "        )\n",
    "\n",
    "\n",
    "    latex_str = (\n",
    "        ((results_mean_mean / results_mean_mean.loc[\"har_mean\", 0]).T)\n",
    "        .round(4)\n",
    "        .to_latex()\n",
    "    )\n",
    "    print(latex_str.split(\"\\n\")[4][1:].replace(\"   \", \" \"))\n",
    "\n",
    "\n",
    "def get_rel_med_error(results_df, drop_covid=False):\n",
    "\n",
    "    if drop_covid:\n",
    "        \n",
    "        temp_results = []\n",
    "\n",
    "        for reg_name in reg_names:\n",
    "            result = np.median(np.vstack(np.array(results_df[reg_name + '_fer']))[:,:-189])\n",
    "            temp_results.append(result)      \n",
    "            \n",
    "        results_mean_median = pd.DataFrame(temp_results, index = [x + '_mean' for x in reg_names])\n",
    "    else:\n",
    "        results_mean_median = pd.DataFrame(\n",
    "            results_df[[x for x in results_df.columns if \"mean\" in x]].median() \n",
    "        )\n",
    "        \n",
    "\n",
    "    latex_str = (\n",
    "        ((results_mean_median / results_mean_median.loc[\"har_mean\", 0]).T)\n",
    "        .round(4)\n",
    "        .to_latex()\n",
    "    )\n",
    "    print(latex_str.split(\"\\n\")[4][1:].replace(\"   \", \" \"))"
   ]
  },
  {
   "cell_type": "code",
   "execution_count": 279,
   "metadata": {},
   "outputs": [
    {
     "name": "stdout",
     "output_type": "stream",
     "text": [
      "Mean & 0\\%  &   1.0 &   0.5134 \\\\\n",
      "Mean & 1\\%  &   1.0 &   0.5297 \\\\\n",
      "Mean & 5\\%  &   1.0 &   0.5572 \\\\\n",
      "Mean & 10\\%  &   1.0 &   0.5941 \\\\\n",
      "[0.5ex]\n",
      "Median & 0\\%  &   1.0 &   0.5476 \\\\\n",
      "Median & 1\\%  &   1.0 &   0.5504 \\\\\n",
      "Median & 5\\%  &   1.0 &   0.5654 \\\\\n",
      "Median & 10\\%  &   1.0 &   0.6308 \\\\\n"
     ]
    }
   ],
   "source": [
    "for q in [1, 0.99, 0.95, 0.90]:\n",
    "    \n",
    "    print(f'Mean & {int(np.round(100*(1-q),0))}\\%', end = ' ')\n",
    "    \n",
    "    get_rel_mean_error(\n",
    "    results_df.query('har_mean <= ' + str(results_df['har_mean'].quantile(q)))\n",
    "    )\n",
    "    \n",
    "print('[0.5ex]')\n",
    "\n",
    "for q in [1, 0.99, 0.95, 0.90]:\n",
    "    \n",
    "    print(f'Median & {int(np.round(100*(1-q),0))}\\%', end = ' ')\n",
    "    get_rel_med_error(\n",
    "    results_df.query('har_mean <= ' + str(results_df['har_mean'].quantile(q)))\n",
    "    )\n"
   ]
  },
  {
   "cell_type": "code",
   "execution_count": 280,
   "metadata": {},
   "outputs": [
    {
     "name": "stdout",
     "output_type": "stream",
     "text": [
      "Mean & 0\\%  &   1.0 &   0.4777 \\\\\n",
      "Mean & 1\\%  &   1.0 &   0.4927 \\\\\n",
      "Mean & 5\\%  &   1.0 &    0.518 \\\\\n",
      "Mean & 10\\%  &   1.0 &    0.553 \\\\\n",
      "[0.5ex]\n",
      "Median & 0\\%  &   1.0 &   1.0543 \\\\\n",
      "Median & 1\\%  &   1.0 &   1.0536 \\\\\n",
      "Median & 5\\%  &   1.0 &   1.0522 \\\\\n",
      "Median & 10\\%  &   1.0 &   1.0501 \\\\\n"
     ]
    }
   ],
   "source": [
    "for q in [1, 0.99, 0.95, 0.90]:\n",
    "    \n",
    "    print(f'Mean & {int(np.round(100*(1-q),0))}\\%', end = ' ')\n",
    "    \n",
    "    get_rel_mean_error(\n",
    "    results_df.query('har_mean <= ' + str(results_df['har_mean'].quantile(q))), \n",
    "        drop_covid= True,\n",
    "        \n",
    "    )\n",
    "    \n",
    "print('[0.5ex]')\n",
    "\n",
    "for q in [1, 0.99, 0.95, 0.90]:\n",
    "    \n",
    "    print(f'Median & {int(np.round(100*(1-q),0))}\\%', end = ' ')\n",
    "    get_rel_med_error(\n",
    "    results_df.query('har_mean <= ' + str(results_df['har_mean'].quantile(q))), \n",
    "        drop_covid= True\n",
    "    )\n"
   ]
  },
  {
   "cell_type": "markdown",
   "metadata": {},
   "source": [
    "### Comparing HAR versus HAR-LSM"
   ]
  },
  {
   "cell_type": "code",
   "execution_count": 231,
   "metadata": {},
   "outputs": [
    {
     "data": {
      "text/plain": [
       "[<matplotlib.lines.Line2D at 0x7fcaeab94518>]"
      ]
     },
     "execution_count": 231,
     "metadata": {},
     "output_type": "execute_result"
    },
    {
     "data": {
      "image/png": "[encoded data removed]",
      "text/plain": [
       "<Figure size 432x288 with 1 Axes>"
      ]
     },
     "metadata": {},
     "output_type": "display_data"
    }
   ],
   "source": [
    "results_df['har_ls_better'] = results_df['har_mean'] > results_df['har_ls_mean']\n",
    "sns.scatterplot(x=\"har_mean\", y=\"har_ls_mean\", hue = 'har_ls_better', data=results_df.query('har_mean < 40'))\n",
    "# plt.plot([-10,-7.5],[-10,-7.5], color = 'k')\n",
    "plt.plot([1e-7,2e-3],[1e-7,2e-3], color = 'k')"
   ]
  },
  {
   "cell_type": "code",
   "execution_count": 232,
   "metadata": {},
   "outputs": [
    {
     "ename": "NameError",
     "evalue": "name 'har_trim_level' is not defined",
     "output_type": "error",
     "traceback": [
      "\u001b[0;31m---------------------------------------------------------------------------\u001b[0m",
      "\u001b[0;31mNameError\u001b[0m                                 Traceback (most recent call last)",
      "\u001b[0;32m<ipython-input-232-f484aaaa2373>\u001b[0m in \u001b[0;36m<module>\u001b[0;34m\u001b[0m\n\u001b[1;32m     29\u001b[0m \u001b[0;31m## Scatter by period\u001b[0m\u001b[0;34m\u001b[0m\u001b[0;34m\u001b[0m\u001b[0;34m\u001b[0m\u001b[0m\n\u001b[1;32m     30\u001b[0m \u001b[0max\u001b[0m \u001b[0;34m=\u001b[0m \u001b[0maxs\u001b[0m\u001b[0;34m[\u001b[0m\u001b[0;36m0\u001b[0m\u001b[0;34m,\u001b[0m\u001b[0;36m1\u001b[0m\u001b[0;34m]\u001b[0m\u001b[0;34m\u001b[0m\u001b[0;34m\u001b[0m\u001b[0m\n\u001b[0;32m---> 31\u001b[0;31m sns.scatterplot(x = np.mean(results_df.query(f\"har_mean < {har_trim_level}\")[\"har_ls_fer\"]),\n\u001b[0m\u001b[1;32m     32\u001b[0m             \u001b[0my\u001b[0m \u001b[0;34m=\u001b[0m \u001b[0mnp\u001b[0m\u001b[0;34m.\u001b[0m\u001b[0mmean\u001b[0m\u001b[0;34m(\u001b[0m\u001b[0mresults_df\u001b[0m\u001b[0;34m.\u001b[0m\u001b[0mquery\u001b[0m\u001b[0;34m(\u001b[0m\u001b[0;34mf\"har_mean < {har_trim_level}\"\u001b[0m\u001b[0;34m)\u001b[0m\u001b[0;34m[\u001b[0m\u001b[0;34m\"har_fer\"\u001b[0m\u001b[0;34m]\u001b[0m\u001b[0;34m)\u001b[0m\u001b[0;34m,\u001b[0m\u001b[0;34m\u001b[0m\u001b[0;34m\u001b[0m\u001b[0m\n\u001b[1;32m     33\u001b[0m                 \u001b[0max\u001b[0m \u001b[0;34m=\u001b[0m \u001b[0max\u001b[0m\u001b[0;34m\u001b[0m\u001b[0;34m\u001b[0m\u001b[0m\n",
      "\u001b[0;31mNameError\u001b[0m: name 'har_trim_level' is not defined"
     ]
    },
    {
     "data": {
      "image/png": "[encoded data removed]",
      "text/plain": [
       "<Figure size 1008x576 with 4 Axes>"
      ]
     },
     "metadata": {},
     "output_type": "display_data"
    }
   ],
   "source": [
    "fig, axs = plt.subplots(figsize=(14, 8), nrows = 2, ncols = 2)\n",
    "\n",
    "## Scatter by stock\n",
    "ax = axs[0,0]\n",
    "sns.scatterplot(x=\"har_mean\", y=\"har_ls_mean\", data=results_df, ax = ax)\n",
    "ax.plot([0, 1e2], [0, 1e2], color=\"k\", ls=\"dashed\", alpha = 0.8)\n",
    "ax.set_yscale(\"log\")\n",
    "ax.set_xscale(\"log\")\n",
    "ax.text(\n",
    "    0.25,\n",
    "    0.75,\n",
    "    f\"Stocks where HAR\\n Performs Better\",\n",
    "    ha=\"center\",\n",
    "    va=\"center\",\n",
    "    transform=ax.transAxes,\n",
    ")\n",
    "ax.text(\n",
    "    0.75,\n",
    "    0.2,\n",
    "    f\"Stocks where HAR-LSM\\n Performs Better\",\n",
    "    ha=\"center\",\n",
    "    va=\"center\",\n",
    "    transform=ax.transAxes,\n",
    ")\n",
    "ax.set_xlabel('HAR \\n Average Forecasting Loss')\n",
    "ax.set_ylabel('HAR-LSM \\n Average Forecasting Loss')\n",
    "\n",
    "\n",
    "## Scatter by period\n",
    "ax = axs[0,1]\n",
    "sns.scatterplot(x = np.mean(results_df.query(f\"har_mean < {har_trim_level}\")[\"har_ls_fer\"]),\n",
    "            y = np.mean(results_df.query(f\"har_mean < {har_trim_level}\")[\"har_fer\"]),\n",
    "                ax = ax\n",
    "         )\n",
    "ax.plot([0,4e1],[0,4e1],color = 'k', ls = '--')\n",
    "ax.set_yscale('log')\n",
    "ax.set_xscale('log')\n",
    "ax.set_yscale(\"log\")\n",
    "ax.set_xscale(\"log\")\n",
    "ax.text(\n",
    "    0.25,\n",
    "    0.75,\n",
    "    f\"Days where HAR\\n Performs Better\",\n",
    "    ha=\"center\",\n",
    "    va=\"center\",\n",
    "    transform=ax.transAxes,\n",
    ")\n",
    "ax.text(\n",
    "    0.75,\n",
    "    0.2,\n",
    "    f\"Days where HAR-LSM\\n Performs Better\",\n",
    "    ha=\"center\",\n",
    "    va=\"center\",\n",
    "    transform=ax.transAxes,\n",
    ")\n",
    "ax.set_xlabel('HAR \\n Average Forecasting Loss')\n",
    "ax.set_ylabel('HAR-LSM \\n Average Forecasting Loss')\n",
    "\n",
    "\n",
    "## Mean Error Diff\n",
    "har_trim_level = results_df['har_mean'].quantile(0.95)\n",
    "fer_difference = np.mean(\n",
    "    np.vstack(results_df.query(f\"har_mean < {har_trim_level}\")[\"har_fer\"].values),\n",
    "    axis=0,\n",
    ") - np.mean(\n",
    "    np.vstack(results_df.query(f\"har_mean < {har_trim_level}\")[\"har_ls_fer\"].values),\n",
    "    axis=0,\n",
    ")\n",
    "ax = plt.subplot(2,1,2)\n",
    "ax.axhline(0, color = 'k', ls = '--')\n",
    "ax.plot(\n",
    "    data_rv_df[\"date\"].unique()[(window + skip_rows - 1) :],\n",
    "    fer_difference,\n",
    ")\n",
    "# ax.set_ylim(-2e0, 2e0)\n",
    "ax.set_ylim(-1e-6, 1e-6)\n",
    "ax.set_ylabel(\"$(Avg \\;\\;HAR\\;\\; MSE$ \\n $-\\; Avg \\;\\;HARLSM\\;\\; MSE)$\")\n",
    "# ax.set_ylabel('(Mean HAR QLIKE\\n -- Mean HAR-LSM QLIKE)', fontsize = 14)\n",
    "ax.set_xlabel(\"Date\")\n",
    "ax.set_xlim(pd.to_datetime('2015-12-01'), pd.to_datetime('2020-11-01'))\n",
    "\n",
    "\n",
    "plt.tight_layout()\n",
    "# plt.savefig('../exhibits/final_paper/harlsm_perf_mse.pdf')"
   ]
  },
  {
   "cell_type": "code",
   "execution_count": 233,
   "metadata": {},
   "outputs": [
    {
     "data": {
      "text/plain": [
       "454"
      ]
     },
     "execution_count": 233,
     "metadata": {},
     "output_type": "execute_result"
    }
   ],
   "source": [
    "len(results_df['ticker'].unique())"
   ]
  },
  {
   "cell_type": "code",
   "execution_count": 234,
   "metadata": {},
   "outputs": [
    {
     "data": {
      "text/plain": [
       "0.6938325991189427"
      ]
     },
     "execution_count": 234,
     "metadata": {},
     "output_type": "execute_result"
    }
   ],
   "source": [
    "np.mean(results_df['har_mean'] > results_df['har_ls_mean'])"
   ]
  },
  {
   "cell_type": "code",
   "execution_count": 235,
   "metadata": {},
   "outputs": [
    {
     "ename": "NameError",
     "evalue": "name 'har_trim_level' is not defined",
     "output_type": "error",
     "traceback": [
      "\u001b[0;31m---------------------------------------------------------------------------\u001b[0m",
      "\u001b[0;31mNameError\u001b[0m                                 Traceback (most recent call last)",
      "\u001b[0;32m<ipython-input-235-8b9f7c962ee5>\u001b[0m in \u001b[0;36m<module>\u001b[0;34m\u001b[0m\n\u001b[0;32m----> 1\u001b[0;31m \u001b[0mnp\u001b[0m\u001b[0;34m.\u001b[0m\u001b[0mmean\u001b[0m\u001b[0;34m(\u001b[0m\u001b[0mnp\u001b[0m\u001b[0;34m.\u001b[0m\u001b[0mmean\u001b[0m\u001b[0;34m(\u001b[0m\u001b[0mresults_df\u001b[0m\u001b[0;34m.\u001b[0m\u001b[0mquery\u001b[0m\u001b[0;34m(\u001b[0m\u001b[0;34mf\"har_mean < {har_trim_level}\"\u001b[0m\u001b[0;34m)\u001b[0m\u001b[0;34m[\u001b[0m\u001b[0;34m\"har_ls_fer\"\u001b[0m\u001b[0;34m]\u001b[0m\u001b[0;34m)\u001b[0m \u001b[0;34m<\u001b[0m \u001b[0mnp\u001b[0m\u001b[0;34m.\u001b[0m\u001b[0mmean\u001b[0m\u001b[0;34m(\u001b[0m\u001b[0mresults_df\u001b[0m\u001b[0;34m.\u001b[0m\u001b[0mquery\u001b[0m\u001b[0;34m(\u001b[0m\u001b[0;34mf\"har_mean > {har_trim_level}\"\u001b[0m\u001b[0;34m)\u001b[0m\u001b[0;34m[\u001b[0m\u001b[0;34m\"har_fer\"\u001b[0m\u001b[0;34m]\u001b[0m\u001b[0;34m)\u001b[0m\u001b[0;34m)\u001b[0m\u001b[0;34m\u001b[0m\u001b[0;34m\u001b[0m\u001b[0m\n\u001b[0m",
      "\u001b[0;31mNameError\u001b[0m: name 'har_trim_level' is not defined"
     ]
    }
   ],
   "source": [
    "np.mean(np.mean(results_df.query(f\"har_mean < {har_trim_level}\")[\"har_ls_fer\"]) < np.mean(results_df.query(f\"har_mean > {har_trim_level}\")[\"har_fer\"]))"
   ]
  },
  {
   "cell_type": "code",
   "execution_count": 237,
   "metadata": {},
   "outputs": [
    {
     "data": {
      "image/png": "[encoded data removed]",
      "text/plain": [
       "<Figure size 864x288 with 1 Axes>"
      ]
     },
     "metadata": {},
     "output_type": "display_data"
    }
   ],
   "source": [
    "fig, ax = plt.subplots(figsize=(12, 4), nrows = 1)\n",
    "\n",
    "\n",
    "\n",
    "# ## Median Error Diff\n",
    "# fer_difference = (np.median(np.vstack(results_df[\"har_fer\"].values), axis = 0) - \n",
    "#                   np.median(np.vstack(results_df[\"har_ls_fer\"].values), axis = 0)) \n",
    "# ax = axs[1]\n",
    "# ax.plot(\n",
    "#     data_rv_df[\"date\"].unique()[(window + skip_rows - 1) :],\n",
    "#     fer_difference,\n",
    "# )\n",
    "# ax.set_ylim(-1e-6, 1e-6)\n",
    "# # ax.set_ylabel(\"$(Avg \\;\\;HAR\\;\\; MSE$ \\n $-\\; Avg \\;\\;HARLSM\\;\\; MSE)$\")\n",
    "# ax.set_ylabel('(Median HAR MSE\\n -- Median HAR-LSM MSE)', fontsize = 14)\n",
    "# ax.set_xlabel(\"Date\")\n",
    "# ax.set_xlim(pd.to_datetime('2015-12-01'), pd.to_datetime('2020-11-01'))\n",
    "\n",
    "\n",
    "\n",
    "## Second axis, relative error\n",
    "har_trim_level = 1\n",
    "ax.plot(\n",
    "    data_rv_df[\"date\"].unique()[(window + skip_rows - 1) :],\n",
    "    np.log(np.mean(results_df.query(f\"har_mean < {har_trim_level}\")[\"har_fer\"])) - \n",
    "    np.log(np.mean(results_df.query(f\"har_mean < {har_trim_level}\")[\"har_ls_fer\"])),\n",
    "    alpha = 0.8\n",
    ")\n",
    "ax.axhline(1.5  -1, color = 'k', ls = '--', lw = 1, alpha = 0.5)\n",
    "ax.axhline(1    -1, color = 'k', ls = '--', lw = 3, alpha = 0.8)\n",
    "ax.axhline(0.5  -1, color = 'k', ls = '--', lw = 1, alpha = 0.5)\n",
    "# ax.set_yscale('log')\n",
    "# ax.set_ylim(0.1, 3)\n",
    "ax.set_ylabel(\"$\\\\frac{Avg \\;\\;HAR\\;\\; MSE}{Avg \\;\\;HARLSM\\;\\; MSE}$\", fontsize = 20)\n",
    "ax.set_xlabel(\"Date\")\n",
    "ax.set_xlim(pd.to_datetime('2015-12-01'), pd.to_datetime('2020-11-01'))\n",
    "fig.autofmt_xdate()\n",
    "\n",
    "\n",
    "\n",
    "plt.tight_layout()\n",
    "# plt.savefig('../exhibits/final_paper/harlsm_perf_mse_time.pdf')"
   ]
  },
  {
   "cell_type": "code",
   "execution_count": 238,
   "metadata": {},
   "outputs": [
    {
     "data": {
      "application/vnd.jupyter.widget-view+json": {
       "model_id": "6d4c0c7d94b54036b15a2bbdb5b7f29a",
       "version_major": 2,
       "version_minor": 0
      },
      "text/plain": [
       "HBox(children=(FloatProgress(value=0.0, max=2.0), HTML(value='')))"
      ]
     },
     "metadata": {},
     "output_type": "display_data"
    },
    {
     "name": "stdout",
     "output_type": "stream",
     "text": [
      "\n"
     ]
    }
   ],
   "source": [
    "# results_df[[x + '_fer' for x in reg_names]] = results_df['forecast_error_results'].apply(pd.Series).applymap(np.array)\n",
    "\n",
    "for reg_name in tqdm(reg_names):\n",
    "    for reg_name2 in reg_names:\n",
    "        results_df[reg_name2 + '_vs_' + reg_name + '_Y'] = results_df[reg_name2 + '_fer'] - results_df[reg_name + '_fer']\n",
    "       "
   ]
  },
  {
   "cell_type": "code",
   "execution_count": 239,
   "metadata": {},
   "outputs": [
    {
     "data": {
      "text/plain": [
       "1154"
      ]
     },
     "execution_count": 239,
     "metadata": {},
     "output_type": "execute_result"
    }
   ],
   "source": [
    "len(results_df['har_fer'].iloc[0])"
   ]
  },
  {
   "cell_type": "code",
   "execution_count": 240,
   "metadata": {},
   "outputs": [
    {
     "data": {
      "application/vnd.jupyter.widget-view+json": {
       "model_id": "01b9a5b237804dc7aa31f9c7fd75476f",
       "version_major": 2,
       "version_minor": 0
      },
      "text/plain": [
       "HBox(children=(FloatProgress(value=0.0, max=2.0), HTML(value='')))"
      ]
     },
     "metadata": {},
     "output_type": "display_data"
    },
    {
     "name": "stdout",
     "output_type": "stream",
     "text": [
      "har_ls\n",
      "HAR Better (sig): 17.1806%\n",
      "HAR Worse (sig):  0.2203%\n",
      "HAR Worse (avg):  69.3833%\n",
      "\n",
      "\n"
     ]
    }
   ],
   "source": [
    "ticker_list = results_df['ticker'].unique()\n",
    "\n",
    "def db_reg(ticker, reg_name):\n",
    "\n",
    "        Y = results_df.query('ticker == @ticker')['har_vs_' + reg_name + '_Y'].iloc[0]\n",
    "        m = len(Y)\n",
    "        hac_lags = int(0.75*(m**(1/3)))\n",
    "        fit = sm.OLS(Y, np.c_[np.ones(m)]\n",
    "                    ).fit(\n",
    "            cov_type = 'HAC', cov_kwds = {'maxlags': hac_lags})\n",
    "\n",
    "        return fit\n",
    "\n",
    "def temp_f(reg_name):\n",
    "\n",
    "    if reg_name == 'har':\n",
    "        return reg_name, None\n",
    "        \n",
    "    results = [] \n",
    "    \n",
    "    try:\n",
    "        for ticker in ticker_list:\n",
    "            fit = db_reg(ticker, reg_name)\n",
    "            results.append([fit.tvalues[0], fit.params[0]])\n",
    "    except:\n",
    "        return reg_name, None\n",
    "    \n",
    "    return reg_name, results\n",
    "\n",
    "db_results = []\n",
    "\n",
    "for reg_name, results in tqdm(map(temp_f, reg_names), total = len(reg_names)):\n",
    "    if results:\n",
    "        print(reg_name)\n",
    "        print(f'HAR Better (sig): {np.mean(np.array(results)[:,0] < -1.96):.4%}')\n",
    "        print(f'HAR Worse (sig):  {np.mean(np.array(results)[:,0] > 1.96):.4%}')\n",
    "        print(f'HAR Worse (avg):  {np.mean(np.array(results)[:,0] > 0):.4%}')\n",
    "        print()\n",
    "        db_results.append(results)"
   ]
  },
  {
   "cell_type": "markdown",
   "metadata": {},
   "source": [
    "#### Funnel"
   ]
  },
  {
   "cell_type": "code",
   "execution_count": 241,
   "metadata": {},
   "outputs": [
    {
     "ename": "IndexError",
     "evalue": "list index out of range",
     "output_type": "error",
     "traceback": [
      "\u001b[0;31m---------------------------------------------------------------------------\u001b[0m",
      "\u001b[0;31mIndexError\u001b[0m                                Traceback (most recent call last)",
      "\u001b[0;32m<ipython-input-241-dae933ab01f7>\u001b[0m in \u001b[0;36m<module>\u001b[0;34m\u001b[0m\n\u001b[0;32m----> 1\u001b[0;31m \u001b[0mdb_df\u001b[0m \u001b[0;34m=\u001b[0m \u001b[0mpd\u001b[0m\u001b[0;34m.\u001b[0m\u001b[0mDataFrame\u001b[0m\u001b[0;34m(\u001b[0m\u001b[0mdb_results\u001b[0m\u001b[0;34m[\u001b[0m\u001b[0;36m2\u001b[0m\u001b[0;34m]\u001b[0m\u001b[0;34m,\u001b[0m \u001b[0mindex\u001b[0m \u001b[0;34m=\u001b[0m \u001b[0mticker_list\u001b[0m\u001b[0;34m,\u001b[0m \u001b[0mcolumns\u001b[0m \u001b[0;34m=\u001b[0m \u001b[0;34m[\u001b[0m\u001b[0;34m't'\u001b[0m\u001b[0;34m,\u001b[0m \u001b[0;34m'coeff'\u001b[0m\u001b[0;34m]\u001b[0m\u001b[0;34m)\u001b[0m\u001b[0;34m\u001b[0m\u001b[0;34m\u001b[0m\u001b[0m\n\u001b[0m\u001b[1;32m      2\u001b[0m \u001b[0mdb_df\u001b[0m\u001b[0;34m[\u001b[0m\u001b[0;34m'se'\u001b[0m\u001b[0;34m]\u001b[0m \u001b[0;34m=\u001b[0m \u001b[0mdb_df\u001b[0m\u001b[0;34m[\u001b[0m\u001b[0;34m'coeff'\u001b[0m\u001b[0;34m]\u001b[0m\u001b[0;34m/\u001b[0m\u001b[0mdb_df\u001b[0m\u001b[0;34m[\u001b[0m\u001b[0;34m't'\u001b[0m\u001b[0;34m]\u001b[0m\u001b[0;34m\u001b[0m\u001b[0;34m\u001b[0m\u001b[0m\n\u001b[1;32m      3\u001b[0m \u001b[0mdb_df\u001b[0m\u001b[0;34m\u001b[0m\u001b[0;34m\u001b[0m\u001b[0m\n",
      "\u001b[0;31mIndexError\u001b[0m: list index out of range"
     ]
    }
   ],
   "source": [
    "db_df = pd.DataFrame(db_results[2], index = ticker_list, columns = ['t', 'coeff'])\n",
    "db_df['se'] = db_df['coeff']/db_df['t']\n",
    "db_df"
   ]
  },
  {
   "cell_type": "code",
   "execution_count": 425,
   "metadata": {},
   "outputs": [],
   "source": [
    "har_better_stocks = db_df.query('t < -1.96').index"
   ]
  },
  {
   "cell_type": "code",
   "execution_count": 429,
   "metadata": {},
   "outputs": [
    {
     "data": {
      "text/plain": [
       "0.21923845290110974"
      ]
     },
     "execution_count": 429,
     "metadata": {},
     "output_type": "execute_result"
    }
   ],
   "source": [
    "results_df.query('ticker in @har_better_stocks')['har_ls_mean'].mean()"
   ]
  },
  {
   "cell_type": "code",
   "execution_count": 432,
   "metadata": {},
   "outputs": [
    {
     "data": {
      "text/plain": [
       "1.180918164892428"
      ]
     },
     "execution_count": 432,
     "metadata": {},
     "output_type": "execute_result"
    }
   ],
   "source": [
    "(\n",
    "    results_df.query(\"ticker in @har_better_stocks\")[\"har_ls_mean\"].mean()\n",
    "    / results_df.query(\"ticker in @har_better_stocks\")[\"har_mean\"].mean()\n",
    ")"
   ]
  },
  {
   "cell_type": "code",
   "execution_count": 434,
   "metadata": {},
   "outputs": [
    {
     "data": {
      "text/plain": [
       "0.5133557374877212"
      ]
     },
     "execution_count": 434,
     "metadata": {},
     "output_type": "execute_result"
    }
   ],
   "source": [
    "(\n",
    "    results_df[\"har_ls_mean\"].mean()\n",
    "    / results_df[\"har_mean\"].mean()\n",
    ")"
   ]
  },
  {
   "cell_type": "code",
   "execution_count": 408,
   "metadata": {},
   "outputs": [
    {
     "data": {
      "image/png": "[encoded data removed]",
      "text/plain": [
       "<Figure size 1008x504 with 1 Axes>"
      ]
     },
     "metadata": {},
     "output_type": "display_data"
    }
   ],
   "source": [
    "fig, ax = plt.subplots(figsize = (14,7))\n",
    "\n",
    "sns.scatterplot(x = 'coeff', y = 'se', alpha = 0.8, data = db_df)\n",
    "ax.text(\n",
    "    0.1,\n",
    "    0.1,\n",
    "    f\"HAR-LSM is \\nSignificantly Worse\",\n",
    "    ha=\"center\",\n",
    "    va=\"center\",\n",
    "    transform=ax.transAxes,\n",
    ")\n",
    "ax.text(\n",
    "    0.8,\n",
    "    0.1,\n",
    "    f\"HAR-LSM is \\nSignificantly Better\",\n",
    "    ha=\"center\",\n",
    "    va=\"center\",\n",
    "    transform=ax.transAxes,\n",
    ")\n",
    "ax.text(\n",
    "    0.15,\n",
    "    0.9,\n",
    "    f\"HAR-LSM is \\nInsignificantly Worse\",\n",
    "    ha=\"center\",\n",
    "    va=\"center\",\n",
    "    transform=ax.transAxes,\n",
    ")\n",
    "ax.text(\n",
    "    0.8,\n",
    "    0.9,\n",
    "    f\"HAR-LSM is \\nInsignificantly Better\",\n",
    "    ha=\"center\",\n",
    "    va=\"center\",\n",
    "    transform=ax.transAxes,\n",
    ")\n",
    "\n",
    "sll = 10\n",
    "ax.plot([0, -sll], [0, sll/1.96], color = 'k', ls = '--')\n",
    "ax.plot([0, sll], [0, sll/1.96], color = 'k', ls = '--')\n",
    "ax.axvline(0,1,0, color = 'k', )\n",
    "ax.set_ylim(-0.05, 2.5)\n",
    "ax.set_xlim(-1.5, 2.5)\n",
    "ax.set_xlabel('Coefficient on (HAR QLIKE - HAR-LSM QLIKE)')\n",
    "ax.set_ylabel('Standard Error')\n",
    "\n",
    "plt.tight_layout()\n",
    "# plt.savefig('../exhibits/final_paper/har_vs_harlsm_significance.pdf')"
   ]
  }
 ],
 "metadata": {
  "kernelspec": {
   "display_name": "Python 3",
   "language": "python",
   "name": "python3"
  },
  "language_info": {
   "codemirror_mode": {
    "name": "ipython",
    "version": 3
   },
   "file_extension": ".py",
   "mimetype": "text/x-python",
   "name": "python",
   "nbconvert_exporter": "python",
   "pygments_lexer": "ipython3",
   "version": "3.6.9"
  }
 },
 "nbformat": 4,
 "nbformat_minor": 4
}
