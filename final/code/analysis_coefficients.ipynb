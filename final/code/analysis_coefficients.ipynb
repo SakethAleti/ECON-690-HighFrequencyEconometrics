{
 "cells": [
  {
   "cell_type": "code",
   "execution_count": 33,
   "metadata": {},
   "outputs": [],
   "source": [
    "import glob\n",
    "import pandas as pd\n",
    "import numpy as np\n",
    "import matplotlib.pyplot as plt\n",
    "import matplotlib\n",
    "import seaborn as sns\n",
    "from collections import OrderedDict\n",
    "from multiprocessing import Pool\n",
    "from numba import jit\n",
    "from tqdm.auto import tqdm\n",
    "import linearmodels as lm\n",
    "import statsmodels.api as sm\n",
    "import statsmodels.formula.api as smf\n",
    "from statsmodels.regression.rolling import RollingOLS\n",
    "from statsmodels.tsa import arima_process\n",
    "from statsmodels.tsa.statespace.tools import (\n",
    "    constrain_stationary_univariate, unconstrain_stationary_univariate)\n",
    "\n",
    "\n",
    "sns.set_context(\"paper\", font_scale=1.3)\n",
    "sns.set_style(\n",
    "    \"ticks\",\n",
    "    {\n",
    "        \"axes.grid\": True,\n",
    "        \"grid.color\": \"0.95\",\n",
    "        \"grid.linestyle\": \"-\",\n",
    "        \"axes.facecolor\": \"white\",\n",
    "    },\n",
    ")"
   ]
  },
  {
   "cell_type": "markdown",
   "metadata": {},
   "source": [
    "# Import Data"
   ]
  },
  {
   "cell_type": "code",
   "execution_count": 2,
   "metadata": {},
   "outputs": [
    {
     "data": {
      "application/vnd.jupyter.widget-view+json": {
       "model_id": "d43ae1a181eb46aeb9399aff65fda0eb",
       "version_major": 2,
       "version_minor": 0
      },
      "text/plain": [
       "HBox(children=(FloatProgress(value=0.0, max=471.0), HTML(value='')))"
      ]
     },
     "metadata": {},
     "output_type": "display_data"
    },
    {
     "name": "stdout",
     "output_type": "stream",
     "text": [
      "\n",
      "CPU times: user 3.36 s, sys: 3.91 s, total: 7.27 s\n",
      "Wall time: 5.16 s\n"
     ]
    }
   ],
   "source": [
    "%%time\n",
    "data_files = glob.glob(\"../data/returns/ticker_daily_rv/*.feather\")\n",
    "\n",
    "ticker_dfs = []\n",
    "for ticker_df in tqdm(map(pd.read_feather, data_files), total = len(data_files)):\n",
    "    # Magic number for the number of observations each file should have\n",
    "    if len(ticker_df) == 1447:\n",
    "        ticker_dfs.append(ticker_df)\n",
    "\n",
    "data_rv_df = pd.concat(ticker_dfs).reset_index(drop = True)"
   ]
  },
  {
   "cell_type": "markdown",
   "metadata": {
    "collapsed": "true"
   },
   "source": [
    "# Clean Data"
   ]
  },
  {
   "cell_type": "markdown",
   "metadata": {},
   "source": [
    "## Additional Vars"
   ]
  },
  {
   "cell_type": "code",
   "execution_count": 3,
   "metadata": {},
   "outputs": [],
   "source": [
    "data_rv_df['1'] = 1\n",
    "data_rv_df['rvol'] = np.sqrt(data_rv_df['rv'])"
   ]
  },
  {
   "cell_type": "markdown",
   "metadata": {},
   "source": [
    "## Lagged Measures"
   ]
  },
  {
   "cell_type": "code",
   "execution_count": 4,
   "metadata": {},
   "outputs": [],
   "source": [
    "data_rv_df = data_rv_df.sort_values(by = ['ticker', 'date'])\n",
    "\n",
    "# Signed Jump variants\n",
    "data_rv_df['sgn_jump_var_pos'] = data_rv_df['sgn_jump_var']*(data_rv_df['sgn_jump_var'] > 0)\n",
    "data_rv_df['sgn_jump_var_neg'] = data_rv_df['sgn_jump_var']*(data_rv_df['sgn_jump_var'] < 0)\n",
    "\n",
    "data_rv_df['rq'] = data_rv_df['return_p4']/3\n",
    "data_rv_df['sqrt_rq'] = np.sqrt(data_rv_df['rq'])\n",
    "\n",
    "data_rv_df['year'] = data_rv_df['date'].dt.year"
   ]
  },
  {
   "cell_type": "code",
   "execution_count": 5,
   "metadata": {},
   "outputs": [],
   "source": [
    "# Lags\n",
    "data_rv_df[\"rv_d_lag_1\"] = data_rv_df[\"return_d_p2\"].shift(1)\n",
    "data_rv_df[\"rv_d_lag_m5\"] = data_rv_df[\"rv_lag_1\"].rolling(5).mean()\n",
    "data_rv_df[\"rv_d_lag_m22\"] = data_rv_df[\"rv_lag_1\"].rolling(22).mean()"
   ]
  },
  {
   "cell_type": "code",
   "execution_count": 6,
   "metadata": {},
   "outputs": [
    {
     "data": {
      "application/vnd.jupyter.widget-view+json": {
       "model_id": "e610883d728c4eacadd0435cf6d84b02",
       "version_major": 2,
       "version_minor": 0
      },
      "text/plain": [
       "HBox(children=(FloatProgress(value=0.0, max=17.0), HTML(value='')))"
      ]
     },
     "metadata": {},
     "output_type": "display_data"
    },
    {
     "name": "stdout",
     "output_type": "stream",
     "text": [
      "\n"
     ]
    }
   ],
   "source": [
    "lag_coeff_cols = [\n",
    "    \"return_j_pos\",\n",
    "    \"return_j_neg\",\n",
    "    \"return_d_pos\",\n",
    "    \"return_d_neg\",\n",
    "    \"sum_jump_p2_1\",\n",
    "    \"sum_jump_p2_5\",\n",
    "    \"sum_jump_p2_22\",\n",
    "    \"sum_jump_p2_pos_1\",\n",
    "    \"sum_jump_p2_pos_5\",\n",
    "    \"sum_jump_p2_pos_22\",\n",
    "    \"sum_jump_p2_neg_1\",\n",
    "    \"sum_jump_p2_neg_5\",\n",
    "    \"sum_jump_p2_neg_22\",\n",
    "    \"sgn_jump_var\",\n",
    "    \"sgn_jump_var_pos\",\n",
    "    \"sgn_jump_var_neg\",\n",
    "    \"sqrt_rq\",\n",
    "]\n",
    "\n",
    "interact_cols = [\n",
    "    \"rv_lag_1\",\n",
    "    \"rv_lag_m5\",\n",
    "    \"rv_lag_m22\",\n",
    "    \"rv_d_lag_1\",\n",
    "    \"rv_d_lag_m5\",\n",
    "    \"rv_d_lag_m22\",\n",
    "]\n",
    "\n",
    "for col in tqdm(lag_coeff_cols):\n",
    "    data_rv_df[col + \"_lag_1\"] = data_rv_df.groupby(\"ticker\")[col].shift(1)\n",
    "\n",
    "    for icol in interact_cols:\n",
    "        data_rv_df[f\"{icol}:{col}_lag_1\"] = np.multiply(\n",
    "            data_rv_df[icol], data_rv_df[col + \"_lag_1\"]\n",
    "        )"
   ]
  },
  {
   "cell_type": "markdown",
   "metadata": {},
   "source": [
    "## Rolling Beta"
   ]
  },
  {
   "cell_type": "code",
   "execution_count": 7,
   "metadata": {},
   "outputs": [],
   "source": [
    "# Window length\n",
    "window = 66\n",
    "\n",
    "# Regression\n",
    "reg_formula = 'rv ~ rv_lag_1 + rv_lag_m5 + rv_lag_m22'\n",
    "var_list = reg_formula.replace('+', ' ').replace('~', ' ').split()"
   ]
  },
  {
   "cell_type": "code",
   "execution_count": 11,
   "metadata": {},
   "outputs": [],
   "source": [
    "def fit_rolling_regression(ticker):\n",
    "\n",
    "    reg_df = (\n",
    "        data_rv_df.query(\"ticker == @ticker\")\n",
    "        .sort_values(by=\"date\")[[\"date\"] + var_list]\n",
    "        .dropna()\n",
    "        .set_index('date')\n",
    "    )\n",
    "    fit = RollingOLS.from_formula(reg_formula, reg_df, window).fit(\n",
    "        method=\"pinv\", params_only=True\n",
    "    )\n",
    "\n",
    "    fit_params_df = fit.params\n",
    "    fit_params_df[\"ticker\"] = ticker\n",
    "    fit_params_df = fit_params_df.reset_index()\n",
    "    \n",
    "    return fit_params_df.reset_index()"
   ]
  },
  {
   "cell_type": "code",
   "execution_count": 16,
   "metadata": {},
   "outputs": [
    {
     "data": {
      "application/vnd.jupyter.widget-view+json": {
       "model_id": "a72e89fe3d1b406f81988c165b58ca34",
       "version_major": 2,
       "version_minor": 0
      },
      "text/plain": [
       "HBox(children=(FloatProgress(value=0.0, max=455.0), HTML(value='')))"
      ]
     },
     "metadata": {},
     "output_type": "display_data"
    },
    {
     "name": "stdout",
     "output_type": "stream",
     "text": [
      "\n",
      "CPU times: user 1.22 s, sys: 5.31 s, total: 6.53 s\n",
      "Wall time: 1min 42s\n"
     ]
    }
   ],
   "source": [
    "%%time\n",
    "# Run HARs\n",
    "tickers = data_rv_df[\n",
    "    \"ticker\"\n",
    "].unique()  \n",
    "results = []\n",
    "\n",
    "with Pool(8) as p:\n",
    "    for fit_params_df in tqdm(\n",
    "        p.imap_unordered(fit_rolling_regression, tickers, chunksize=25),\n",
    "        total=len(tickers),\n",
    "    ):\n",
    "        results.append(fit_params_df)\n",
    "\n",
    "rolling_beta_df = pd.concat(results)"
   ]
  },
  {
   "cell_type": "code",
   "execution_count": 17,
   "metadata": {},
   "outputs": [],
   "source": [
    "coeff_cols = [\"rv_lag_1\", \"rv_lag_m5\", \"rv_lag_m22\"]\n",
    "data_rv_df = data_rv_df.merge(\n",
    "    rolling_beta_df.rename(columns={x: (x + \"_rollcoeff\") for x in coeff_cols}).drop(\n",
    "        \"Intercept\", axis=1\n",
    "    ),\n",
    "    on=[\"date\", \"ticker\"], how = 'left'\n",
    ")"
   ]
  },
  {
   "cell_type": "markdown",
   "metadata": {},
   "source": [
    "## Crisis Index"
   ]
  },
  {
   "cell_type": "code",
   "execution_count": 18,
   "metadata": {},
   "outputs": [],
   "source": [
    "# Persistence\n",
    "data_rv_df[\"persistence\"] = (\n",
    "    data_rv_df[\"rv_lag_1_rollcoeff\"]\n",
    "    + data_rv_df[\"rv_lag_m5_rollcoeff\"]\n",
    "    + data_rv_df[\"rv_lag_m22_rollcoeff\"]\n",
    ")\n",
    "\n",
    "# High Persistence indicator\n",
    "data_rv_df[\"indicator_high_beta\"] = data_rv_df[\"persistence\"].clip(-3, 3) > 0.6\n",
    "\n",
    "# Crisis index\n",
    "data_rv_df[\"switch\"] = (\n",
    "    data_rv_df.groupby(\"ticker\")[\"indicator_high_beta\"]\n",
    "    .rolling(22)\n",
    "    .mean()\n",
    "    .reset_index(drop=True)\n",
    ")\n",
    "data_rv_df[\"switch_lag_1\"] = (\n",
    "    data_rv_df.groupby(\"ticker\")[\"switch\"].shift(1).reset_index(drop=True)\n",
    ")"
   ]
  },
  {
   "cell_type": "code",
   "execution_count": 19,
   "metadata": {},
   "outputs": [
    {
     "data": {
      "application/vnd.jupyter.widget-view+json": {
       "model_id": "966852e8b95b43f8be460927ccd176b6",
       "version_major": 2,
       "version_minor": 0
      },
      "text/plain": [
       "HBox(children=(FloatProgress(value=0.0, max=9.0), HTML(value='')))"
      ]
     },
     "metadata": {},
     "output_type": "display_data"
    },
    {
     "name": "stdout",
     "output_type": "stream",
     "text": [
      "\n"
     ]
    }
   ],
   "source": [
    "# Crisis Index interaction terms\n",
    "data_rv_df['switchn'] = 1 - data_rv_df['switch']\n",
    "data_rv_df['switchn_lag_1'] = 1 - data_rv_df['switch_lag_1']\n",
    "data_rv_df['bv_lag_1'] = data_rv_df.groupby('ticker')['bipower_var_daily'].shift(1)\n",
    "\n",
    "interact_cols = [\n",
    "    'rv_lag_1',\n",
    "    'rv_lag_m5',\n",
    "    'rv_lag_m22',\n",
    "    'rv_d_lag_1',\n",
    "    'rv_d_lag_m5',\n",
    "    'rv_d_lag_m22',\n",
    "    'rv_lag_1:sqrt_rq_lag_1',\n",
    "    'rv_lag_m5:sqrt_rq_lag_1',\n",
    "    'rv_lag_m22:sqrt_rq_lag_1',\n",
    "]\n",
    "\n",
    "for col in tqdm(interact_cols):\n",
    "    data_rv_df[f'{col}:switchn_lag_1'] = data_rv_df[col]*data_rv_df['switchn_lag_1']"
   ]
  },
  {
   "cell_type": "markdown",
   "metadata": {},
   "source": [
    "# Regressions"
   ]
  },
  {
   "cell_type": "markdown",
   "metadata": {
    "collapsed": "true"
   },
   "source": [
    "## Panels"
   ]
  },
  {
   "cell_type": "code",
   "execution_count": 20,
   "metadata": {},
   "outputs": [
    {
     "name": "stderr",
     "output_type": "stream",
     "text": [
      "/usr/local/lib/python3.6/dist-packages/linearmodels/panel/data.py:98: FutureWarning: is_categorical is deprecated and will be removed in a future version.  Use is_categorical_dtype instead\n",
      "  if is_categorical(s):\n",
      "/usr/local/lib/python3.6/dist-packages/linearmodels/utility.py:549: MissingValueWarning: \n",
      "Inputs contain missing values. Dropping rows with missing observations.\n",
      "  warnings.warn(missing_value_warning_msg, MissingValueWarning)\n"
     ]
    },
    {
     "data": {
      "text/html": [
       "<table class=\"simpletable\">\n",
       "<caption>PanelOLS Estimation Summary</caption>\n",
       "<tr>\n",
       "  <th>Dep. Variable:</th>           <td>rv</td>        <th>  R-squared:         </th>     <td>0.4752</td>   \n",
       "</tr>\n",
       "<tr>\n",
       "  <th>Estimator:</th>            <td>PanelOLS</td>     <th>  R-squared (Between):</th>    <td>0.9763</td>   \n",
       "</tr>\n",
       "<tr>\n",
       "  <th>No. Observations:</th>      <td>648375</td>      <th>  R-squared (Within):</th>     <td>0.4181</td>   \n",
       "</tr>\n",
       "<tr>\n",
       "  <th>Date:</th>             <td>Sat, Nov 21 2020</td> <th>  R-squared (Overall):</th>    <td>0.4752</td>   \n",
       "</tr>\n",
       "<tr>\n",
       "  <th>Time:</th>                 <td>10:00:53</td>     <th>  Log-likelihood     </th>    <td>3.806e+06</td> \n",
       "</tr>\n",
       "<tr>\n",
       "  <th>Cov. Estimator:</th>    <td>Driscoll-Kraay</td>  <th>                     </th>        <td></td>      \n",
       "</tr>\n",
       "<tr>\n",
       "  <th></th>                          <td></td>         <th>  F-statistic:       </th>    <td>1.957e+05</td> \n",
       "</tr>\n",
       "<tr>\n",
       "  <th>Entities:</th>                <td>455</td>       <th>  P-value            </th>     <td>0.0000</td>   \n",
       "</tr>\n",
       "<tr>\n",
       "  <th>Avg Obs:</th>               <td>1425.0</td>      <th>  Distribution:      </th>   <td>F(3,648372)</td>\n",
       "</tr>\n",
       "<tr>\n",
       "  <th>Min Obs:</th>               <td>1425.0</td>      <th>                     </th>        <td></td>      \n",
       "</tr>\n",
       "<tr>\n",
       "  <th>Max Obs:</th>               <td>1425.0</td>      <th>  F-statistic (robust):</th>   <td>83.460</td>   \n",
       "</tr>\n",
       "<tr>\n",
       "  <th></th>                          <td></td>         <th>  P-value            </th>     <td>0.0000</td>   \n",
       "</tr>\n",
       "<tr>\n",
       "  <th>Time periods:</th>           <td>1425</td>       <th>  Distribution:      </th>   <td>F(3,648372)</td>\n",
       "</tr>\n",
       "<tr>\n",
       "  <th>Avg Obs:</th>               <td>455.00</td>      <th>                     </th>        <td></td>      \n",
       "</tr>\n",
       "<tr>\n",
       "  <th>Min Obs:</th>               <td>455.00</td>      <th>                     </th>        <td></td>      \n",
       "</tr>\n",
       "<tr>\n",
       "  <th>Max Obs:</th>               <td>455.00</td>      <th>                     </th>        <td></td>      \n",
       "</tr>\n",
       "<tr>\n",
       "  <th></th>                          <td></td>         <th>                     </th>        <td></td>      \n",
       "</tr>\n",
       "</table>\n",
       "<table class=\"simpletable\">\n",
       "<caption>Parameter Estimates</caption>\n",
       "<tr>\n",
       "       <td></td>      <th>Parameter</th> <th>Std. Err.</th> <th>T-stat</th> <th>P-value</th> <th>Lower CI</th> <th>Upper CI</th>\n",
       "</tr>\n",
       "<tr>\n",
       "  <th>rv_lag_1</th>    <td>0.2523</td>    <td>0.1279</td>   <td>1.9723</td> <td>0.0486</td>   <td>0.0016</td>   <td>0.5029</td> \n",
       "</tr>\n",
       "<tr>\n",
       "  <th>rv_lag_m5</th>   <td>0.5413</td>    <td>0.1259</td>   <td>4.3010</td> <td>0.0000</td>   <td>0.2946</td>   <td>0.7880</td> \n",
       "</tr>\n",
       "<tr>\n",
       "  <th>rv_lag_m22</th>  <td>0.0528</td>    <td>0.0795</td>   <td>0.6638</td> <td>0.5068</td>   <td>-0.1031</td>  <td>0.2087</td> \n",
       "</tr>\n",
       "</table><br/><br/><br/>id: 0x7f8737f6d5c0"
      ],
      "text/plain": [
       "                          PanelOLS Estimation Summary                           \n",
       "================================================================================\n",
       "Dep. Variable:                     rv   R-squared:                        0.4752\n",
       "Estimator:                   PanelOLS   R-squared (Between):              0.9763\n",
       "No. Observations:              648375   R-squared (Within):               0.4181\n",
       "Date:                Sat, Nov 21 2020   R-squared (Overall):              0.4752\n",
       "Time:                        10:00:53   Log-likelihood                 3.806e+06\n",
       "Cov. Estimator:        Driscoll-Kraay                                           \n",
       "                                        F-statistic:                   1.957e+05\n",
       "Entities:                         455   P-value                           0.0000\n",
       "Avg Obs:                       1425.0   Distribution:                F(3,648372)\n",
       "Min Obs:                       1425.0                                           \n",
       "Max Obs:                       1425.0   F-statistic (robust):             83.460\n",
       "                                        P-value                           0.0000\n",
       "Time periods:                    1425   Distribution:                F(3,648372)\n",
       "Avg Obs:                       455.00                                           \n",
       "Min Obs:                       455.00                                           \n",
       "Max Obs:                       455.00                                           \n",
       "                                                                                \n",
       "                             Parameter Estimates                              \n",
       "==============================================================================\n",
       "            Parameter  Std. Err.     T-stat    P-value    Lower CI    Upper CI\n",
       "------------------------------------------------------------------------------\n",
       "rv_lag_1       0.2523     0.1279     1.9723     0.0486      0.0016      0.5029\n",
       "rv_lag_m5      0.5413     0.1259     4.3010     0.0000      0.2946      0.7880\n",
       "rv_lag_m22     0.0528     0.0795     0.6638     0.5068     -0.1031      0.2087\n",
       "==============================================================================\n",
       "\n",
       "\n",
       "PanelEffectsResults, id: 0x7f8737f6d5c0"
      ]
     },
     "execution_count": 20,
     "metadata": {},
     "output_type": "execute_result"
    }
   ],
   "source": [
    "mod = lm.PanelOLS(\n",
    "    data_rv_df.set_index([\"ticker\", \"date\"])[\"rv\"],\n",
    "    data_rv_df.set_index([\"ticker\", \"date\"])[[\"rv_lag_1\", \"rv_lag_m5\", \"rv_lag_m22\"]],\n",
    ")\n",
    "fit = mod.fit(\n",
    "    cov_type=\"kernel\",\n",
    "    **{\"kernel\": \"newey-west\"}\n",
    ")\n",
    "fit"
   ]
  },
  {
   "cell_type": "code",
   "execution_count": 21,
   "metadata": {},
   "outputs": [
    {
     "data": {
      "text/html": [
       "<table class=\"simpletable\">\n",
       "<caption>PanelOLS Estimation Summary</caption>\n",
       "<tr>\n",
       "  <th>Dep. Variable:</th>           <td>rv</td>        <th>  R-squared:         </th>     <td>0.4850</td>   \n",
       "</tr>\n",
       "<tr>\n",
       "  <th>Estimator:</th>            <td>PanelOLS</td>     <th>  R-squared (Between):</th>    <td>0.9924</td>   \n",
       "</tr>\n",
       "<tr>\n",
       "  <th>No. Observations:</th>      <td>648375</td>      <th>  R-squared (Within):</th>     <td>0.4273</td>   \n",
       "</tr>\n",
       "<tr>\n",
       "  <th>Date:</th>             <td>Sat, Nov 21 2020</td> <th>  R-squared (Overall):</th>    <td>0.4850</td>   \n",
       "</tr>\n",
       "<tr>\n",
       "  <th>Time:</th>                 <td>10:01:01</td>     <th>  Log-likelihood     </th>    <td>3.813e+06</td> \n",
       "</tr>\n",
       "<tr>\n",
       "  <th>Cov. Estimator:</th>    <td>Driscoll-Kraay</td>  <th>                     </th>        <td></td>      \n",
       "</tr>\n",
       "<tr>\n",
       "  <th></th>                          <td></td>         <th>  F-statistic:       </th>    <td>1.221e+05</td> \n",
       "</tr>\n",
       "<tr>\n",
       "  <th>Entities:</th>                <td>455</td>       <th>  P-value            </th>     <td>0.0000</td>   \n",
       "</tr>\n",
       "<tr>\n",
       "  <th>Avg Obs:</th>               <td>1425.0</td>      <th>  Distribution:      </th>   <td>F(5,648370)</td>\n",
       "</tr>\n",
       "<tr>\n",
       "  <th>Min Obs:</th>               <td>1425.0</td>      <th>                     </th>        <td></td>      \n",
       "</tr>\n",
       "<tr>\n",
       "  <th>Max Obs:</th>               <td>1425.0</td>      <th>  F-statistic (robust):</th>   <td>165.59</td>   \n",
       "</tr>\n",
       "<tr>\n",
       "  <th></th>                          <td></td>         <th>  P-value            </th>     <td>0.0000</td>   \n",
       "</tr>\n",
       "<tr>\n",
       "  <th>Time periods:</th>           <td>1425</td>       <th>  Distribution:      </th>   <td>F(5,648370)</td>\n",
       "</tr>\n",
       "<tr>\n",
       "  <th>Avg Obs:</th>               <td>455.00</td>      <th>                     </th>        <td></td>      \n",
       "</tr>\n",
       "<tr>\n",
       "  <th>Min Obs:</th>               <td>455.00</td>      <th>                     </th>        <td></td>      \n",
       "</tr>\n",
       "<tr>\n",
       "  <th>Max Obs:</th>               <td>455.00</td>      <th>                     </th>        <td></td>      \n",
       "</tr>\n",
       "<tr>\n",
       "  <th></th>                          <td></td>         <th>                     </th>        <td></td>      \n",
       "</tr>\n",
       "</table>\n",
       "<table class=\"simpletable\">\n",
       "<caption>Parameter Estimates</caption>\n",
       "<tr>\n",
       "              <td></td>             <th>Parameter</th> <th>Std. Err.</th> <th>T-stat</th>  <th>P-value</th>  <th>Lower CI</th>  <th>Upper CI</th> \n",
       "</tr>\n",
       "<tr>\n",
       "  <th>switchn_lag_1</th>            <td>4.226e-05</td> <td>2.89e-05</td>  <td>1.4623</td>  <td>0.1437</td>  <td>-1.438e-05</td> <td>9.889e-05</td>\n",
       "</tr>\n",
       "<tr>\n",
       "  <th>rv_lag_1</th>                  <td>0.8431</td>    <td>0.0633</td>   <td>13.320</td>  <td>0.0000</td>    <td>0.7190</td>    <td>0.9671</td>  \n",
       "</tr>\n",
       "<tr>\n",
       "  <th>rv_lag_1:switchn_lag_1</th>    <td>-0.8451</td>   <td>0.1034</td>   <td>-8.1698</td> <td>0.0000</td>    <td>-1.0478</td>   <td>-0.6424</td> \n",
       "</tr>\n",
       "<tr>\n",
       "  <th>rv_lag_m5:switchn_lag_1</th>   <td>0.5388</td>    <td>0.3192</td>   <td>1.6882</td>  <td>0.0914</td>    <td>-0.0867</td>   <td>1.1644</td>  \n",
       "</tr>\n",
       "<tr>\n",
       "  <th>rv_lag_m22:switchn_lag_1</th>  <td>0.3149</td>    <td>0.1630</td>   <td>1.9322</td>  <td>0.0533</td>    <td>-0.0045</td>   <td>0.6343</td>  \n",
       "</tr>\n",
       "</table><br/><br/><br/>id: 0x7f8737f2b3c8"
      ],
      "text/plain": [
       "                          PanelOLS Estimation Summary                           \n",
       "================================================================================\n",
       "Dep. Variable:                     rv   R-squared:                        0.4850\n",
       "Estimator:                   PanelOLS   R-squared (Between):              0.9924\n",
       "No. Observations:              648375   R-squared (Within):               0.4273\n",
       "Date:                Sat, Nov 21 2020   R-squared (Overall):              0.4850\n",
       "Time:                        10:01:01   Log-likelihood                 3.813e+06\n",
       "Cov. Estimator:        Driscoll-Kraay                                           \n",
       "                                        F-statistic:                   1.221e+05\n",
       "Entities:                         455   P-value                           0.0000\n",
       "Avg Obs:                       1425.0   Distribution:                F(5,648370)\n",
       "Min Obs:                       1425.0                                           \n",
       "Max Obs:                       1425.0   F-statistic (robust):             165.59\n",
       "                                        P-value                           0.0000\n",
       "Time periods:                    1425   Distribution:                F(5,648370)\n",
       "Avg Obs:                       455.00                                           \n",
       "Min Obs:                       455.00                                           \n",
       "Max Obs:                       455.00                                           \n",
       "                                                                                \n",
       "                                    Parameter Estimates                                     \n",
       "============================================================================================\n",
       "                          Parameter  Std. Err.     T-stat    P-value    Lower CI    Upper CI\n",
       "--------------------------------------------------------------------------------------------\n",
       "switchn_lag_1             4.226e-05   2.89e-05     1.4623     0.1437  -1.438e-05   9.889e-05\n",
       "rv_lag_1                     0.8431     0.0633     13.320     0.0000      0.7190      0.9671\n",
       "rv_lag_1:switchn_lag_1      -0.8451     0.1034    -8.1698     0.0000     -1.0478     -0.6424\n",
       "rv_lag_m5:switchn_lag_1      0.5388     0.3192     1.6882     0.0914     -0.0867      1.1644\n",
       "rv_lag_m22:switchn_lag_1     0.3149     0.1630     1.9322     0.0533     -0.0045      0.6343\n",
       "============================================================================================\n",
       "\n",
       "\n",
       "PanelEffectsResults, id: 0x7f8737f2b3c8"
      ]
     },
     "execution_count": 21,
     "metadata": {},
     "output_type": "execute_result"
    }
   ],
   "source": [
    "mod = lm.PanelOLS(\n",
    "    data_rv_df.set_index([\"ticker\", \"date\"])[\"rv\"],\n",
    "    data_rv_df.set_index([\"ticker\", \"date\"])[[\"switchn_lag_1\", \"rv_lag_1\", \"rv_lag_1:switchn_lag_1\", \n",
    "                                              \"rv_lag_m5:switchn_lag_1\", \"rv_lag_m22:switchn_lag_1\"]],\n",
    ")\n",
    "fit = mod.fit(\n",
    "    cov_type=\"kernel\",\n",
    "    **{\"kernel\": \"newey-west\"}\n",
    ")\n",
    "fit"
   ]
  },
  {
   "cell_type": "code",
   "execution_count": 22,
   "metadata": {},
   "outputs": [
    {
     "data": {
      "text/html": [
       "<table class=\"simpletable\">\n",
       "<caption>PanelOLS Estimation Summary</caption>\n",
       "<tr>\n",
       "  <th>Dep. Variable:</th>           <td>rv</td>        <th>  R-squared:         </th>     <td>0.4938</td>   \n",
       "</tr>\n",
       "<tr>\n",
       "  <th>Estimator:</th>            <td>PanelOLS</td>     <th>  R-squared (Between):</th>    <td>0.9929</td>   \n",
       "</tr>\n",
       "<tr>\n",
       "  <th>No. Observations:</th>      <td>648375</td>      <th>  R-squared (Within):</th>     <td>0.4370</td>   \n",
       "</tr>\n",
       "<tr>\n",
       "  <th>Date:</th>             <td>Sat, Nov 21 2020</td> <th>  R-squared (Overall):</th>    <td>0.4938</td>   \n",
       "</tr>\n",
       "<tr>\n",
       "  <th>Time:</th>                 <td>10:01:08</td>     <th>  Log-likelihood     </th>    <td>3.818e+06</td> \n",
       "</tr>\n",
       "<tr>\n",
       "  <th>Cov. Estimator:</th>    <td>Driscoll-Kraay</td>  <th>                     </th>        <td></td>      \n",
       "</tr>\n",
       "<tr>\n",
       "  <th></th>                          <td></td>         <th>  F-statistic:       </th>    <td>9.036e+04</td> \n",
       "</tr>\n",
       "<tr>\n",
       "  <th>Entities:</th>                <td>455</td>       <th>  P-value            </th>     <td>0.0000</td>   \n",
       "</tr>\n",
       "<tr>\n",
       "  <th>Avg Obs:</th>               <td>1425.0</td>      <th>  Distribution:      </th>   <td>F(7,648368)</td>\n",
       "</tr>\n",
       "<tr>\n",
       "  <th>Min Obs:</th>               <td>1425.0</td>      <th>                     </th>        <td></td>      \n",
       "</tr>\n",
       "<tr>\n",
       "  <th>Max Obs:</th>               <td>1425.0</td>      <th>  F-statistic (robust):</th>   <td>245.85</td>   \n",
       "</tr>\n",
       "<tr>\n",
       "  <th></th>                          <td></td>         <th>  P-value            </th>     <td>0.0000</td>   \n",
       "</tr>\n",
       "<tr>\n",
       "  <th>Time periods:</th>           <td>1425</td>       <th>  Distribution:      </th>   <td>F(7,648368)</td>\n",
       "</tr>\n",
       "<tr>\n",
       "  <th>Avg Obs:</th>               <td>455.00</td>      <th>                     </th>        <td></td>      \n",
       "</tr>\n",
       "<tr>\n",
       "  <th>Min Obs:</th>               <td>455.00</td>      <th>                     </th>        <td></td>      \n",
       "</tr>\n",
       "<tr>\n",
       "  <th>Max Obs:</th>               <td>455.00</td>      <th>                     </th>        <td></td>      \n",
       "</tr>\n",
       "<tr>\n",
       "  <th></th>                          <td></td>         <th>                     </th>        <td></td>      \n",
       "</tr>\n",
       "</table>\n",
       "<table class=\"simpletable\">\n",
       "<caption>Parameter Estimates</caption>\n",
       "<tr>\n",
       "              <td></td>             <th>Parameter</th> <th>Std. Err.</th> <th>T-stat</th>  <th>P-value</th>  <th>Lower CI</th>  <th>Upper CI</th>\n",
       "</tr>\n",
       "<tr>\n",
       "  <th>switchn_lag_1</th>            <td>4.902e-05</td> <td>2.695e-05</td> <td>1.8187</td>  <td>0.0690</td>  <td>-3.806e-06</td>  <td>0.0001</td> \n",
       "</tr>\n",
       "<tr>\n",
       "  <th>rv_lag_1</th>                  <td>0.5790</td>    <td>0.0786</td>   <td>7.3652</td>  <td>0.0000</td>    <td>0.4249</td>    <td>0.7331</td> \n",
       "</tr>\n",
       "<tr>\n",
       "  <th>rv_lag_1:switchn_lag_1</th>    <td>-0.5245</td>   <td>0.1355</td>   <td>-3.8705</td> <td>0.0001</td>    <td>-0.7901</td>   <td>-0.2589</td>\n",
       "</tr>\n",
       "<tr>\n",
       "  <th>rv_lag_m5</th>                 <td>0.3743</td>    <td>0.1280</td>   <td>2.9244</td>  <td>0.0035</td>    <td>0.1234</td>    <td>0.6252</td> \n",
       "</tr>\n",
       "<tr>\n",
       "  <th>rv_lag_m5:switchn_lag_1</th>   <td>0.0542</td>    <td>0.3292</td>   <td>0.1646</td>  <td>0.8693</td>    <td>-0.5910</td>   <td>0.6993</td> \n",
       "</tr>\n",
       "<tr>\n",
       "  <th>rv_lag_m22</th>                <td>-0.0767</td>   <td>0.0734</td>   <td>-1.0451</td> <td>0.2960</td>    <td>-0.2205</td>   <td>0.0671</td> \n",
       "</tr>\n",
       "<tr>\n",
       "  <th>rv_lag_m22:switchn_lag_1</th>  <td>0.4014</td>    <td>0.2097</td>   <td>1.9142</td>  <td>0.0556</td>    <td>-0.0096</td>   <td>0.8124</td> \n",
       "</tr>\n",
       "</table><br/><br/><br/>id: 0x7f86c007e6d8"
      ],
      "text/plain": [
       "                          PanelOLS Estimation Summary                           \n",
       "================================================================================\n",
       "Dep. Variable:                     rv   R-squared:                        0.4938\n",
       "Estimator:                   PanelOLS   R-squared (Between):              0.9929\n",
       "No. Observations:              648375   R-squared (Within):               0.4370\n",
       "Date:                Sat, Nov 21 2020   R-squared (Overall):              0.4938\n",
       "Time:                        10:01:08   Log-likelihood                 3.818e+06\n",
       "Cov. Estimator:        Driscoll-Kraay                                           \n",
       "                                        F-statistic:                   9.036e+04\n",
       "Entities:                         455   P-value                           0.0000\n",
       "Avg Obs:                       1425.0   Distribution:                F(7,648368)\n",
       "Min Obs:                       1425.0                                           \n",
       "Max Obs:                       1425.0   F-statistic (robust):             245.85\n",
       "                                        P-value                           0.0000\n",
       "Time periods:                    1425   Distribution:                F(7,648368)\n",
       "Avg Obs:                       455.00                                           \n",
       "Min Obs:                       455.00                                           \n",
       "Max Obs:                       455.00                                           \n",
       "                                                                                \n",
       "                                    Parameter Estimates                                     \n",
       "============================================================================================\n",
       "                          Parameter  Std. Err.     T-stat    P-value    Lower CI    Upper CI\n",
       "--------------------------------------------------------------------------------------------\n",
       "switchn_lag_1             4.902e-05  2.695e-05     1.8187     0.0690  -3.806e-06      0.0001\n",
       "rv_lag_1                     0.5790     0.0786     7.3652     0.0000      0.4249      0.7331\n",
       "rv_lag_1:switchn_lag_1      -0.5245     0.1355    -3.8705     0.0001     -0.7901     -0.2589\n",
       "rv_lag_m5                    0.3743     0.1280     2.9244     0.0035      0.1234      0.6252\n",
       "rv_lag_m5:switchn_lag_1      0.0542     0.3292     0.1646     0.8693     -0.5910      0.6993\n",
       "rv_lag_m22                  -0.0767     0.0734    -1.0451     0.2960     -0.2205      0.0671\n",
       "rv_lag_m22:switchn_lag_1     0.4014     0.2097     1.9142     0.0556     -0.0096      0.8124\n",
       "============================================================================================\n",
       "\n",
       "\n",
       "PanelEffectsResults, id: 0x7f86c007e6d8"
      ]
     },
     "execution_count": 22,
     "metadata": {},
     "output_type": "execute_result"
    }
   ],
   "source": [
    "mod = lm.PanelOLS(\n",
    "    data_rv_df.set_index([\"ticker\", \"date\"])[\"rv\"],\n",
    "    data_rv_df.set_index([\"ticker\", \"date\"])[[\"switchn_lag_1\", \"rv_lag_1\", \"rv_lag_1:switchn_lag_1\", \n",
    "                                              \"rv_lag_m5\", \"rv_lag_m5:switchn_lag_1\", \n",
    "                                              \"rv_lag_m22\", \"rv_lag_m22:switchn_lag_1\"]],\n",
    ")\n",
    "fit = mod.fit(\n",
    "    cov_type=\"kernel\",\n",
    "    **{\"kernel\": \"newey-west\"}\n",
    ")\n",
    "fit"
   ]
  },
  {
   "cell_type": "markdown",
   "metadata": {
    "collapsed": "true"
   },
   "source": [
    "## Full sample estimation of LS model"
   ]
  },
  {
   "cell_type": "code",
   "execution_count": 23,
   "metadata": {},
   "outputs": [],
   "source": [
    "reg_formula_har = \"rv ~ rv_lag_1 + rv_lag_m5 + rv_lag_m22\"\n",
    "\n",
    "reg_formula_har_ls = \"\"\"rv ~ np.divide(switchn_lag_1, 1e4)\n",
    "+ rv_lag_1 + rv_lag_1:switchn_lag_1 + \n",
    "rv_lag_m5:switchn_lag_1 + rv_lag_m22:switchn_lag_1\"\"\"\n",
    "\n",
    "reg_formula_har_ls_full = \"\"\"rv ~ np.divide(switchn_lag_1, 1e4)\n",
    "+ rv_lag_1 + rv_lag_1:switchn_lag_1 + \n",
    "rv_lag_m5 + rv_lag_m5:switchn_lag_1 +\n",
    "rv_lag_m22 + rv_lag_m22:switchn_lag_1\"\"\""
   ]
  },
  {
   "cell_type": "code",
   "execution_count": 24,
   "metadata": {},
   "outputs": [
    {
     "data": {
      "text/html": [
       "<table class=\"simpletable\">\n",
       "<caption>OLS Regression Results</caption>\n",
       "<tr>\n",
       "  <th>Dep. Variable:</th>           <td>rv</td>        <th>  R-squared:         </th>  <td>   0.494</td> \n",
       "</tr>\n",
       "<tr>\n",
       "  <th>Model:</th>                   <td>OLS</td>       <th>  Adj. R-squared:    </th>  <td>   0.492</td> \n",
       "</tr>\n",
       "<tr>\n",
       "  <th>Method:</th>             <td>Least Squares</td>  <th>  F-statistic:       </th>  <td>   277.4</td> \n",
       "</tr>\n",
       "<tr>\n",
       "  <th>Date:</th>             <td>Sat, 21 Nov 2020</td> <th>  Prob (F-statistic):</th>  <td>4.26e-207</td>\n",
       "</tr>\n",
       "<tr>\n",
       "  <th>Time:</th>                 <td>10:01:12</td>     <th>  Log-Likelihood:    </th>  <td>  9865.6</td> \n",
       "</tr>\n",
       "<tr>\n",
       "  <th>No. Observations:</th>      <td>  1425</td>      <th>  AIC:               </th> <td>-1.972e+04</td>\n",
       "</tr>\n",
       "<tr>\n",
       "  <th>Df Residuals:</th>          <td>  1419</td>      <th>  BIC:               </th> <td>-1.969e+04</td>\n",
       "</tr>\n",
       "<tr>\n",
       "  <th>Df Model:</th>              <td>     5</td>      <th>                     </th>      <td> </td>    \n",
       "</tr>\n",
       "<tr>\n",
       "  <th>Covariance Type:</th>      <td>nonrobust</td>    <th>                     </th>      <td> </td>    \n",
       "</tr>\n",
       "</table>\n",
       "<table class=\"simpletable\">\n",
       "<tr>\n",
       "                <td></td>                   <th>coef</th>     <th>std err</th>      <th>t</th>      <th>P>|t|</th>  <th>[0.025</th>    <th>0.975]</th>  \n",
       "</tr>\n",
       "<tr>\n",
       "  <th>Intercept</th>                     <td> 6.712e-05</td> <td> 1.74e-05</td> <td>    3.858</td> <td> 0.000</td> <td>  3.3e-05</td> <td>    0.000</td>\n",
       "</tr>\n",
       "<tr>\n",
       "  <th>np.divide(switchn_lag_1, 1e4)</th> <td>   -0.3808</td> <td>    0.222</td> <td>   -1.713</td> <td> 0.087</td> <td>   -0.817</td> <td>    0.055</td>\n",
       "</tr>\n",
       "<tr>\n",
       "  <th>rv_lag_1</th>                      <td>    0.7851</td> <td>    0.032</td> <td>   24.570</td> <td> 0.000</td> <td>    0.722</td> <td>    0.848</td>\n",
       "</tr>\n",
       "<tr>\n",
       "  <th>rv_lag_1:switchn_lag_1</th>        <td>   -0.4430</td> <td>    0.060</td> <td>   -7.388</td> <td> 0.000</td> <td>   -0.561</td> <td>   -0.325</td>\n",
       "</tr>\n",
       "<tr>\n",
       "  <th>rv_lag_m5:switchn_lag_1</th>       <td>    0.3084</td> <td>    0.076</td> <td>    4.084</td> <td> 0.000</td> <td>    0.160</td> <td>    0.456</td>\n",
       "</tr>\n",
       "<tr>\n",
       "  <th>rv_lag_m22:switchn_lag_1</th>      <td>    0.1962</td> <td>    0.090</td> <td>    2.171</td> <td> 0.030</td> <td>    0.019</td> <td>    0.373</td>\n",
       "</tr>\n",
       "</table>\n",
       "<table class=\"simpletable\">\n",
       "<tr>\n",
       "  <th>Omnibus:</th>       <td>1305.545</td> <th>  Durbin-Watson:     </th> <td>   2.101</td> \n",
       "</tr>\n",
       "<tr>\n",
       "  <th>Prob(Omnibus):</th>  <td> 0.000</td>  <th>  Jarque-Bera (JB):  </th> <td>69038.978</td>\n",
       "</tr>\n",
       "<tr>\n",
       "  <th>Skew:</th>           <td> 4.105</td>  <th>  Prob(JB):          </th> <td>    0.00</td> \n",
       "</tr>\n",
       "<tr>\n",
       "  <th>Kurtosis:</th>       <td>36.096</td>  <th>  Cond. No.          </th> <td>3.56e+04</td> \n",
       "</tr>\n",
       "</table><br/><br/>Warnings:<br/>[1] Standard Errors assume that the covariance matrix of the errors is correctly specified.<br/>[2] The condition number is large, 3.56e+04. This might indicate that there are<br/>strong multicollinearity or other numerical problems."
      ],
      "text/plain": [
       "<class 'statsmodels.iolib.summary.Summary'>\n",
       "\"\"\"\n",
       "                            OLS Regression Results                            \n",
       "==============================================================================\n",
       "Dep. Variable:                     rv   R-squared:                       0.494\n",
       "Model:                            OLS   Adj. R-squared:                  0.492\n",
       "Method:                 Least Squares   F-statistic:                     277.4\n",
       "Date:                Sat, 21 Nov 2020   Prob (F-statistic):          4.26e-207\n",
       "Time:                        10:01:12   Log-Likelihood:                 9865.6\n",
       "No. Observations:                1425   AIC:                        -1.972e+04\n",
       "Df Residuals:                    1419   BIC:                        -1.969e+04\n",
       "Df Model:                           5                                         \n",
       "Covariance Type:            nonrobust                                         \n",
       "=================================================================================================\n",
       "                                    coef    std err          t      P>|t|      [0.025      0.975]\n",
       "-------------------------------------------------------------------------------------------------\n",
       "Intercept                      6.712e-05   1.74e-05      3.858      0.000     3.3e-05       0.000\n",
       "np.divide(switchn_lag_1, 1e4)    -0.3808      0.222     -1.713      0.087      -0.817       0.055\n",
       "rv_lag_1                          0.7851      0.032     24.570      0.000       0.722       0.848\n",
       "rv_lag_1:switchn_lag_1           -0.4430      0.060     -7.388      0.000      -0.561      -0.325\n",
       "rv_lag_m5:switchn_lag_1           0.3084      0.076      4.084      0.000       0.160       0.456\n",
       "rv_lag_m22:switchn_lag_1          0.1962      0.090      2.171      0.030       0.019       0.373\n",
       "==============================================================================\n",
       "Omnibus:                     1305.545   Durbin-Watson:                   2.101\n",
       "Prob(Omnibus):                  0.000   Jarque-Bera (JB):            69038.978\n",
       "Skew:                           4.105   Prob(JB):                         0.00\n",
       "Kurtosis:                      36.096   Cond. No.                     3.56e+04\n",
       "==============================================================================\n",
       "\n",
       "Warnings:\n",
       "[1] Standard Errors assume that the covariance matrix of the errors is correctly specified.\n",
       "[2] The condition number is large, 3.56e+04. This might indicate that there are\n",
       "strong multicollinearity or other numerical problems.\n",
       "\"\"\""
      ]
     },
     "execution_count": 24,
     "metadata": {},
     "output_type": "execute_result"
    }
   ],
   "source": [
    "smf.ols(reg_formula_har_ls, data_rv_df.query('ticker == \"AMZN\"')).fit().summary()"
   ]
  },
  {
   "cell_type": "code",
   "execution_count": 25,
   "metadata": {},
   "outputs": [
    {
     "data": {
      "application/vnd.jupyter.widget-view+json": {
       "model_id": "685e61daa15f48d3838507f7e8190cda",
       "version_major": 2,
       "version_minor": 0
      },
      "text/plain": [
       "HBox(children=(FloatProgress(value=0.0, max=455.0), HTML(value='')))"
      ]
     },
     "metadata": {},
     "output_type": "display_data"
    },
    {
     "name": "stdout",
     "output_type": "stream",
     "text": [
      "\n"
     ]
    }
   ],
   "source": [
    "ticker_list = data_rv_df['ticker'].unique()\n",
    "har_lsparams_results = []\n",
    "\n",
    "def get_har_ls_params(ticker):\n",
    "\n",
    "    fit = smf.ols(reg_formula_har_ls, data_rv_df.query('ticker == @ticker')).fit()\n",
    "    result = fit.params[1:]\n",
    "    result.index = ['harls_coeff_' + x for x in result.index]\n",
    "    result['ticker'] = ticker\n",
    "    result['rsquared_har_ls'] = fit.rsquared\n",
    "    result['aic_har_ls'] = fit.aic\n",
    "    \n",
    "    fit = smf.ols(reg_formula_har, data_rv_df.query('ticker == @ticker')).fit()\n",
    "    temp = fit.params[1:]\n",
    "    temp.index = ['har_coeff_' + x for x in temp.index]\n",
    "    result = result.append(temp)\n",
    "    result['rsquared_har'] = fit.rsquared\n",
    "    result['aic_har'] = fit.aic\n",
    "    \n",
    "    \n",
    "    fit = smf.ols(reg_formula_har_ls_full, data_rv_df.query('ticker == @ticker')).fit()\n",
    "    temp = fit.params[1:]\n",
    "    temp.index = ['harlsf_coeff_' + x for x in temp.index]\n",
    "    result = result.append(temp)\n",
    "    result['rsquared_har_lsf'] = fit.rsquared\n",
    "    result['aic_har_lsf'] = fit.aic\n",
    "    \n",
    "    return result\n",
    "\n",
    "with Pool(8) as p:\n",
    "    \n",
    "    for result in tqdm(p.imap_unordered(get_har_ls_params, ticker_list), total = len(ticker_list)):\n",
    "\n",
    "        har_lsparams_results.append(result)"
   ]
  },
  {
   "cell_type": "code",
   "execution_count": 26,
   "metadata": {},
   "outputs": [
    {
     "data": {
      "text/html": [
       "<div>\n",
       "<style scoped>\n",
       "    .dataframe tbody tr th:only-of-type {\n",
       "        vertical-align: middle;\n",
       "    }\n",
       "\n",
       "    .dataframe tbody tr th {\n",
       "        vertical-align: top;\n",
       "    }\n",
       "\n",
       "    .dataframe thead th {\n",
       "        text-align: right;\n",
       "    }\n",
       "</style>\n",
       "<table border=\"1\" class=\"dataframe\">\n",
       "  <thead>\n",
       "    <tr style=\"text-align: right;\">\n",
       "      <th></th>\n",
       "      <th>harls_coeff_np.divide(switchn_lag_1, 1e4)</th>\n",
       "      <th>harls_coeff_rv_lag_1</th>\n",
       "      <th>harls_coeff_rv_lag_1:switchn_lag_1</th>\n",
       "      <th>harls_coeff_rv_lag_m5:switchn_lag_1</th>\n",
       "      <th>harls_coeff_rv_lag_m22:switchn_lag_1</th>\n",
       "      <th>rsquared_har_ls</th>\n",
       "      <th>aic_har_ls</th>\n",
       "      <th>har_coeff_rv_lag_1</th>\n",
       "      <th>har_coeff_rv_lag_m5</th>\n",
       "      <th>har_coeff_rv_lag_m22</th>\n",
       "      <th>...</th>\n",
       "      <th>aic_har</th>\n",
       "      <th>harlsf_coeff_np.divide(switchn_lag_1, 1e4)</th>\n",
       "      <th>harlsf_coeff_rv_lag_1</th>\n",
       "      <th>harlsf_coeff_rv_lag_1:switchn_lag_1</th>\n",
       "      <th>harlsf_coeff_rv_lag_m5</th>\n",
       "      <th>harlsf_coeff_rv_lag_m5:switchn_lag_1</th>\n",
       "      <th>harlsf_coeff_rv_lag_m22</th>\n",
       "      <th>harlsf_coeff_rv_lag_m22:switchn_lag_1</th>\n",
       "      <th>rsquared_har_lsf</th>\n",
       "      <th>aic_har_lsf</th>\n",
       "    </tr>\n",
       "    <tr>\n",
       "      <th>ticker</th>\n",
       "      <th></th>\n",
       "      <th></th>\n",
       "      <th></th>\n",
       "      <th></th>\n",
       "      <th></th>\n",
       "      <th></th>\n",
       "      <th></th>\n",
       "      <th></th>\n",
       "      <th></th>\n",
       "      <th></th>\n",
       "      <th></th>\n",
       "      <th></th>\n",
       "      <th></th>\n",
       "      <th></th>\n",
       "      <th></th>\n",
       "      <th></th>\n",
       "      <th></th>\n",
       "      <th></th>\n",
       "      <th></th>\n",
       "      <th></th>\n",
       "      <th></th>\n",
       "    </tr>\n",
       "  </thead>\n",
       "  <tbody>\n",
       "    <tr>\n",
       "      <th>AAL</th>\n",
       "      <td>-2.988489</td>\n",
       "      <td>0.780137</td>\n",
       "      <td>-0.897515</td>\n",
       "      <td>1.019260</td>\n",
       "      <td>0.053739</td>\n",
       "      <td>0.551628</td>\n",
       "      <td>-14975.514537</td>\n",
       "      <td>0.387167</td>\n",
       "      <td>0.448971</td>\n",
       "      <td>0.024811</td>\n",
       "      <td>...</td>\n",
       "      <td>-14997.749479</td>\n",
       "      <td>-2.085016</td>\n",
       "      <td>0.505374</td>\n",
       "      <td>-0.357554</td>\n",
       "      <td>0.320290</td>\n",
       "      <td>0.423092</td>\n",
       "      <td>0.000445</td>\n",
       "      <td>0.053369</td>\n",
       "      <td>0.561256</td>\n",
       "      <td>-15002.446937</td>\n",
       "    </tr>\n",
       "    <tr>\n",
       "      <th>A</th>\n",
       "      <td>-0.236230</td>\n",
       "      <td>0.849597</td>\n",
       "      <td>-0.779728</td>\n",
       "      <td>0.811719</td>\n",
       "      <td>0.151023</td>\n",
       "      <td>0.607496</td>\n",
       "      <td>-20074.560108</td>\n",
       "      <td>0.336020</td>\n",
       "      <td>0.578722</td>\n",
       "      <td>-0.085861</td>\n",
       "      <td>...</td>\n",
       "      <td>-20048.079938</td>\n",
       "      <td>-0.770960</td>\n",
       "      <td>0.589938</td>\n",
       "      <td>-0.474680</td>\n",
       "      <td>0.423448</td>\n",
       "      <td>0.185029</td>\n",
       "      <td>-0.290288</td>\n",
       "      <td>0.886482</td>\n",
       "      <td>0.615776</td>\n",
       "      <td>-20100.943902</td>\n",
       "    </tr>\n",
       "    <tr>\n",
       "      <th>ABT</th>\n",
       "      <td>-1.304610</td>\n",
       "      <td>0.502972</td>\n",
       "      <td>-0.262441</td>\n",
       "      <td>0.915505</td>\n",
       "      <td>0.403765</td>\n",
       "      <td>0.595900</td>\n",
       "      <td>-19864.668464</td>\n",
       "      <td>0.420253</td>\n",
       "      <td>0.438919</td>\n",
       "      <td>-0.019970</td>\n",
       "      <td>...</td>\n",
       "      <td>-19810.739416</td>\n",
       "      <td>-1.220113</td>\n",
       "      <td>0.496718</td>\n",
       "      <td>-0.255242</td>\n",
       "      <td>-0.025227</td>\n",
       "      <td>0.982190</td>\n",
       "      <td>0.046995</td>\n",
       "      <td>0.272099</td>\n",
       "      <td>0.596103</td>\n",
       "      <td>-19861.382194</td>\n",
       "    </tr>\n",
       "    <tr>\n",
       "      <th>ABBV</th>\n",
       "      <td>0.409967</td>\n",
       "      <td>0.947694</td>\n",
       "      <td>-0.927580</td>\n",
       "      <td>0.358169</td>\n",
       "      <td>0.466820</td>\n",
       "      <td>0.415328</td>\n",
       "      <td>-18138.397326</td>\n",
       "      <td>0.331407</td>\n",
       "      <td>0.385162</td>\n",
       "      <td>0.049900</td>\n",
       "      <td>...</td>\n",
       "      <td>-18025.599171</td>\n",
       "      <td>0.317447</td>\n",
       "      <td>1.083692</td>\n",
       "      <td>-1.098226</td>\n",
       "      <td>-0.154878</td>\n",
       "      <td>0.557847</td>\n",
       "      <td>0.002296</td>\n",
       "      <td>0.457472</td>\n",
       "      <td>0.417053</td>\n",
       "      <td>-18138.608474</td>\n",
       "    </tr>\n",
       "    <tr>\n",
       "      <th>AAPL</th>\n",
       "      <td>-0.855792</td>\n",
       "      <td>0.669138</td>\n",
       "      <td>-0.394926</td>\n",
       "      <td>0.289605</td>\n",
       "      <td>0.371497</td>\n",
       "      <td>0.413443</td>\n",
       "      <td>-19163.878901</td>\n",
       "      <td>0.365939</td>\n",
       "      <td>0.384286</td>\n",
       "      <td>0.059909</td>\n",
       "      <td>...</td>\n",
       "      <td>-19228.575042</td>\n",
       "      <td>-0.393249</td>\n",
       "      <td>0.353788</td>\n",
       "      <td>0.030720</td>\n",
       "      <td>0.475237</td>\n",
       "      <td>-0.364402</td>\n",
       "      <td>-0.031673</td>\n",
       "      <td>0.422210</td>\n",
       "      <td>0.442551</td>\n",
       "      <td>-19232.408717</td>\n",
       "    </tr>\n",
       "  </tbody>\n",
       "</table>\n",
       "<p>5 rows × 21 columns</p>\n",
       "</div>"
      ],
      "text/plain": [
       "        harls_coeff_np.divide(switchn_lag_1, 1e4)  harls_coeff_rv_lag_1  \\\n",
       "ticker                                                                    \n",
       "AAL                                     -2.988489              0.780137   \n",
       "A                                       -0.236230              0.849597   \n",
       "ABT                                     -1.304610              0.502972   \n",
       "ABBV                                     0.409967              0.947694   \n",
       "AAPL                                    -0.855792              0.669138   \n",
       "\n",
       "        harls_coeff_rv_lag_1:switchn_lag_1  \\\n",
       "ticker                                       \n",
       "AAL                              -0.897515   \n",
       "A                                -0.779728   \n",
       "ABT                              -0.262441   \n",
       "ABBV                             -0.927580   \n",
       "AAPL                             -0.394926   \n",
       "\n",
       "        harls_coeff_rv_lag_m5:switchn_lag_1  \\\n",
       "ticker                                        \n",
       "AAL                                1.019260   \n",
       "A                                  0.811719   \n",
       "ABT                                0.915505   \n",
       "ABBV                               0.358169   \n",
       "AAPL                               0.289605   \n",
       "\n",
       "        harls_coeff_rv_lag_m22:switchn_lag_1  rsquared_har_ls    aic_har_ls  \\\n",
       "ticker                                                                        \n",
       "AAL                                 0.053739         0.551628 -14975.514537   \n",
       "A                                   0.151023         0.607496 -20074.560108   \n",
       "ABT                                 0.403765         0.595900 -19864.668464   \n",
       "ABBV                                0.466820         0.415328 -18138.397326   \n",
       "AAPL                                0.371497         0.413443 -19163.878901   \n",
       "\n",
       "        har_coeff_rv_lag_1  har_coeff_rv_lag_m5  har_coeff_rv_lag_m22  ...  \\\n",
       "ticker                                                                 ...   \n",
       "AAL               0.387167             0.448971              0.024811  ...   \n",
       "A                 0.336020             0.578722             -0.085861  ...   \n",
       "ABT               0.420253             0.438919             -0.019970  ...   \n",
       "ABBV              0.331407             0.385162              0.049900  ...   \n",
       "AAPL              0.365939             0.384286              0.059909  ...   \n",
       "\n",
       "             aic_har  harlsf_coeff_np.divide(switchn_lag_1, 1e4)  \\\n",
       "ticker                                                             \n",
       "AAL    -14997.749479                                   -2.085016   \n",
       "A      -20048.079938                                   -0.770960   \n",
       "ABT    -19810.739416                                   -1.220113   \n",
       "ABBV   -18025.599171                                    0.317447   \n",
       "AAPL   -19228.575042                                   -0.393249   \n",
       "\n",
       "        harlsf_coeff_rv_lag_1  harlsf_coeff_rv_lag_1:switchn_lag_1  \\\n",
       "ticker                                                               \n",
       "AAL                  0.505374                            -0.357554   \n",
       "A                    0.589938                            -0.474680   \n",
       "ABT                  0.496718                            -0.255242   \n",
       "ABBV                 1.083692                            -1.098226   \n",
       "AAPL                 0.353788                             0.030720   \n",
       "\n",
       "        harlsf_coeff_rv_lag_m5  harlsf_coeff_rv_lag_m5:switchn_lag_1  \\\n",
       "ticker                                                                 \n",
       "AAL                   0.320290                              0.423092   \n",
       "A                     0.423448                              0.185029   \n",
       "ABT                  -0.025227                              0.982190   \n",
       "ABBV                 -0.154878                              0.557847   \n",
       "AAPL                  0.475237                             -0.364402   \n",
       "\n",
       "        harlsf_coeff_rv_lag_m22  harlsf_coeff_rv_lag_m22:switchn_lag_1  \\\n",
       "ticker                                                                   \n",
       "AAL                    0.000445                               0.053369   \n",
       "A                     -0.290288                               0.886482   \n",
       "ABT                    0.046995                               0.272099   \n",
       "ABBV                   0.002296                               0.457472   \n",
       "AAPL                  -0.031673                               0.422210   \n",
       "\n",
       "        rsquared_har_lsf   aic_har_lsf  \n",
       "ticker                                  \n",
       "AAL             0.561256 -15002.446937  \n",
       "A               0.615776 -20100.943902  \n",
       "ABT             0.596103 -19861.382194  \n",
       "ABBV            0.417053 -18138.608474  \n",
       "AAPL            0.442551 -19232.408717  \n",
       "\n",
       "[5 rows x 21 columns]"
      ]
     },
     "execution_count": 26,
     "metadata": {},
     "output_type": "execute_result"
    }
   ],
   "source": [
    "results_df = pd.DataFrame(har_lsparams_results).set_index('ticker')\n",
    "results_df.head()"
   ]
  },
  {
   "cell_type": "markdown",
   "metadata": {
    "collapsed": "true"
   },
   "source": [
    "## Distribution of HAR-LS Coefficients"
   ]
  },
  {
   "cell_type": "code",
   "execution_count": 27,
   "metadata": {},
   "outputs": [
    {
     "data": {
      "image/png": "[encoded data removed]",
      "text/plain": [
       "<Figure size 936x396 with 4 Axes>"
      ]
     },
     "metadata": {},
     "output_type": "display_data"
    }
   ],
   "source": [
    "reg_cols = [x for x in results_df.columns if \"harls_coeff_\" in x if 'rv' in x]\n",
    "reg_col_names = [\n",
    "    \"$\\\\gamma_1$ -- Coefficient on $RV_{t}^{(d)}$\",\n",
    "    \"$\\\\gamma_{1c}$ -- Coefficient on $RV_{t}^{(d)} \\\\times (1-C_t)$\",\n",
    "    \"$\\\\gamma_{2}$ -- Coefficient on $RV_{t}^{(w)} \\\\times (1-C_t)$\",\n",
    "    \"$\\\\gamma_{3}$ -- Coefficient on $RV_{t}^{(m)} \\\\times (1-C_t)$\",\n",
    "]\n",
    "\n",
    "fig, axs = plt.subplots(figsize=(13, 5.5), nrows=2, ncols=2)\n",
    "pal = sns.color_palette(\"Set2\", 4)\n",
    "\n",
    "for i in range(len(reg_cols)):\n",
    "\n",
    "    col = reg_cols[i]\n",
    "    ax = axs.reshape(-1)[i]\n",
    "\n",
    "    if i <= 1:\n",
    "        ax.text(\n",
    "            0.2, 0.75,\n",
    "            f\"{np.mean(results_df[col]<0):0.2%}\\n Below Zero\",\n",
    "            ha=\"center\",\n",
    "            va=\"center\",\n",
    "            transform=ax.transAxes,\n",
    "        )\n",
    "\n",
    "    ax.hist(results_df[col], color=pal[i], bins=30, density = True)\n",
    "    ax.axvline(0, 0, 1, color=\"k\", ls=\"dashed\", lw=2)\n",
    "#     ax.yaxis.set_major_formatter(matplotlib.ticker.PercentFormatter(1.0, decimals = 0))\n",
    "    ax.set_title(reg_col_names[i])\n",
    "\n",
    "plt.tight_layout()\n",
    "plt.savefig('../exhibits/harlsm_coeff_dist.pdf')"
   ]
  },
  {
   "cell_type": "code",
   "execution_count": 28,
   "metadata": {},
   "outputs": [
    {
     "data": {
      "image/png": "[encoded data removed]",
      "text/plain": [
       "<Figure size 936x396 with 3 Axes>"
      ]
     },
     "metadata": {},
     "output_type": "display_data"
    }
   ],
   "source": [
    "reg_cols = [x for x in results_df.columns if \"har_coeff_\" in x]\n",
    "reg_col_names = [\n",
    "    \"Coefficient on $RV_{t-1}^{(d)}$\",\n",
    "    \"\",\n",
    "    \"Coefficient on $RV_{t-1}^{(w)}$\",\n",
    "    \"Coefficient on $RV_{t-1}^{(m)}$\",\n",
    "]\n",
    "\n",
    "fig, axs = plt.subplots(figsize=(13, 5.5), nrows=2, ncols=2)\n",
    "grid = plt.GridSpec(2, 2)\n",
    "pal = sns.color_palette(\"Set2\", 4)\n",
    "\n",
    "for i in range(len(reg_cols)):\n",
    "\n",
    "    col = reg_cols[i]\n",
    "    \n",
    "    if i == 0: \n",
    "        ax = plt.subplot(grid[0,:])\n",
    "    else:\n",
    "        i = i + 1\n",
    "        ax = axs.reshape(-1)[i]\n",
    "\n",
    "    ax.hist(results_df[col], color=pal[i], bins=30, density = True)\n",
    "    ax.axvline(0, 0, 1, color=\"k\", ls=\"dashed\", lw=2)\n",
    "    ax.set_title(reg_col_names[i])\n",
    "\n",
    "plt.tight_layout()\n",
    "plt.savefig('../exhibits/har_coeff_dist.pdf')"
   ]
  },
  {
   "cell_type": "markdown",
   "metadata": {},
   "source": [
    "## Distribution of R2 and AIC"
   ]
  },
  {
   "cell_type": "code",
   "execution_count": 43,
   "metadata": {},
   "outputs": [
    {
     "name": "stdout",
     "output_type": "stream",
     "text": [
      "0.6241758241758242 0.6043956043956044\n"
     ]
    }
   ],
   "source": [
    "r2_perf = np.mean(results_df['rsquared_har'] < results_df['rsquared_har_ls'])\n",
    "aic_perf = np.mean(results_df['aic_har'] > results_df['aic_har_ls'])\n",
    "print(r2_perf, aic_perf)"
   ]
  },
  {
   "cell_type": "code",
   "execution_count": 55,
   "metadata": {},
   "outputs": [
    {
     "data": {
      "text/plain": [
       "rsquared_har_ls     0.603317\n",
       "rsquared_har        0.598782\n",
       "rsquared_har_lsf    0.618098\n",
       "dtype: float64"
      ]
     },
     "execution_count": 55,
     "metadata": {},
     "output_type": "execute_result"
    }
   ],
   "source": [
    "results_df[[x for x in results_df.columns if 'rsqu' in x]].mean()"
   ]
  },
  {
   "cell_type": "code",
   "execution_count": 80,
   "metadata": {},
   "outputs": [
    {
     "data": {
      "image/png": "[encoded data removed]",
      "text/plain": [
       "<Figure size 432x216 with 2 Axes>"
      ]
     },
     "metadata": {},
     "output_type": "display_data"
    }
   ],
   "source": [
    "fig, axs = plt.subplots(figsize=(6, 3), ncols=2)\n",
    "fig.suptitle('HAR-LSM')\n",
    "\n",
    "ax = axs[0]\n",
    "sns.scatterplot(x=\"rsquared_har\", y=\"rsquared_har_ls\", data=results_df, ax=ax)\n",
    "ax.plot([0, 1], [0, 1], color=\"k\", ls=\"dashed\")\n",
    "ax.set_ylabel('HAR-LSM $R^2$')\n",
    "ax.set_xlabel('HAR $R^2$')\n",
    "ax.set_title('$R^2$')\n",
    "\n",
    "ax = axs[1]\n",
    "sns.scatterplot(x=\"aic_har\", y=\"aic_har_ls\", data=results_df, ax=ax)\n",
    "ax.plot([0, 1], [0, 1], color=\"k\", ls=\"dashed\", transform=ax.transAxes)\n",
    "ax.set_ylabel('HAR-LSM AIC')\n",
    "ax.set_xlabel('HAR AIC')\n",
    "ax.set_title('AIC')\n",
    "\n",
    "plt.tight_layout()\n",
    "fig.subplots_adjust(top=0.8)\n",
    "plt.savefig('../exhibits/final_paper/harlsm_r2.pdf')"
   ]
  },
  {
   "cell_type": "code",
   "execution_count": 81,
   "metadata": {},
   "outputs": [
    {
     "name": "stdout",
     "output_type": "stream",
     "text": [
      "1.0 0.9824175824175824\n"
     ]
    }
   ],
   "source": [
    "r2_perf = np.mean(results_df['rsquared_har'] < results_df['rsquared_har_lsf'])\n",
    "aic_perf = np.mean(results_df['aic_har'] > results_df['aic_har_lsf'])\n",
    "print(r2_perf, aic_perf)"
   ]
  },
  {
   "cell_type": "code",
   "execution_count": 82,
   "metadata": {},
   "outputs": [
    {
     "data": {
      "image/png": "[encoded data removed]",
      "text/plain": [
       "<Figure size 432x216 with 2 Axes>"
      ]
     },
     "metadata": {},
     "output_type": "display_data"
    }
   ],
   "source": [
    "fig, axs = plt.subplots(figsize=(6, 3), ncols=2)\n",
    "fig.suptitle('HAR-LSM-Full')\n",
    "\n",
    "ax = axs[0]\n",
    "sns.scatterplot(x=\"rsquared_har\", y=\"rsquared_har_lsf\", data=results_df, ax=ax)\n",
    "ax.plot([0, 1], [0, 1], color=\"k\", ls=\"dashed\")\n",
    "ax.set_ylabel('HAR-LSM-Full $R^2$')\n",
    "ax.set_xlabel('HAR $R^2$')\n",
    "ax.set_title('$R^2$')\n",
    "\n",
    "ax = axs[1]\n",
    "sns.scatterplot(x=\"aic_har\", y=\"aic_har_lsf\", data=results_df, ax=ax)\n",
    "ax.plot([0, 1], [0, 1], color=\"k\", ls=\"dashed\", transform=ax.transAxes)\n",
    "ax.set_ylabel('HAR-LSM-Full AIC')\n",
    "ax.set_xlabel('HAR AIC')\n",
    "ax.set_title('AIC')\n",
    "\n",
    "plt.tight_layout()\n",
    "fig.subplots_adjust(top=0.8)\n",
    "plt.savefig('../exhibits/final_paper/harlsmf_r2.pdf')"
   ]
  },
  {
   "cell_type": "markdown",
   "metadata": {},
   "source": [
    "## Distribution of Coefficients"
   ]
  },
  {
   "cell_type": "code",
   "execution_count": null,
   "metadata": {},
   "outputs": [],
   "source": [
    "print(\n",
    "    results_df[[x for x in results_df.columns if \"har_coeff\" in x]]\n",
    "    .describe(percentiles=[0.05, 0.25, 0.75, 0.95])\n",
    "    .drop(\"count\")\n",
    "    .T.round(3)\n",
    "    .to_latex()\n",
    ")"
   ]
  },
  {
   "cell_type": "code",
   "execution_count": null,
   "metadata": {},
   "outputs": [],
   "source": [
    "print(\n",
    "    results_df[[x for x in results_df.columns if \"harls_coeff\" in x]]\n",
    "    .describe(percentiles=[0.05, 0.25, 0.75, 0.95])\n",
    "    .drop(\"count\")\n",
    "    .T.round(3)\n",
    "    .to_latex()\n",
    ")"
   ]
  },
  {
   "cell_type": "code",
   "execution_count": null,
   "metadata": {},
   "outputs": [],
   "source": [
    "print(\n",
    "    results_df[[x for x in results_df.columns if \"harlsf_coeff\" in x]]\n",
    "    .describe(percentiles=[0.05, 0.25, 0.75, 0.95])\n",
    "    .drop(\"count\")\n",
    "    .T.round(3)\n",
    "    .to_latex()\n",
    ")"
   ]
  },
  {
   "cell_type": "markdown",
   "metadata": {},
   "source": [
    "## Movement of AR Components"
   ]
  },
  {
   "cell_type": "code",
   "execution_count": null,
   "metadata": {},
   "outputs": [],
   "source": [
    "reg_cols = [x for x in results_df.columns if \"harls_coeff_\" in x]"
   ]
  },
  {
   "cell_type": "code",
   "execution_count": null,
   "metadata": {},
   "outputs": [],
   "source": [
    "merged_df = data_rv_df.merge(results_df, on = 'ticker', how  ='left')"
   ]
  },
  {
   "cell_type": "code",
   "execution_count": null,
   "metadata": {},
   "outputs": [],
   "source": [
    "reg_switch_cols = [\n",
    "    x for x in results_df.columns if \"harls_coeff_\" in x and \"switch\" in x\n",
    "]\n",
    "\n",
    "merged_df[\"harls_persistence\"] = merged_df[\"harls_coeff_rv_lag_1\"] + merged_df[\n",
    "    \"switchn_lag_1\"\n",
    "] * merged_df[reg_switch_cols].sum(axis=1)\n",
    "\n",
    "merged_df[\"harls_beta_1\"] = merged_df[\"harls_coeff_rv_lag_1\"] + merged_df[\n",
    "    \"switchn_lag_1\"\n",
    "] * merged_df['harls_coeff_rv_lag_1:switchn_lag_1']"
   ]
  },
  {
   "cell_type": "code",
   "execution_count": null,
   "metadata": {},
   "outputs": [],
   "source": [
    "plt.figure(figsize = (12,5))\n",
    "ticker = 'GS'\n",
    "sns.lineplot(x = 'date', y = 'harls_persistence', data = merged_df.query('ticker == @ticker'))\n",
    "sns.lineplot(x = 'date', y = 'persistence', data = merged_df.query('ticker == @ticker'))"
   ]
  },
  {
   "cell_type": "markdown",
   "metadata": {},
   "source": [
    "### AR (1)"
   ]
  },
  {
   "cell_type": "code",
   "execution_count": null,
   "metadata": {},
   "outputs": [],
   "source": [
    "# Window length\n",
    "window = 66\n",
    "\n",
    "# Regression\n",
    "reg_formula = 'rv ~ rv_lag_1'\n",
    "var_list = reg_formula.replace('+', ' ').replace('~', ' ').split()"
   ]
  },
  {
   "cell_type": "code",
   "execution_count": null,
   "metadata": {},
   "outputs": [],
   "source": [
    "def fit_rolling_regression(ticker):\n",
    "\n",
    "    reg_df = (\n",
    "        data_rv_df.query(\"ticker == @ticker\")\n",
    "        .sort_values(by=\"date\")[[\"date\"] + var_list]\n",
    "        .dropna()\n",
    "        .set_index('date')\n",
    "    )\n",
    "    fit = RollingOLS.from_formula(reg_formula, reg_df, window).fit(\n",
    "        method=\"pinv\", params_only=True\n",
    "    )\n",
    "\n",
    "    fit_params_df = fit.params\n",
    "    fit_params_df[\"ticker\"] = ticker\n",
    "\n",
    "    return fit_params_df.reset_index()\n",
    "\n",
    "# Run HARs\n",
    "tickers = data_rv_df[\n",
    "    \"ticker\"\n",
    "].unique()  \n",
    "results = []\n",
    "\n",
    "with Pool(8) as p:\n",
    "    for fit_params_df in tqdm(\n",
    "        p.imap_unordered(fit_rolling_regression, tickers, chunksize=30),\n",
    "        total=len(tickers),\n",
    "    ):\n",
    "        results.append(fit_params_df)\n",
    "\n",
    "rolling_ar1_df = pd.concat(results)"
   ]
  },
  {
   "cell_type": "markdown",
   "metadata": {},
   "source": [
    "#### 6 Tickers Set"
   ]
  },
  {
   "cell_type": "code",
   "execution_count": null,
   "metadata": {},
   "outputs": [],
   "source": [
    "# Implied AR(1) coefficient estimate\n",
    "fig, axs = plt.subplots(figsize=(14, 7), nrows = 3)\n",
    "ticker_list = [\"AMZN\", 'AAPL', 'GOOG']\n",
    "\n",
    "merged_df[\"harls_beta_1\"] = merged_df[\"harls_coeff_rv_lag_1\"] + merged_df[\n",
    "    \"switchn_lag_1\"\n",
    "] * (\n",
    "    merged_df[\"harls_coeff_rv_lag_1:switchn_lag_1\"]\n",
    "#     + merged_df[\"harls_coeff_rv_lag_m5:switchn_lag_1\"] / 5\n",
    "#     + merged_df[\"harls_coeff_rv_lag_m22:switchn_lag_1\"] / 22\n",
    ")\n",
    "\n",
    "# merged_df[\"rollcoef_AR1\"] = (\n",
    "#     merged_df[\"rv_lag_1_rollcoeff\"]\n",
    "#     + merged_df[\"rv_lag_m5_rollcoeff\"] / 5\n",
    "#     + merged_df[\"rv_lag_m22_rollcoeff\"] / 22\n",
    "# )\n",
    "\n",
    "ax = axs[0]\n",
    "for i in range(len(ticker_list)):\n",
    "    ax = axs.reshape(-1)[i]\n",
    "    ticker = ticker_list[i]\n",
    "    sns.lineplot(\n",
    "        x=\"date\",\n",
    "        y=\"rv_lag_1\",\n",
    "        label=\"Rolling $\\\\beta_{1,t}$ Estimate\",\n",
    "        color=\"k\",\n",
    "        alpha=0.8,\n",
    "        data=rolling_ar1_df.query(\"ticker == @ticker\"),\n",
    "        ax = ax\n",
    "    )\n",
    "    sns.lineplot(\n",
    "        x=\"date\",\n",
    "        y=\"harls_beta_1\",\n",
    "        lw=2,\n",
    "        label=\"HAR-LSM $\\\\beta_{1,t}$  Estimate\",\n",
    "        data=merged_df.query(\"ticker == @ticker\"),\n",
    "        ax = ax\n",
    "    )\n",
    "    ax.set_xlabel('')\n",
    "    ax.set_ylabel(\"$\\\\beta_{1,t}$ Estimate\", fontsize = 14)\n",
    "    ax.set_title('$' + ticker)\n",
    "    if i > 0:\n",
    "        ax.get_legend().remove()\n",
    "    \n",
    "plt.tight_layout()\n",
    "plt.savefig('../exhibits/harlsm_beta1t_path.pdf')"
   ]
  }
 ],
 "metadata": {
  "kernelspec": {
   "display_name": "Python 3",
   "language": "python",
   "name": "python3"
  },
  "language_info": {
   "codemirror_mode": {
    "name": "ipython",
    "version": 3
   },
   "file_extension": ".py",
   "mimetype": "text/x-python",
   "name": "python",
   "nbconvert_exporter": "python",
   "pygments_lexer": "ipython3",
   "version": "3.6.9"
  }
 },
 "nbformat": 4,
 "nbformat_minor": 4
}
