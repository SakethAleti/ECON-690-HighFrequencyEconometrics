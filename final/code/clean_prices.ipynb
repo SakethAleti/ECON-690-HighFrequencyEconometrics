{
 "cells": [
  {
   "cell_type": "code",
   "execution_count": 1,
   "metadata": {},
   "outputs": [],
   "source": [
    "import pandas as pd\n",
    "import numpy as np\n",
    "import datetime as dt\n",
    "from tqdm.auto import tqdm\n",
    "from tqdm.contrib import concurrent\n",
    "from multiprocessing import Pool\n",
    "import itertools\n",
    "import glob\n",
    "import os"
   ]
  },
  {
   "cell_type": "markdown",
   "metadata": {},
   "source": [
    "# Functions"
   ]
  },
  {
   "cell_type": "code",
   "execution_count": 2,
   "metadata": {},
   "outputs": [],
   "source": [
    "def fix_missing_dates(data_df):\n",
    "    ## Deal with entire dates missing for certain tickers by dropping those tickers\n",
    "    ## Input must include every single ticker's data\n",
    "    \n",
    "    # Number of unique dates with data for each ticker\n",
    "    ticker_unique_dates = (\n",
    "        data_df.groupby([\"ticker\"])[\"date\"].apply(lambda x: len(x.unique())).sort_values()\n",
    "    )\n",
    "\n",
    "    # Get the maximum possible number of unique dates for a ticker\n",
    "    max_unique_dates = ticker_unique_dates.value_counts().sort_values().index[-1]\n",
    "\n",
    "    # Create list of ticks with that many unique dates\n",
    "    ticker_unique_dates_subset = ticker_unique_dates.loc[\n",
    "        ticker_unique_dates == max_unique_dates\n",
    "    ].index\n",
    "\n",
    "    # Filter data to this subset\n",
    "    data_df = data_df.query(\"ticker in @ticker_unique_dates_subset\").copy()"
   ]
  },
  {
   "cell_type": "code",
   "execution_count": 3,
   "metadata": {},
   "outputs": [],
   "source": [
    "def fix_missing_datetimes(data_df):\n",
    "    ## Add missing datetimes for each ticker\n",
    "\n",
    "    # Create dataframe consisting of every {datetime, ticker} combination\n",
    "    # Key assumption - all possible datetimes are represented in the\n",
    "    # union of each tickers' data\n",
    "    combinations_df = pd.DataFrame(\n",
    "        [\n",
    "            x\n",
    "            for x in itertools.product(\n",
    "                data_df[\"date\"].unique(), data_df[\"datetime\"].dt.time.unique(), data_df[\"ticker\"].unique()\n",
    "            )\n",
    "        ],\n",
    "        columns=[\"date\", \"time\", \"ticker\"],\n",
    "    )\n",
    "    combinations_df[\"datetime\"] = pd.to_datetime(\n",
    "        combinations_df[\"date\"].astype(str) + \" \" + combinations_df[\"time\"].astype(str)\n",
    "    )\n",
    "\n",
    "    # Merge combinations_df with data so we can identify datetimes with missing prices\n",
    "    merged_df = combinations_df.merge(data_df, on=[\"ticker\", \"date\", \"datetime\"], how=\"left\")\n",
    "\n",
    "    # Forward fill in missing prices\n",
    "    # Ensures every {ticker, date} combination will have 78 prices\n",
    "    merged_df = merged_df.sort_values(by=[\"ticker\", \"datetime\"]).reset_index(drop=True)\n",
    "    merged_df[\"price_ffill\"] = merged_df.groupby([\"ticker\", \"date\"])[\"price\"].fillna(\n",
    "        method=\"ffill\"\n",
    "    )\n",
    "    merged_df[\"price_fill\"] = merged_df.groupby([\"ticker\", \"date\"])[\n",
    "        \"price_ffill\"\n",
    "    ].fillna(method=\"bfill\")\n",
    "\n",
    "    return merged_df"
   ]
  },
  {
   "cell_type": "code",
   "execution_count": 4,
   "metadata": {},
   "outputs": [],
   "source": [
    "def stock_split_adjust(data_df, ticker, split_date, split_ratio):\n",
    "    ## Adjusts all prices before the split date by \n",
    "    ## dividing them by the split ratio \n",
    "    \n",
    "    data_df = data_df.copy()\n",
    "    data_df.loc[(data_df[\"ticker\"] == ticker) & (data_df[\"datetime\"] < split_date), \"price\"] = (\n",
    "        data_df.loc[(data_df[\"ticker\"] == ticker) & (data_df[\"datetime\"] < split_date), \"price\"] / split_ratio\n",
    "    )\n",
    "    \n",
    "    return data_df"
   ]
  },
  {
   "cell_type": "code",
   "execution_count": 12,
   "metadata": {},
   "outputs": [],
   "source": [
    "def clean_ticker_prices_df(ticker_tuple):\n",
    "    ## Reads in a data_df.groupby(ticker) object and cleans the data\n",
    "\n",
    "    # Pull out info\n",
    "    ticker = ticker_tuple[0]\n",
    "    ticker_df = ticker_tuple[1]\n",
    "    \n",
    "    # Adjust dtypes\n",
    "    ticker_df = ticker_df.astype(dtype={\"ticker\": \"string\"})\n",
    "\n",
    "    # Add in missing dates\n",
    "    ticker_df = (\n",
    "        fix_missing_datetimes(ticker_df)\n",
    "        .drop([\"price_ffill\", \"price\"], axis=1)\n",
    "        .rename(columns={\"price_fill\": \"price\"})\n",
    "    )\n",
    "\n",
    "    # Stock splits\n",
    "    ticker_df = stock_split_adjust(ticker_df, 'AAPL', '2020-08-31', 4)\n",
    "    ticker_df = stock_split_adjust(ticker_df, 'AAPL', '2014-06-09', 7)\n",
    "    ticker_df = stock_split_adjust(ticker_df, 'NFLX', '2015-07-15', 7)\n",
    "    ticker_df = stock_split_adjust(ticker_df, 'GOOG', '2015-04-27', 1.0027455)\n",
    "    \n",
    "    return ticker, ticker_df"
   ]
  },
  {
   "cell_type": "markdown",
   "metadata": {},
   "source": [
    "# Main"
   ]
  },
  {
   "cell_type": "markdown",
   "metadata": {},
   "source": [
    "## Read in raw data"
   ]
  },
  {
   "cell_type": "code",
   "execution_count": 13,
   "metadata": {},
   "outputs": [
    {
     "data": {
      "text/plain": [
       "[2015, 2016, 2017, 2018, 2019, 2020]"
      ]
     },
     "execution_count": 13,
     "metadata": {},
     "output_type": "execute_result"
    }
   ],
   "source": [
    "year_subset = list(range(2015,2021))\n",
    "year_subset"
   ]
  },
  {
   "cell_type": "code",
   "execution_count": 7,
   "metadata": {},
   "outputs": [
    {
     "data": {
      "application/vnd.jupyter.widget-view+json": {
       "model_id": "907fa2aa7bf543b28cce63135f24b06a",
       "version_major": 2,
       "version_minor": 0
      },
      "text/plain": [
       "HBox(children=(FloatProgress(value=0.0, max=69.0), HTML(value='')))"
      ]
     },
     "metadata": {},
     "output_type": "display_data"
    },
    {
     "name": "stdout",
     "output_type": "stream",
     "text": [
      "\n",
      "CPU times: user 3.86 s, sys: 9.64 s, total: 13.5 s\n",
      "Wall time: 10.4 s\n"
     ]
    }
   ],
   "source": [
    "%%time\n",
    "data_files = glob.glob(\"../data/prices/monthly_raw/*.feather\")\n",
    "data_files = [filename for filename in data_files if any(str(year) in filename for year in year_subset)]\n",
    "\n",
    "monthly_dfs = []\n",
    "for month_df in tqdm(map(pd.read_feather, data_files), total = len(data_files)):\n",
    "    monthly_dfs.append(month_df)\n",
    "\n",
    "rawdata_df = pd.concat(monthly_dfs)"
   ]
  },
  {
   "cell_type": "code",
   "execution_count": 8,
   "metadata": {},
   "outputs": [],
   "source": [
    "data_df = rawdata_df.copy()"
   ]
  },
  {
   "cell_type": "markdown",
   "metadata": {},
   "source": [
    "## Fix dates"
   ]
  },
  {
   "cell_type": "code",
   "execution_count": 9,
   "metadata": {},
   "outputs": [
    {
     "name": "stdout",
     "output_type": "stream",
     "text": [
      "CPU times: user 10.9 s, sys: 20.2 s, total: 31.1 s\n",
      "Wall time: 32.3 s\n"
     ]
    }
   ],
   "source": [
    "%%time\n",
    "\n",
    "# Number of unique dates with data for each ticker\n",
    "ticker_unique_dates = (\n",
    "    data_df.groupby([\"ticker\"])[\"date\"].apply(lambda x: len(x.unique()))\n",
    ")\n",
    "\n",
    "# Get the maximum possible number of unique dates for a ticker\n",
    "max_unique_dates = ticker_unique_dates.value_counts().sort_values().index[-1]\n",
    "\n",
    "# Create list of ticks with that many unique dates\n",
    "ticker_unique_dates_subset = ticker_unique_dates.loc[\n",
    "    ticker_unique_dates == max_unique_dates\n",
    "].index\n",
    "\n",
    "# Filter data to this subset\n",
    "data_df = data_df.query(\"ticker in @ticker_unique_dates_subset\").reset_index(drop = True).copy()"
   ]
  },
  {
   "cell_type": "markdown",
   "metadata": {},
   "source": [
    "## Clean Data and Export"
   ]
  },
  {
   "cell_type": "code",
   "execution_count": 10,
   "metadata": {},
   "outputs": [
    {
     "name": "stdout",
     "output_type": "stream",
     "text": [
      "CPU times: user 5.39 s, sys: 5.36 s, total: 10.8 s\n",
      "Wall time: 10.8 s\n"
     ]
    }
   ],
   "source": [
    "%%time\n",
    "ticker_list = list(data_df.groupby(\"ticker\"))"
   ]
  },
  {
   "cell_type": "code",
   "execution_count": null,
   "metadata": {},
   "outputs": [],
   "source": [
    "%%time\n",
    "\n",
    "# Clean up old files\n",
    "[os.remove(x) for x in glob.glob('../data/prices/tickers_clean/*.feather')]\n",
    "\n",
    "# Save cleaned ones\n",
    "with Pool(8) as p:\n",
    "\n",
    "    for ticker, clean_ticker_df in tqdm(\n",
    "        p.imap_unordered(clean_ticker_prices_df, data_df.groupby(\"ticker\")),\n",
    "        total=len(data_df[\"ticker\"].unique()),\n",
    "    ):\n",
    "\n",
    "        clean_ticker_df.to_feather(\n",
    "            f\"../data/prices/tickers_clean/{ticker}_clean.feather\"\n",
    "        )"
   ]
  },
  {
   "cell_type": "code",
   "execution_count": 14,
   "metadata": {},
   "outputs": [],
   "source": [
    "def temp_f(ticker_df_group):\n",
    "    \n",
    "    ticker, clean_ticker_df = clean_ticker_prices_df(ticker_df_group)\n",
    "    \n",
    "    clean_ticker_df.to_feather(\n",
    "            f\"../data/prices/tickers_clean/{ticker}_clean.feather\"\n",
    "        )"
   ]
  },
  {
   "cell_type": "code",
   "execution_count": 15,
   "metadata": {},
   "outputs": [
    {
     "data": {
      "application/vnd.jupyter.widget-view+json": {
       "model_id": "4329f662b3e24245b2f2897ec232ffa2",
       "version_major": 2,
       "version_minor": 0
      },
      "text/plain": [
       "HBox(children=(FloatProgress(value=0.0, max=455.0), HTML(value='')))"
      ]
     },
     "metadata": {},
     "output_type": "display_data"
    },
    {
     "name": "stdout",
     "output_type": "stream",
     "text": [
      "\n",
      "CPU times: user 11.2 s, sys: 17.5 s, total: 28.7 s\n",
      "Wall time: 3min 39s\n"
     ]
    }
   ],
   "source": [
    "%%time\n",
    "\n",
    "# Clean up old files\n",
    "[os.remove(x) for x in glob.glob(\"../data/prices/tickers_clean/*.feather\")]\n",
    "\n",
    "# Save cleaned ones\n",
    "with Pool(8) as p:\n",
    "\n",
    "    for x in tqdm(\n",
    "        p.imap_unordered(temp_f, data_df.groupby(\"ticker\"), chunksize = 4),\n",
    "        total=len(data_df[\"ticker\"].unique()),\n",
    "    ):\n",
    "        continue"
   ]
  },
  {
   "cell_type": "markdown",
   "metadata": {},
   "source": [
    "## Double check output"
   ]
  },
  {
   "cell_type": "code",
   "execution_count": null,
   "metadata": {},
   "outputs": [],
   "source": [
    "%%time\n",
    "\n",
    "def check_missing_datetimes(ticker_df):\n",
    "\n",
    "    ticker_unique_datetimes = ticker_df.groupby([\"date\"])[\"datetime\"].apply(\n",
    "        lambda x: len(x.unique())\n",
    "    )\n",
    "    is_missing_datetime = ticker_unique_datetimes.min() < ticker_unique_datetimes.max()\n",
    "\n",
    "    if is_missing_datetime:\n",
    "        print(\"Missing datetimes:\", ticker_df[\"ticker\"].iloc[0])\n",
    "\n",
    "\n",
    "data_files = glob.glob(\"../data/prices/tickers_clean/*.feather\")[:90]\n",
    "_ = concurrent.process_map(\n",
    "    check_missing_datetimes, concurrent.process_map(pd.read_feather, data_files)\n",
    ")"
   ]
  },
  {
   "cell_type": "code",
   "execution_count": 22,
   "metadata": {},
   "outputs": [
    {
     "data": {
      "text/plain": [
       "<AxesSubplot:>"
      ]
     },
     "execution_count": 22,
     "metadata": {},
     "output_type": "execute_result"
    },
    {
     "data": {
      "image/png": "[encoded data removed]",
      "text/plain": [
       "<Figure size 432x288 with 1 Axes>"
      ]
     },
     "metadata": {
      "needs_background": "light"
     },
     "output_type": "display_data"
    }
   ],
   "source": [
    "nflx_prices_df = pd.read_feather('../data/prices/tickers_clean/NFLX_clean.feather')\n",
    "subset_df = nflx_prices_df.query('date > \"2015-07-01\" & date < \"2015-07-10\"').copy()\n",
    "subset_df.plot(y = 'price')"
   ]
  }
 ],
 "metadata": {
  "kernelspec": {
   "display_name": "Python 3",
   "language": "python",
   "name": "python3"
  },
  "language_info": {
   "codemirror_mode": {
    "name": "ipython",
    "version": 3
   },
   "file_extension": ".py",
   "mimetype": "text/x-python",
   "name": "python",
   "nbconvert_exporter": "python",
   "pygments_lexer": "ipython3",
   "version": "3.6.9"
  }
 },
 "nbformat": 4,
 "nbformat_minor": 4
}
