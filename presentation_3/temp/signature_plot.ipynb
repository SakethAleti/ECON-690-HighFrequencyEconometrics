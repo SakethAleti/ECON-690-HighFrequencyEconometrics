{
 "cells": [
  {
   "cell_type": "code",
   "execution_count": 2,
   "metadata": {},
   "outputs": [],
   "source": [
    "import pandas as pd\n",
    "import numpy as np\n",
    "import matplotlib.pyplot as plt\n",
    "import os\n",
    "from tqdm.auto import tqdm\n",
    "import sys\n",
    "import matplotlib\n",
    "import seaborn as sns\n",
    "import pandas as pd\n",
    "import numpy as np\n",
    "import datetime as dt\n",
    "import os\n",
    "from multiprocessing import Pool\n",
    "from tqdm.auto import tqdm\n",
    "\n",
    "pd.set_option('display.max_columns', 50)"
   ]
  },
  {
   "cell_type": "code",
   "execution_count": 4,
   "metadata": {},
   "outputs": [],
   "source": [
    "def resample_data1(data,sampling_freq):\n",
    "    # Fix datetime type\n",
    "    data['datetime']=pd.to_datetime(data['datetime'])\n",
    "    data=data.sort_values(by=[\"ticker\", \"date\", \"datetime\"])\n",
    "    \n",
    "    # Resample on a given basis\n",
    "    resample=(\n",
    "    data.set_index(\"datetime\")\n",
    "    .groupby([\"ticker\", \"ticker_desc\", \"date\"])\n",
    "    .resample(sampling_freq,label = 'right')[\"price\"]\n",
    "    .last()\n",
    "    .reset_index().copy()\n",
    "    )\n",
    "    \n",
    "    # Forward fill missing prices for particular intervals using last observed price\n",
    "    resample[\"price\"] = (\n",
    "    resample.sort_values(by=\"datetime\")\n",
    "    .groupby([\"ticker\", \"ticker_desc\", \"date\"])[\"price\"]\n",
    "    .fillna(method=\"ffill\")\n",
    "    )\n",
    "    \n",
    "    \n",
    "    # Add returns\n",
    "    resample = resample.sort_values(by=[\"ticker\", \"date\", \"datetime\"])\n",
    "    resample[\"log_price\"] = np.log(resample[\"price\"])\n",
    "    resample[\"return\"] = resample.groupby([\"ticker\", \"date\"])[\"log_price\"].diff(1).fillna(0)\n",
    "    \n",
    "    return resample"
   ]
  },
  {
   "cell_type": "code",
   "execution_count": 5,
   "metadata": {},
   "outputs": [],
   "source": [
    "def explore_data(ticker_df): \n",
    "    temp_df = ticker_df.query(\"date >= '2020-09-10'\")[[\"ticker\", \"ticker_desc\", \"date\", \"datetime\", \"price\"]] .copy() # use 1 month data to plot signature figure \n",
    "    L =120; step=5\n",
    "    rv = {}\n",
    "    for i in tqdm(range(1,L+1)):\n",
    "        df = resample_data1(temp_df, sampling_freq = str(i*step)+'s')\n",
    "        df['return_sq'] = np.square(df['return'])\n",
    "        rv[i] = df.groupby(['ticker','date'])['return_sq'].sum() #daily rv with sample freq = i\n",
    "    return rv"
   ]
  },
  {
   "cell_type": "code",
   "execution_count": 6,
   "metadata": {},
   "outputs": [],
   "source": [
    "def import_data(num):\n",
    "    ## Read in all files from TAQ\n",
    "\n",
    "    # Fix forward/backslashes in directory name\n",
    "    taq_folder = '../data/taq{}/'.format(str(num))\n",
    "    if sys.platform != 'linux':\n",
    "        taq_folder = taq_folder.replace('/', '\\\\')\n",
    "    print(f'Reading data from: {taq_folder}')\n",
    "\n",
    "    # Read files\n",
    "    taq_files = [x[2] for x in tqdm(os.walk(taq_folder))][0]\n",
    "    ticker_df = pd.concat([pd.read_csv(taq_folder + taq_file) for taq_file in taq_files]).astype({'DATE':np.int32,'PRICE':np.float32})\n",
    "    \n",
    "    \n",
    "    # Sort columns\n",
    "    ticker_df = ticker_df.sort_values(by = ['DATE'])\n",
    "    # Rename columns\n",
    "    ticker_df.rename(columns = {'SYM_ROOT': 'ticker', 'PRICE': 'price','SIZE':'size'}, inplace = True)\n",
    "    \n",
    "    \n",
    "    ticker_desc_dict = {\n",
    "    'FB':'Facebook',\n",
    "    'AMZN' :'Amazon',\n",
    "    'NFLX':'Netflix',\n",
    "    'AAPL':'Apple',\n",
    "    'GOOG':'Google'\n",
    "    }\n",
    "\n",
    "    ticker_df[\"ticker_desc\"] = ticker_df[\"ticker\"].apply(lambda x: ticker_desc_dict.get(x, \"NA\"))\n",
    "    \n",
    "    # Convert date and time info to pandas datetime\n",
    "    ticker_df[\"datetime\"] = pd.to_datetime(ticker_df['DATE'].astype(str) + ' ' + ticker_df['TIME_M'])\n",
    "    ticker_df['date'] = (ticker_df['datetime'].dt.date).astype(str)\n",
    "    \n",
    "    # Drop weird exchange\n",
    "    ticker_df = ticker_df.query('EX != [\"D\",\"A\",\"M\",\"L\"]').copy()\n",
    "    ticker_df.to_csv('../data/clean/ticker{}.csv'.format(str(num)), index = False)\n",
    "    \n",
    "    \n",
    "    for i in tqdm([1,5]):\n",
    "        df = resample_data(ticker_df,sampling_freq=str(i)+'s')\n",
    "        df.to_csv('../data/clean/ticker{}_{}s.csv'.format(str(num),str(i)), index = False)\n",
    "        \n",
    "    #result1=explore_data(ticker_df)\n",
    "    \n",
    "    #return result1"
   ]
  },
  {
   "cell_type": "markdown",
   "metadata": {},
   "source": [
    "### Import data"
   ]
  },
  {
   "cell_type": "code",
   "execution_count": 81,
   "metadata": {},
   "outputs": [
    {
     "name": "stdout",
     "output_type": "stream",
     "text": [
      "Reading data from: ..\\data\\clean\\ticker_1s\\\n"
     ]
    },
    {
     "data": {
      "application/vnd.jupyter.widget-view+json": {
       "model_id": "f79dd0b670594263bda19941e8537900",
       "version_major": 2,
       "version_minor": 0
      },
      "text/plain": [
       "HBox(children=(IntProgress(value=1, bar_style='info', max=1), HTML(value='')))"
      ]
     },
     "metadata": {},
     "output_type": "display_data"
    },
    {
     "name": "stdout",
     "output_type": "stream",
     "text": [
      "\n"
     ]
    }
   ],
   "source": [
    "## Read in all files from TAQ\n",
    "\n",
    "# Fix forward/backslashes in directory name\n",
    "taq_folder = '../data/clean/ticker_1s/'\n",
    "if sys.platform != 'linux':\n",
    "    taq_folder = taq_folder.replace('/', '\\\\')\n",
    "print(f'Reading data from: {taq_folder}')\n",
    "\n",
    "# Read files\n",
    "taq_files = [x[2] for x in tqdm(os.walk(taq_folder))][0]\n",
    "ticker_1s_df = pd.concat([pd.read_csv(taq_folder + taq_file) for taq_file in taq_files])"
   ]
  },
  {
   "cell_type": "markdown",
   "metadata": {},
   "source": [
    "### Calculate RV"
   ]
  },
  {
   "cell_type": "code",
   "execution_count": 82,
   "metadata": {},
   "outputs": [],
   "source": [
    "def explore_data(ticker_df): \n",
    "    temp_df = ticker_df.query(\"date >= '2020-09-10'\")[[\"ticker\", \"ticker_desc\", \"date\", \"datetime\", \"price\"]] .copy() # use 1 month data to plot signature figure\n",
    "    \n",
    "    L =120; step=5\n",
    "    rv = {}\n",
    "    for i in tqdm(range(1,L+1)):\n",
    "        df = resample_data1(temp_df, sampling_freq = str(i*step)+'s')\n",
    "        df['return_sq'] = np.square(df['return'])\n",
    "        rv[i] = df.groupby(['ticker','date'])['return_sq'].sum() #daily rv with sample freq = i\n",
    "    return rv"
   ]
  },
  {
   "cell_type": "code",
   "execution_count": 83,
   "metadata": {},
   "outputs": [
    {
     "data": {
      "application/vnd.jupyter.widget-view+json": {
       "model_id": "014ea0b24af5491f861a0e4e2dc66842",
       "version_major": 2,
       "version_minor": 0
      },
      "text/plain": [
       "HBox(children=(IntProgress(value=0, max=120), HTML(value='')))"
      ]
     },
     "metadata": {},
     "output_type": "display_data"
    },
    {
     "name": "stdout",
     "output_type": "stream",
     "text": [
      "\n"
     ]
    }
   ],
   "source": [
    "k1=explore_data(ticker_1s_df)"
   ]
  },
  {
   "cell_type": "code",
   "execution_count": 78,
   "metadata": {},
   "outputs": [
    {
     "data": {
      "image/png": "[encoded data removed]",
      "text/plain": [
       "<Figure size 1224x144 with 5 Axes>"
      ]
     },
     "metadata": {
      "needs_background": "light"
     },
     "output_type": "display_data"
    }
   ],
   "source": [
    "df_rv1=(pd.melt(pd.DataFrame.from_dict(k1).reset_index().rename(columns={0:'daily_rv','index':'freq(s)'}), \n",
    "                id_vars=['ticker','date']).rename(columns={'variable':'freq','value':'realized_var'})\n",
    "        .groupby(['ticker','freq']).mean().reset_index())\n",
    "df_rv1['realized_vol']=np.sqrt(df_rv['realized_var'])\n",
    "\n",
    "# Plot RV\n",
    "g = sns.FacetGrid(df_rv1, col = 'ticker', col_wrap = 5, sharex = True, aspect = 1.7, height = 2, sharey=False)\n",
    "g = (g.map(plt.plot,'freq', 'realized_var')\n",
    "    .set_titles(\"{col_name}\")\n",
    "    .set_axis_labels(\" \", \"Annualized Rvar\")\n",
    ")\n",
    "\n",
    "\n",
    "# # Plot settings\n",
    "ax = g.axes.flatten()\n",
    "for i in range(3):\n",
    "    ax[i].xaxis.set_major_locator(plt.MaxNLocator(3))\n",
    "    #ax[i].xaxis.set_major_formatter(matplotlib.dates.DateFormatter(\"%b-%d\"))\n",
    "    ticker = ax[i].get_title()\n",
    "   \n",
    "\n",
    "plt.tight_layout()\n",
    "plt.savefig(\"../exhibits/sign_rv1.pdf\")"
   ]
  },
  {
   "cell_type": "code",
   "execution_count": null,
   "metadata": {},
   "outputs": [],
   "source": []
  }
 ],
 "metadata": {
  "kernelspec": {
   "display_name": "Python 3",
   "language": "python",
   "name": "python3"
  },
  "language_info": {
   "codemirror_mode": {
    "name": "ipython",
    "version": 3
   },
   "file_extension": ".py",
   "mimetype": "text/x-python",
   "name": "python",
   "nbconvert_exporter": "python",
   "pygments_lexer": "ipython3",
   "version": "3.6.9"
  }
 },
 "nbformat": 4,
 "nbformat_minor": 4
}
