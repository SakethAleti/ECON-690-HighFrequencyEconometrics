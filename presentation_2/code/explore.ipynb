{
 "cells": [
  {
   "cell_type": "code",
   "execution_count": 350,
   "metadata": {},
   "outputs": [],
   "source": [
    "import pandas as pd\n",
    "import numpy as np\n",
    "import seaborn as sns\n",
    "import matplotlib.pyplot as plt\n",
    "import matplotlib\n",
    "import seaborn as sns\n",
    "from tqdm.auto import tqdm\n",
    "sns.set_style('whitegrid')"
   ]
  },
  {
   "cell_type": "markdown",
   "metadata": {},
   "source": [
    "# Import Data"
   ]
  },
  {
   "cell_type": "code",
   "execution_count": 351,
   "metadata": {},
   "outputs": [],
   "source": [
    "rawdata_df = pd.read_csv('../temp/2782e4581854eb9b.csv')"
   ]
  },
  {
   "cell_type": "code",
   "execution_count": 352,
   "metadata": {},
   "outputs": [
    {
     "data": {
      "text/html": [
       "<div>\n",
       "<style scoped>\n",
       "    .dataframe tbody tr th:only-of-type {\n",
       "        vertical-align: middle;\n",
       "    }\n",
       "\n",
       "    .dataframe tbody tr th {\n",
       "        vertical-align: top;\n",
       "    }\n",
       "\n",
       "    .dataframe thead th {\n",
       "        text-align: right;\n",
       "    }\n",
       "</style>\n",
       "<table border=\"1\" class=\"dataframe\">\n",
       "  <thead>\n",
       "    <tr style=\"text-align: right;\">\n",
       "      <th></th>\n",
       "      <th>DATE</th>\n",
       "      <th>TIME_M</th>\n",
       "      <th>EX</th>\n",
       "      <th>SYM_ROOT</th>\n",
       "      <th>SYM_SUFFIX</th>\n",
       "      <th>TR_SCOND</th>\n",
       "      <th>SIZE</th>\n",
       "      <th>PRICE</th>\n",
       "      <th>TR_CORR</th>\n",
       "      <th>TR_SEQNUM</th>\n",
       "      <th>TR_ID</th>\n",
       "      <th>TR_SOURCE</th>\n",
       "      <th>TR_RF</th>\n",
       "    </tr>\n",
       "  </thead>\n",
       "  <tbody>\n",
       "    <tr>\n",
       "      <th>0</th>\n",
       "      <td>20200511</td>\n",
       "      <td>8:03:46.118411997</td>\n",
       "      <td>D</td>\n",
       "      <td>SPSB</td>\n",
       "      <td>NaN</td>\n",
       "      <td>C TI</td>\n",
       "      <td>1</td>\n",
       "      <td>30.91</td>\n",
       "      <td>0</td>\n",
       "      <td>1013601</td>\n",
       "      <td>71675223164488</td>\n",
       "      <td>C</td>\n",
       "      <td>T</td>\n",
       "    </tr>\n",
       "    <tr>\n",
       "      <th>1</th>\n",
       "      <td>20200511</td>\n",
       "      <td>8:11:50.715316011</td>\n",
       "      <td>D</td>\n",
       "      <td>SPSB</td>\n",
       "      <td>NaN</td>\n",
       "      <td>C TI</td>\n",
       "      <td>1</td>\n",
       "      <td>30.91</td>\n",
       "      <td>0</td>\n",
       "      <td>1129401</td>\n",
       "      <td>71675223290187</td>\n",
       "      <td>C</td>\n",
       "      <td>T</td>\n",
       "    </tr>\n",
       "    <tr>\n",
       "      <th>2</th>\n",
       "      <td>20200511</td>\n",
       "      <td>8:49:09.639653435</td>\n",
       "      <td>K</td>\n",
       "      <td>SPSB</td>\n",
       "      <td>NaN</td>\n",
       "      <td>T</td>\n",
       "      <td>235</td>\n",
       "      <td>30.91</td>\n",
       "      <td>0</td>\n",
       "      <td>1563801</td>\n",
       "      <td>52983525036897</td>\n",
       "      <td>C</td>\n",
       "      <td>NaN</td>\n",
       "    </tr>\n",
       "    <tr>\n",
       "      <th>3</th>\n",
       "      <td>20200511</td>\n",
       "      <td>9:30:00.155812463</td>\n",
       "      <td>P</td>\n",
       "      <td>SPSB</td>\n",
       "      <td>NaN</td>\n",
       "      <td>O</td>\n",
       "      <td>7483</td>\n",
       "      <td>30.92</td>\n",
       "      <td>0</td>\n",
       "      <td>2209201</td>\n",
       "      <td>52983525230914</td>\n",
       "      <td>C</td>\n",
       "      <td>NaN</td>\n",
       "    </tr>\n",
       "    <tr>\n",
       "      <th>4</th>\n",
       "      <td>20200511</td>\n",
       "      <td>9:30:00.155822966</td>\n",
       "      <td>P</td>\n",
       "      <td>SPSB</td>\n",
       "      <td>NaN</td>\n",
       "      <td>Q</td>\n",
       "      <td>7483</td>\n",
       "      <td>30.92</td>\n",
       "      <td>0</td>\n",
       "      <td>2209301</td>\n",
       "      <td>52983525230915</td>\n",
       "      <td>C</td>\n",
       "      <td>NaN</td>\n",
       "    </tr>\n",
       "  </tbody>\n",
       "</table>\n",
       "</div>"
      ],
      "text/plain": [
       "       DATE             TIME_M EX SYM_ROOT  SYM_SUFFIX TR_SCOND  SIZE  PRICE  \\\n",
       "0  20200511  8:03:46.118411997  D     SPSB         NaN     C TI     1  30.91   \n",
       "1  20200511  8:11:50.715316011  D     SPSB         NaN     C TI     1  30.91   \n",
       "2  20200511  8:49:09.639653435  K     SPSB         NaN        T   235  30.91   \n",
       "3  20200511  9:30:00.155812463  P     SPSB         NaN        O  7483  30.92   \n",
       "4  20200511  9:30:00.155822966  P     SPSB         NaN        Q  7483  30.92   \n",
       "\n",
       "   TR_CORR  TR_SEQNUM           TR_ID TR_SOURCE TR_RF  \n",
       "0        0    1013601  71675223164488         C     T  \n",
       "1        0    1129401  71675223290187         C     T  \n",
       "2        0    1563801  52983525036897         C   NaN  \n",
       "3        0    2209201  52983525230914         C   NaN  \n",
       "4        0    2209301  52983525230915         C   NaN  "
      ]
     },
     "execution_count": 352,
     "metadata": {},
     "output_type": "execute_result"
    }
   ],
   "source": [
    "rawdata_df.head()"
   ]
  },
  {
   "cell_type": "markdown",
   "metadata": {},
   "source": [
    "# Prep Data"
   ]
  },
  {
   "cell_type": "code",
   "execution_count": 353,
   "metadata": {},
   "outputs": [],
   "source": [
    "data_df_d = rawdata_df.query('EX == \"D\"').copy()\n",
    "data_df = rawdata_df.query('EX != \"D\"').copy()"
   ]
  },
  {
   "cell_type": "code",
   "execution_count": 354,
   "metadata": {},
   "outputs": [],
   "source": [
    "# Add datetime info\n",
    "data_df['DATE TIME'] = data_df['DATE'].astype(str) + ' ' + data_df['TIME_M'].astype(str)\n",
    "data_df['datetime'] = pd.to_datetime(data_df['DATE TIME'])\n",
    "data_df['date'] = pd.to_datetime(data_df['DATE'].astype(str))\n",
    "\n",
    "data_df_d['DATE TIME'] = data_df_d['DATE'].astype(str) + ' ' + data_df_d['TIME_M'].astype(str)\n",
    "data_df_d['datetime'] = pd.to_datetime(data_df_d['DATE TIME'])\n",
    "data_df_d['date'] = pd.to_datetime(data_df_d['DATE'].astype(str))"
   ]
  },
  {
   "cell_type": "code",
   "execution_count": 355,
   "metadata": {},
   "outputs": [],
   "source": [
    "data_df['ticker'] = data_df['SYM_ROOT']\n",
    "data_df['log_price'] = np.log(data_df['PRICE'])"
   ]
  },
  {
   "cell_type": "code",
   "execution_count": 356,
   "metadata": {},
   "outputs": [],
   "source": [
    "# Resample on a given basis\n",
    "data_df = (\n",
    "    data_df.set_index(\"datetime\")\n",
    "    .groupby([\"ticker\", \"date\"])\n",
    "    .resample('1s')[\"log_price\"]\n",
    "    .last()\n",
    "    .reset_index()\n",
    ")\n",
    "\n",
    "\n",
    "data_df[\"log_price\"] = (\n",
    "    data_df.sort_values(by=\"datetime\")\n",
    "    .groupby([\"ticker\", \"date\"])[\"log_price\"]\n",
    "    .fillna(method=\"ffill\")\n",
    ")"
   ]
  },
  {
   "cell_type": "code",
   "execution_count": 357,
   "metadata": {},
   "outputs": [],
   "source": [
    "data_df = data_df.sort_values(by=\"datetime\")\n",
    "data_df[\"return\"] = data_df.groupby([\"ticker\", \"date\"])[\"log_price\"].diff(1)"
   ]
  },
  {
   "cell_type": "code",
   "execution_count": 361,
   "metadata": {},
   "outputs": [],
   "source": [
    "data_df['return_squared'] = np.square(data_df['return'])"
   ]
  },
  {
   "cell_type": "code",
   "execution_count": 384,
   "metadata": {},
   "outputs": [],
   "source": [
    "data_df[\"RV_5s\"] = (\n",
    "    data_df.groupby([\"ticker\", \"date\"])[\"return_squared\"].rolling(5).sum().reset_index([0, 1], drop=True)\n",
    ")"
   ]
  },
  {
   "cell_type": "markdown",
   "metadata": {},
   "source": [
    "# Main"
   ]
  },
  {
   "cell_type": "code",
   "execution_count": 386,
   "metadata": {},
   "outputs": [
    {
     "data": {
      "text/html": [
       "<div>\n",
       "<style scoped>\n",
       "    .dataframe tbody tr th:only-of-type {\n",
       "        vertical-align: middle;\n",
       "    }\n",
       "\n",
       "    .dataframe tbody tr th {\n",
       "        vertical-align: top;\n",
       "    }\n",
       "\n",
       "    .dataframe thead th {\n",
       "        text-align: right;\n",
       "    }\n",
       "</style>\n",
       "<table border=\"1\" class=\"dataframe\">\n",
       "  <thead>\n",
       "    <tr style=\"text-align: right;\">\n",
       "      <th></th>\n",
       "      <th>DATE</th>\n",
       "      <th>TIME_M</th>\n",
       "      <th>EX</th>\n",
       "      <th>SYM_ROOT</th>\n",
       "      <th>SYM_SUFFIX</th>\n",
       "      <th>TR_SCOND</th>\n",
       "      <th>SIZE</th>\n",
       "      <th>PRICE</th>\n",
       "      <th>TR_CORR</th>\n",
       "      <th>TR_SEQNUM</th>\n",
       "      <th>TR_ID</th>\n",
       "      <th>TR_SOURCE</th>\n",
       "      <th>TR_RF</th>\n",
       "      <th>DATE TIME</th>\n",
       "      <th>datetime</th>\n",
       "      <th>date</th>\n",
       "    </tr>\n",
       "  </thead>\n",
       "  <tbody>\n",
       "    <tr>\n",
       "      <th>27112</th>\n",
       "      <td>20200519</td>\n",
       "      <td>11:35:04.920051822</td>\n",
       "      <td>D</td>\n",
       "      <td>SPSB</td>\n",
       "      <td>NaN</td>\n",
       "      <td>NaN</td>\n",
       "      <td>110922</td>\n",
       "      <td>31.06</td>\n",
       "      <td>0</td>\n",
       "      <td>30994201</td>\n",
       "      <td>71679905182801</td>\n",
       "      <td>C</td>\n",
       "      <td>T</td>\n",
       "      <td>20200519 11:35:04.920051822</td>\n",
       "      <td>2020-05-19 11:35:04.920051822</td>\n",
       "      <td>2020-05-19</td>\n",
       "    </tr>\n",
       "    <tr>\n",
       "      <th>29576</th>\n",
       "      <td>20200519</td>\n",
       "      <td>15:35:00.434800438</td>\n",
       "      <td>D</td>\n",
       "      <td>SPSB</td>\n",
       "      <td>NaN</td>\n",
       "      <td>NaN</td>\n",
       "      <td>230553</td>\n",
       "      <td>31.06</td>\n",
       "      <td>0</td>\n",
       "      <td>67815801</td>\n",
       "      <td>71688478087472</td>\n",
       "      <td>C</td>\n",
       "      <td>T</td>\n",
       "      <td>20200519 15:35:00.434800438</td>\n",
       "      <td>2020-05-19 15:35:00.434800438</td>\n",
       "      <td>2020-05-19</td>\n",
       "    </tr>\n",
       "  </tbody>\n",
       "</table>\n",
       "</div>"
      ],
      "text/plain": [
       "           DATE              TIME_M EX SYM_ROOT  SYM_SUFFIX TR_SCOND    SIZE  \\\n",
       "27112  20200519  11:35:04.920051822  D     SPSB         NaN      NaN  110922   \n",
       "29576  20200519  15:35:00.434800438  D     SPSB         NaN      NaN  230553   \n",
       "\n",
       "       PRICE  TR_CORR  TR_SEQNUM           TR_ID TR_SOURCE TR_RF  \\\n",
       "27112  31.06        0   30994201  71679905182801         C     T   \n",
       "29576  31.06        0   67815801  71688478087472         C     T   \n",
       "\n",
       "                         DATE TIME                      datetime       date  \n",
       "27112  20200519 11:35:04.920051822 2020-05-19 11:35:04.920051822 2020-05-19  \n",
       "29576  20200519 15:35:00.434800438 2020-05-19 15:35:00.434800438 2020-05-19  "
      ]
     },
     "execution_count": 386,
     "metadata": {},
     "output_type": "execute_result"
    }
   ],
   "source": [
    "data_df_d.query('DATE == 20200519').query('SIZE > 100000')"
   ]
  },
  {
   "cell_type": "code",
   "execution_count": 387,
   "metadata": {},
   "outputs": [],
   "source": [
    "fed_trade_datetime_1 = data_df_d.query('SIZE == 110922')['datetime'].values[0]\n",
    "fed_trade_datetime_2 = data_df_d.query('SIZE == 230553')['datetime'].values[0]"
   ]
  },
  {
   "cell_type": "code",
   "execution_count": 388,
   "metadata": {},
   "outputs": [
    {
     "data": {
      "image/png": "[encoded data removed]",
      "text/plain": [
       "<Figure size 1080x288 with 1 Axes>"
      ]
     },
     "metadata": {},
     "output_type": "display_data"
    }
   ],
   "source": [
    "start_time = pd.to_datetime('20200519 09:30:00')\n",
    "end_time = pd.to_datetime('20200519 16:00:00')\n",
    "sample_data_df = data_df.loc[(data_df['datetime'] >= start_time) & (data_df['datetime'] <= end_time), :]\n",
    "\n",
    "fig, ax = plt.subplots(figsize = (15,4))\n",
    "plt.plot('datetime', 'log_price', data = sample_data_df)\n",
    "plt.axvline(fed_trade_datetime_1, color = 'k', ls = '--')\n",
    "plt.axvline(fed_trade_datetime_2, color = 'k', ls = '--')\n",
    "\n",
    "ax.xaxis.set_major_formatter(matplotlib.dates.DateFormatter(\"%H:%M\"))"
   ]
  },
  {
   "cell_type": "code",
   "execution_count": 389,
   "metadata": {},
   "outputs": [
    {
     "data": {
      "image/png": "[encoded data removed]",
      "text/plain": [
       "<Figure size 1080x288 with 1 Axes>"
      ]
     },
     "metadata": {},
     "output_type": "display_data"
    }
   ],
   "source": [
    "start_time = pd.to_datetime('20200519 09:30:00')\n",
    "end_time = pd.to_datetime('20200519 16:00:00')\n",
    "sample_data_df = data_df.loc[(data_df['datetime'] >= start_time) & (data_df['datetime'] <= end_time), :].query('RV_5s < 0.000001')\n",
    "\n",
    "fig, ax = plt.subplots(figsize = (15,4))\n",
    "plt.plot('datetime', 'RV_5s', data = sample_data_df)\n",
    "plt.axvline(fed_trade_datetime_1, color = 'k', ls = '--')\n",
    "plt.axvline(fed_trade_datetime_2, color = 'k', ls = '--')\n",
    "\n",
    "ax.xaxis.set_major_formatter(matplotlib.dates.DateFormatter(\"%H:%M\"))"
   ]
  },
  {
   "cell_type": "code",
   "execution_count": 393,
   "metadata": {},
   "outputs": [],
   "source": [
    "def RV_event(data_df, event_datetime, RV_varname, event_window = int(30*60)):\n",
    "    # Gets RV before and after an event; event window is the number (int) of seconds \n",
    "    # before and after to consider\n",
    "    \n",
    "    # Boolean series indicating when trade occurred\n",
    "    after_datetime_min = data_df[\"datetime\"] >= (event_datetime - pd.Timedelta(str(event_window) + \"s\"))\n",
    "    after_datetime_mid = data_df[\"datetime\"] >= event_datetime\n",
    "    after_datetime_max = data_df[\"datetime\"] >= (event_datetime + pd.Timedelta(str(event_window) + \"s\"))\n",
    "\n",
    "    RV_before = data_df.loc[(after_datetime_min & (~after_datetime_mid)), RV_varname]\n",
    "    RV_after = data_df.loc[(~after_datetime_max & (after_datetime_mid)), RV_varname]\n",
    "\n",
    "    return (np.mean(RV_before), np.mean(RV_after))"
   ]
  },
  {
   "cell_type": "code",
   "execution_count": 394,
   "metadata": {},
   "outputs": [
    {
     "data": {
      "text/plain": [
       "(2.2300956025919103e-09, 4.390234183588595e-09)"
      ]
     },
     "execution_count": 394,
     "metadata": {},
     "output_type": "execute_result"
    }
   ],
   "source": [
    "RV_event(data_df, fed_trade_datetime_2, 'RV_5s')"
   ]
  }
 ],
 "metadata": {
  "kernelspec": {
   "display_name": "Python 3",
   "language": "python",
   "name": "python3"
  },
  "language_info": {
   "codemirror_mode": {
    "name": "ipython",
    "version": 3
   },
   "file_extension": ".py",
   "mimetype": "text/x-python",
   "name": "python",
   "nbconvert_exporter": "python",
   "pygments_lexer": "ipython3",
   "version": "3.6.9"
  }
 },
 "nbformat": 4,
 "nbformat_minor": 4
}
