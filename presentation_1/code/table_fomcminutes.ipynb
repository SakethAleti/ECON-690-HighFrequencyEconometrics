{
 "cells": [
  {
   "cell_type": "code",
   "execution_count": 1,
   "metadata": {},
   "outputs": [
    {
     "name": "stdout",
     "output_type": "stream",
     "text": [
      "The history saving thread hit an unexpected error (DatabaseError('database disk image is malformed',)).History will not be written to the database.\n"
     ]
    }
   ],
   "source": [
    "import pandas as pd\n",
    "import numpy as np\n",
    "import scipy as sp\n",
    "from tqdm.auto import tqdm\n",
    "import seaborn as sns\n",
    "import matplotlib.pyplot as plt\n",
    "import matplotlib\n",
    "\n",
    "sns.set_style(\"ticks\", {\"axes.grid\": True, \"grid.color\": \"0.95\", \"grid.linestyle\": \"-\"})"
   ]
  },
  {
   "cell_type": "markdown",
   "metadata": {},
   "source": [
    "# Import Data"
   ]
  },
  {
   "cell_type": "code",
   "execution_count": 2,
   "metadata": {},
   "outputs": [],
   "source": [
    "ticker_resample_df = pd.read_csv('../data/clean/ticker_5s.csv')"
   ]
  },
  {
   "cell_type": "code",
   "execution_count": 3,
   "metadata": {},
   "outputs": [
    {
     "data": {
      "text/html": [
       "<div>\n",
       "<style scoped>\n",
       "    .dataframe tbody tr th:only-of-type {\n",
       "        vertical-align: middle;\n",
       "    }\n",
       "\n",
       "    .dataframe tbody tr th {\n",
       "        vertical-align: top;\n",
       "    }\n",
       "\n",
       "    .dataframe thead th {\n",
       "        text-align: right;\n",
       "    }\n",
       "</style>\n",
       "<table border=\"1\" class=\"dataframe\">\n",
       "  <thead>\n",
       "    <tr style=\"text-align: right;\">\n",
       "      <th></th>\n",
       "      <th>ticker</th>\n",
       "      <th>ticker_desc</th>\n",
       "      <th>ticker_desc_short</th>\n",
       "      <th>date</th>\n",
       "      <th>datetime</th>\n",
       "      <th>price</th>\n",
       "      <th>log_price</th>\n",
       "      <th>return</th>\n",
       "      <th>return_5s</th>\n",
       "      <th>return_60s</th>\n",
       "      <th>rv_sub</th>\n",
       "      <th>two_scale_realized_var</th>\n",
       "      <th>sigma_2_hat</th>\n",
       "      <th>two_scale_realized_var_biased</th>\n",
       "      <th>two_scale_realized_vol</th>\n",
       "      <th>two_scale_realized_vol_100</th>\n",
       "    </tr>\n",
       "  </thead>\n",
       "  <tbody>\n",
       "    <tr>\n",
       "      <th>0</th>\n",
       "      <td>IEF</td>\n",
       "      <td>iShares 7-10 Year Treasury Bond ETF</td>\n",
       "      <td>7-10 Year</td>\n",
       "      <td>2020-01-03</td>\n",
       "      <td>2020-01-03 09:30:00</td>\n",
       "      <td>111.15</td>\n",
       "      <td>4.710881</td>\n",
       "      <td>0.00000</td>\n",
       "      <td>NaN</td>\n",
       "      <td>NaN</td>\n",
       "      <td>NaN</td>\n",
       "      <td>NaN</td>\n",
       "      <td>NaN</td>\n",
       "      <td>NaN</td>\n",
       "      <td>NaN</td>\n",
       "      <td>NaN</td>\n",
       "    </tr>\n",
       "    <tr>\n",
       "      <th>1</th>\n",
       "      <td>IEF</td>\n",
       "      <td>iShares 7-10 Year Treasury Bond ETF</td>\n",
       "      <td>7-10 Year</td>\n",
       "      <td>2020-01-03</td>\n",
       "      <td>2020-01-03 09:30:05</td>\n",
       "      <td>111.16</td>\n",
       "      <td>4.710971</td>\n",
       "      <td>0.00009</td>\n",
       "      <td>0.00009</td>\n",
       "      <td>NaN</td>\n",
       "      <td>NaN</td>\n",
       "      <td>NaN</td>\n",
       "      <td>NaN</td>\n",
       "      <td>NaN</td>\n",
       "      <td>NaN</td>\n",
       "      <td>NaN</td>\n",
       "    </tr>\n",
       "    <tr>\n",
       "      <th>2</th>\n",
       "      <td>IEF</td>\n",
       "      <td>iShares 7-10 Year Treasury Bond ETF</td>\n",
       "      <td>7-10 Year</td>\n",
       "      <td>2020-01-03</td>\n",
       "      <td>2020-01-03 09:30:10</td>\n",
       "      <td>111.16</td>\n",
       "      <td>4.710971</td>\n",
       "      <td>0.00000</td>\n",
       "      <td>0.00000</td>\n",
       "      <td>NaN</td>\n",
       "      <td>NaN</td>\n",
       "      <td>NaN</td>\n",
       "      <td>NaN</td>\n",
       "      <td>NaN</td>\n",
       "      <td>NaN</td>\n",
       "      <td>NaN</td>\n",
       "    </tr>\n",
       "    <tr>\n",
       "      <th>3</th>\n",
       "      <td>IEF</td>\n",
       "      <td>iShares 7-10 Year Treasury Bond ETF</td>\n",
       "      <td>7-10 Year</td>\n",
       "      <td>2020-01-03</td>\n",
       "      <td>2020-01-03 09:30:15</td>\n",
       "      <td>111.15</td>\n",
       "      <td>4.710881</td>\n",
       "      <td>-0.00009</td>\n",
       "      <td>-0.00009</td>\n",
       "      <td>NaN</td>\n",
       "      <td>NaN</td>\n",
       "      <td>NaN</td>\n",
       "      <td>NaN</td>\n",
       "      <td>NaN</td>\n",
       "      <td>NaN</td>\n",
       "      <td>NaN</td>\n",
       "    </tr>\n",
       "    <tr>\n",
       "      <th>4</th>\n",
       "      <td>IEF</td>\n",
       "      <td>iShares 7-10 Year Treasury Bond ETF</td>\n",
       "      <td>7-10 Year</td>\n",
       "      <td>2020-01-03</td>\n",
       "      <td>2020-01-03 09:30:20</td>\n",
       "      <td>111.15</td>\n",
       "      <td>4.710881</td>\n",
       "      <td>0.00000</td>\n",
       "      <td>0.00000</td>\n",
       "      <td>NaN</td>\n",
       "      <td>NaN</td>\n",
       "      <td>NaN</td>\n",
       "      <td>NaN</td>\n",
       "      <td>NaN</td>\n",
       "      <td>NaN</td>\n",
       "      <td>NaN</td>\n",
       "    </tr>\n",
       "  </tbody>\n",
       "</table>\n",
       "</div>"
      ],
      "text/plain": [
       "  ticker                          ticker_desc ticker_desc_short        date  \\\n",
       "0    IEF  iShares 7-10 Year Treasury Bond ETF         7-10 Year  2020-01-03   \n",
       "1    IEF  iShares 7-10 Year Treasury Bond ETF         7-10 Year  2020-01-03   \n",
       "2    IEF  iShares 7-10 Year Treasury Bond ETF         7-10 Year  2020-01-03   \n",
       "3    IEF  iShares 7-10 Year Treasury Bond ETF         7-10 Year  2020-01-03   \n",
       "4    IEF  iShares 7-10 Year Treasury Bond ETF         7-10 Year  2020-01-03   \n",
       "\n",
       "              datetime   price  log_price   return  return_5s  return_60s  \\\n",
       "0  2020-01-03 09:30:00  111.15   4.710881  0.00000        NaN         NaN   \n",
       "1  2020-01-03 09:30:05  111.16   4.710971  0.00009    0.00009         NaN   \n",
       "2  2020-01-03 09:30:10  111.16   4.710971  0.00000    0.00000         NaN   \n",
       "3  2020-01-03 09:30:15  111.15   4.710881 -0.00009   -0.00009         NaN   \n",
       "4  2020-01-03 09:30:20  111.15   4.710881  0.00000    0.00000         NaN   \n",
       "\n",
       "   rv_sub  two_scale_realized_var  sigma_2_hat  two_scale_realized_var_biased  \\\n",
       "0     NaN                     NaN          NaN                            NaN   \n",
       "1     NaN                     NaN          NaN                            NaN   \n",
       "2     NaN                     NaN          NaN                            NaN   \n",
       "3     NaN                     NaN          NaN                            NaN   \n",
       "4     NaN                     NaN          NaN                            NaN   \n",
       "\n",
       "   two_scale_realized_vol  two_scale_realized_vol_100  \n",
       "0                     NaN                         NaN  \n",
       "1                     NaN                         NaN  \n",
       "2                     NaN                         NaN  \n",
       "3                     NaN                         NaN  \n",
       "4                     NaN                         NaN  "
      ]
     },
     "execution_count": 3,
     "metadata": {},
     "output_type": "execute_result"
    }
   ],
   "source": [
    "ticker_resample_df.head()"
   ]
  },
  {
   "cell_type": "markdown",
   "metadata": {},
   "source": [
    "# Prep data"
   ]
  },
  {
   "cell_type": "code",
   "execution_count": 4,
   "metadata": {},
   "outputs": [],
   "source": [
    "# Fix datetime column and sort data\n",
    "ticker_resample_df['datetime'] = pd.to_datetime(ticker_resample_df['datetime'])\n",
    "ticker_resample_df = ticker_resample_df.sort_values(by = ['ticker', 'date', 'datetime'])"
   ]
  },
  {
   "cell_type": "code",
   "execution_count": 5,
   "metadata": {},
   "outputs": [],
   "source": [
    "# Set realized volatility \n",
    "ticker_resample_df['realized_vol'] = ticker_resample_df['two_scale_realized_vol_100']"
   ]
  },
  {
   "cell_type": "markdown",
   "metadata": {},
   "source": [
    "# Tables"
   ]
  },
  {
   "cell_type": "markdown",
   "metadata": {},
   "source": [
    "## Generate Statistics"
   ]
  },
  {
   "cell_type": "code",
   "execution_count": 6,
   "metadata": {},
   "outputs": [],
   "source": [
    "def test_changes(ticker_day_df, test_var, delta_min = 30):\n",
    "    # Tests the difference in realized volatility delta_min minutes before and after the FOMC announcements\n",
    "    # ticker_day_df is a dataframe corresponding to a specific ticker and specific day\n",
    "    fomcrelease_datetime = pd.to_datetime(ticker_day_df[\"date\"].iloc[0] + \" 14:00:00\")\n",
    "    ticker_day_df[\"datetime_minus_fomcrelease\"] = pd.to_datetime(ticker_day_df[\"datetime\"]).apply(\n",
    "        lambda x: x - fomcrelease_datetime\n",
    "    )\n",
    "\n",
    "    ticker_day_df[\"is_delta_min_before_fomcrelease\"] = (\n",
    "        (-ticker_day_df[\"datetime_minus_fomcrelease\"] < pd.Timedelta(f\"{delta_min} minutes\"))\n",
    "        & (ticker_day_df[\"datetime_minus_fomcrelease\"] <= pd.Timedelta(\"0 seconds\"))\n",
    "    ).astype(int)\n",
    "\n",
    "    ticker_day_df[\"is_delta_min_after_fomcrelease\"] = (\n",
    "        (ticker_day_df[\"datetime_minus_fomcrelease\"] < pd.Timedelta(f\"{delta_min} minutes\"))\n",
    "        & (ticker_day_df[\"datetime_minus_fomcrelease\"] > pd.Timedelta(\"0 seconds\"))\n",
    "    ).astype(int)\n",
    "\n",
    "    # Average realized volatility before and after\n",
    "    avg_rv_before = ticker_day_df.query(\"is_delta_min_before_fomcrelease == 1\")[test_var].mean()\n",
    "    avg_rv_after = ticker_day_df.query(\"is_delta_min_after_fomcrelease == 1\")[test_var].mean()\n",
    "\n",
    "    # T-test change (means)\n",
    "    ttest_t, ttest_p = sp.stats.ttest_ind(\n",
    "        ticker_day_df.query(\"is_delta_min_after_fomcrelease == 1\")[test_var],\n",
    "        ticker_day_df.query(\"is_delta_min_before_fomcrelease == 1\")[test_var],\n",
    "        equal_var=False,\n",
    "    )\n",
    "\n",
    "    # U-test change (medians)\n",
    "    utest_u, utest_p = sp.stats.mannwhitneyu(\n",
    "        ticker_day_df.query(\"is_delta_min_before_fomcrelease == 1\")[test_var],\n",
    "        ticker_day_df.query(\"is_delta_min_after_fomcrelease == 1\")[test_var],\n",
    "        alternative=\"two-sided\",\n",
    "    )\n",
    "\n",
    "    return dict(\n",
    "        zip(\n",
    "            (\"average_before\", \"average_after\", \"ttest_t\", \"ttest_p\", \"utest_u\", \"utest_pvalue\"),\n",
    "            (avg_rv_before, avg_rv_after, ttest_t, ttest_p, utest_u, utest_p),\n",
    "        )\n",
    "    )"
   ]
  },
  {
   "cell_type": "code",
   "execution_count": 7,
   "metadata": {},
   "outputs": [
    {
     "data": {
      "application/vnd.jupyter.widget-view+json": {
       "model_id": "4525275d8da34324bbcfd84872f41813",
       "version_major": 2,
       "version_minor": 0
      },
      "text/plain": [
       "HBox(children=(FloatProgress(value=0.0, max=30.0), HTML(value='')))"
      ]
     },
     "metadata": {},
     "output_type": "display_data"
    },
    {
     "name": "stdout",
     "output_type": "stream",
     "text": [
      "\n"
     ]
    }
   ],
   "source": [
    "tqdm.pandas()\n",
    "rv_changes_results_df = (\n",
    "    ticker_resample_df.groupby([\"date\", \"ticker\", \"ticker_desc\", \"ticker_desc_short\"])\n",
    "    .progress_apply(lambda df: test_changes(df, test_var = 'realized_vol', delta_min = 30))\n",
    "    .apply(pd.Series)\n",
    "    .reset_index()\n",
    ")\n",
    "\n",
    "rv_changes_results_df['difference'] = rv_changes_results_df['average_after'] - rv_changes_results_df['average_before']\n",
    "rv_changes_results_df = rv_changes_results_df.sort_values(['date', 'ticker'])"
   ]
  },
  {
   "cell_type": "code",
   "execution_count": 8,
   "metadata": {},
   "outputs": [
    {
     "name": "stdout",
     "output_type": "stream",
     "text": [
      "\\begin{tabular}{llrrrrr}\n",
      "\\toprule\n",
      "ticker &                           ticker\\_desc &  average\\_before &  average\\_after &  difference &    ttest\\_t &        ttest\\_p \\\\\n",
      "\\midrule\n",
      "   SHY &    iShares 1-3 Year Treasury Bond ETF &        0.084679 &       0.067734 &   -0.016945 &  -6.275127 &   6.124280e-10 \\\\\n",
      "   TLH &  iShares 10-20 Year Treasury Bond ETF &        0.291005 &       0.971577 &    0.680571 &  32.171930 &  7.039643e-110 \\\\\n",
      "   TLT &    iShares 20+ Year Treasury Bond ETF &        0.336256 &       1.295328 &    0.959072 &  38.139927 &  3.667126e-130 \\\\\n",
      "   IEI &    iShares 3-7 Year Treasury Bond ETF &        0.055371 &       0.140424 &    0.085053 &  32.584644 &  9.770234e-133 \\\\\n",
      "   IEF &   iShares 7-10 Year Treasury Bond ETF &        0.117278 &       0.333805 &    0.216526 &  45.417918 &  9.043730e-175 \\\\\n",
      "\\bottomrule\n",
      "\\end{tabular}\n",
      "\n"
     ]
    }
   ],
   "source": [
    "# Table of results for RV changes\n",
    "print(rv_changes_results_df.query('date == \"2020-08-19\"').sort_values(by = 'ticker_desc_short').drop(columns = ['date', 'ticker_desc_short', 'utest_u', 'utest_pvalue'], axis = 1)[['ticker', 'ticker_desc', 'average_before', 'average_after', 'difference', 'ttest_t', 'ttest_p']].reset_index(drop = True).to_latex(index = False))"
   ]
  },
  {
   "cell_type": "code",
   "execution_count": 14,
   "metadata": {},
   "outputs": [
    {
     "data": {
      "text/html": [
       "<div>\n",
       "<style scoped>\n",
       "    .dataframe tbody tr th:only-of-type {\n",
       "        vertical-align: middle;\n",
       "    }\n",
       "\n",
       "    .dataframe tbody tr th {\n",
       "        vertical-align: top;\n",
       "    }\n",
       "\n",
       "    .dataframe thead th {\n",
       "        text-align: right;\n",
       "    }\n",
       "</style>\n",
       "<table border=\"1\" class=\"dataframe\">\n",
       "  <thead>\n",
       "    <tr style=\"text-align: right;\">\n",
       "      <th></th>\n",
       "      <th>date</th>\n",
       "      <th>ticker</th>\n",
       "      <th>ticker_desc</th>\n",
       "      <th>ticker_desc_short</th>\n",
       "      <th>average_before</th>\n",
       "      <th>average_after</th>\n",
       "      <th>ttest_t</th>\n",
       "      <th>ttest_p</th>\n",
       "      <th>utest_u</th>\n",
       "      <th>utest_pvalue</th>\n",
       "      <th>difference</th>\n",
       "    </tr>\n",
       "  </thead>\n",
       "  <tbody>\n",
       "    <tr>\n",
       "      <th>23</th>\n",
       "      <td>2020-07-01</td>\n",
       "      <td>TLH</td>\n",
       "      <td>iShares 10-20 Year Treasury Bond ETF</td>\n",
       "      <td>10-20 Year</td>\n",
       "      <td>0.176660</td>\n",
       "      <td>0.269208</td>\n",
       "      <td>6.382721</td>\n",
       "      <td>3.160293e-10</td>\n",
       "      <td>32436.0</td>\n",
       "      <td>6.581568e-31</td>\n",
       "      <td>0.092548</td>\n",
       "    </tr>\n",
       "    <tr>\n",
       "      <th>29</th>\n",
       "      <td>2020-08-19</td>\n",
       "      <td>TLT</td>\n",
       "      <td>iShares 20+ Year Treasury Bond ETF</td>\n",
       "      <td>20+ Year</td>\n",
       "      <td>0.336256</td>\n",
       "      <td>1.295328</td>\n",
       "      <td>38.139927</td>\n",
       "      <td>3.667126e-130</td>\n",
       "      <td>1922.0</td>\n",
       "      <td>2.944942e-112</td>\n",
       "      <td>0.959072</td>\n",
       "    </tr>\n",
       "    <tr>\n",
       "      <th>24</th>\n",
       "      <td>2020-07-01</td>\n",
       "      <td>TLT</td>\n",
       "      <td>iShares 20+ Year Treasury Bond ETF</td>\n",
       "      <td>20+ Year</td>\n",
       "      <td>0.348350</td>\n",
       "      <td>0.444871</td>\n",
       "      <td>9.766711</td>\n",
       "      <td>3.979658e-21</td>\n",
       "      <td>39219.0</td>\n",
       "      <td>7.406405e-20</td>\n",
       "      <td>0.096521</td>\n",
       "    </tr>\n",
       "    <tr>\n",
       "      <th>3</th>\n",
       "      <td>2020-01-03</td>\n",
       "      <td>TLH</td>\n",
       "      <td>iShares 10-20 Year Treasury Bond ETF</td>\n",
       "      <td>10-20 Year</td>\n",
       "      <td>0.364032</td>\n",
       "      <td>0.321777</td>\n",
       "      <td>-2.567527</td>\n",
       "      <td>1.045172e-02</td>\n",
       "      <td>70726.5</td>\n",
       "      <td>2.829970e-02</td>\n",
       "      <td>-0.042255</td>\n",
       "    </tr>\n",
       "    <tr>\n",
       "      <th>25</th>\n",
       "      <td>2020-08-19</td>\n",
       "      <td>IEF</td>\n",
       "      <td>iShares 7-10 Year Treasury Bond ETF</td>\n",
       "      <td>7-10 Year</td>\n",
       "      <td>0.117278</td>\n",
       "      <td>0.333805</td>\n",
       "      <td>45.417918</td>\n",
       "      <td>9.043730e-175</td>\n",
       "      <td>284.0</td>\n",
       "      <td>4.274025e-118</td>\n",
       "      <td>0.216526</td>\n",
       "    </tr>\n",
       "  </tbody>\n",
       "</table>\n",
       "</div>"
      ],
      "text/plain": [
       "          date ticker                           ticker_desc ticker_desc_short  \\\n",
       "23  2020-07-01    TLH  iShares 10-20 Year Treasury Bond ETF        10-20 Year   \n",
       "29  2020-08-19    TLT    iShares 20+ Year Treasury Bond ETF          20+ Year   \n",
       "24  2020-07-01    TLT    iShares 20+ Year Treasury Bond ETF          20+ Year   \n",
       "3   2020-01-03    TLH  iShares 10-20 Year Treasury Bond ETF        10-20 Year   \n",
       "25  2020-08-19    IEF   iShares 7-10 Year Treasury Bond ETF         7-10 Year   \n",
       "\n",
       "    average_before  average_after    ttest_t        ttest_p  utest_u  \\\n",
       "23        0.176660       0.269208   6.382721   3.160293e-10  32436.0   \n",
       "29        0.336256       1.295328  38.139927  3.667126e-130   1922.0   \n",
       "24        0.348350       0.444871   9.766711   3.979658e-21  39219.0   \n",
       "3         0.364032       0.321777  -2.567527   1.045172e-02  70726.5   \n",
       "25        0.117278       0.333805  45.417918  9.043730e-175    284.0   \n",
       "\n",
       "     utest_pvalue  difference  \n",
       "23   6.581568e-31    0.092548  \n",
       "29  2.944942e-112    0.959072  \n",
       "24   7.406405e-20    0.096521  \n",
       "3    2.829970e-02   -0.042255  \n",
       "25  4.274025e-118    0.216526  "
      ]
     },
     "execution_count": 14,
     "metadata": {},
     "output_type": "execute_result"
    }
   ],
   "source": [
    "rv_changes_results_df.sample(5)"
   ]
  },
  {
   "cell_type": "code",
   "execution_count": 9,
   "metadata": {},
   "outputs": [
    {
     "data": {
      "application/vnd.jupyter.widget-view+json": {
       "model_id": "fa8e78dbc9684c4e9298108ef157c9c0",
       "version_major": 2,
       "version_minor": 0
      },
      "text/plain": [
       "HBox(children=(FloatProgress(value=0.0, max=30.0), HTML(value='')))"
      ]
     },
     "metadata": {},
     "output_type": "display_data"
    },
    {
     "name": "stdout",
     "output_type": "stream",
     "text": [
      "\n"
     ]
    }
   ],
   "source": [
    "tqdm.pandas()\n",
    "ticker_resample_df['log_price'] = np.log(ticker_resample_df['price'])\n",
    "lp_changes_results_df = (\n",
    "    ticker_resample_df.groupby([\"date\", \"ticker\", \"ticker_desc\", \"ticker_desc_short\"])\n",
    "    .progress_apply(lambda df: test_changes(df, test_var = 'log_price', delta_min = 30))\n",
    "    .apply(pd.Series)\n",
    "    .reset_index()\n",
    ")\n",
    "\n",
    "lp_changes_results_df['difference'] = lp_changes_results_df['average_after'] - lp_changes_results_df['average_before']\n",
    "lp_changes_results_df = lp_changes_results_df.sort_values(['date', 'ticker'])"
   ]
  },
  {
   "cell_type": "markdown",
   "metadata": {},
   "source": [
    "## Plot of table results"
   ]
  },
  {
   "cell_type": "code",
   "execution_count": 58,
   "metadata": {},
   "outputs": [],
   "source": [
    "def sig_stars(p):\n",
    "    if p < 0.001:\n",
    "        return '***'\n",
    "    elif p < 0.01:\n",
    "        return '**'\n",
    "    elif p < 0.05:\n",
    "        return '*'\n",
    "    else:\n",
    "        return ''"
   ]
  },
  {
   "cell_type": "markdown",
   "metadata": {},
   "source": [
    "### RV changes"
   ]
  },
  {
   "cell_type": "code",
   "execution_count": 59,
   "metadata": {},
   "outputs": [
    {
     "data": {
      "image/png": "[encoded data removed]",
      "text/plain": [
       "<Figure size 720x432 with 1 Axes>"
      ]
     },
     "metadata": {},
     "output_type": "display_data"
    }
   ],
   "source": [
    "fig, ax = plt.subplots(figsize=(10, 6))\n",
    "sns.barplot(\n",
    "    y=\"difference\",\n",
    "    x=\"date\",\n",
    "    hue=\"ticker_desc_short\",\n",
    "    hue_order=[\"1-3 Year\", \"3-7 Year\", \"7-10 Year\", \"10-20 Year\", \"20+ Year\"],\n",
    "    palette=sns.color_palette(\"viridis\", 5),\n",
    "    data=rv_changes_results_df,\n",
    "    ax=ax,\n",
    ")\n",
    "plt.axhline(0, -1, 1, color=\"k\", lw=0.5)\n",
    "\n",
    "# Add significance stars\n",
    "plt.ylim(-1, 1)\n",
    "for rectangle in ax.patches:\n",
    "    x, y = rectangle.get_xy()\n",
    "    height = rectangle.get_height()\n",
    "    width = rectangle.get_width()\n",
    "    x_loc = x + width / 2\n",
    "    y_loc = height if height > 0 else height - 0.045\n",
    "    pvalue = rv_changes_results_df[\"ttest_p\"].loc[\n",
    "        (np.abs(rv_changes_results_df[\"difference\"] - height)).idxmin()\n",
    "    ]\n",
    "    plt.text(x_loc, y_loc, sig_stars(pvalue), ha=\"center\")\n",
    "\n",
    "# Fix legend\n",
    "plt.legend(\n",
    "    loc=\"upper left\",\n",
    "    title=\"iShares Bond ETF\",\n",
    "    fontsize=10,\n",
    "    shadow=True,\n",
    ")\n",
    "\n",
    "plt.ylim(-0.75, 1.1)\n",
    "plt.title('Difference in Realized Volatility 30 minutes before/after FOMC Minutes Release')\n",
    "plt.ylabel('Difference (pp)')\n",
    "plt.xlabel('Date')\n",
    "plt.tight_layout()\n",
    "plt.savefig('../exhibits/ishares_rv_differences.pdf')"
   ]
  },
  {
   "cell_type": "code",
   "execution_count": 60,
   "metadata": {},
   "outputs": [
    {
     "data": {
      "text/plain": [
       "<matplotlib.lines.Line2D at 0x7f5370f8c0b8>"
      ]
     },
     "execution_count": 60,
     "metadata": {},
     "output_type": "execute_result"
    },
    {
     "data": {
      "image/png": "[encoded data removed]",
      "text/plain": [
       "<Figure size 864x576 with 1 Axes>"
      ]
     },
     "metadata": {},
     "output_type": "display_data"
    }
   ],
   "source": [
    "# T-stats\n",
    "plt.figure(figsize=(12, 8))\n",
    "sns.barplot(\n",
    "    y=\"ttest_t\",\n",
    "    x=\"date\",\n",
    "    hue=\"ticker\",\n",
    "    palette=sns.color_palette(\"viridis\", 5),\n",
    "    data=rv_changes_results_df,\n",
    ")\n",
    "plt.axhline(0, -1, 1, color=\"k\", lw=0.5)\n",
    "plt.axhline(sp.stats.norm.ppf(0.005), -1, 1, color=\"k\", ls=\"--\")\n",
    "plt.axhline(-sp.stats.norm.ppf(0.005), -1, 1, color=\"k\", ls=\"--\")"
   ]
  },
  {
   "cell_type": "markdown",
   "metadata": {},
   "source": [
    "### Log(Price) Changes"
   ]
  },
  {
   "cell_type": "code",
   "execution_count": 74,
   "metadata": {},
   "outputs": [
    {
     "data": {
      "image/png": "[encoded data removed]",
      "text/plain": [
       "<Figure size 720x432 with 1 Axes>"
      ]
     },
     "metadata": {},
     "output_type": "display_data"
    }
   ],
   "source": [
    "fig, ax = plt.subplots(figsize=(10, 6))\n",
    "sns.barplot(\n",
    "    y=\"difference\",\n",
    "    x=\"date\",\n",
    "    hue=\"ticker_desc_short\",\n",
    "    hue_order=[\"1-3 Year\", \"3-7 Year\", \"7-10 Year\", \"10-20 Year\", \"20+ Year\"],\n",
    "    palette=sns.color_palette(\"viridis\", 5),\n",
    "    data=lp_changes_results_df,\n",
    "    ax=ax,\n",
    ")\n",
    "plt.axhline(0, -1, 1, color=\"k\", lw=0.5)\n",
    "\n",
    "# Add significance stars\n",
    "plt.ylim(-1, 1)\n",
    "for rectangle in ax.patches:\n",
    "    x, y = rectangle.get_xy()\n",
    "    height = rectangle.get_height()\n",
    "    width = rectangle.get_width()\n",
    "    x_loc = x + width / 2\n",
    "    y_loc = height if height > 0 else height - 0.00018\n",
    "    pvalue = lp_changes_results_df[\"ttest_p\"].loc[\n",
    "        (np.abs(lp_changes_results_df[\"difference\"] - height)).idxmin()\n",
    "    ]\n",
    "    plt.text(x_loc, y_loc, sig_stars(pvalue), ha=\"center\")\n",
    "\n",
    "# Fix legend\n",
    "plt.legend(\n",
    "    loc=\"lower left\",\n",
    "    title=\"iShares Bond ETF\",\n",
    "    fontsize=10,\n",
    "    shadow=True,\n",
    ")\n",
    "\n",
    "plt.ylim(-0.005, 0.001)\n",
    "ax.yaxis.set_major_formatter(matplotlib.ticker.PercentFormatter(xmax = 1))\n",
    "plt.title('Difference in Log(Price) 30 minutes before/after FOMC Minutes Release')\n",
    "plt.ylabel('Difference (%)')\n",
    "plt.xlabel('Date')\n",
    "plt.tight_layout()\n",
    "plt.savefig('../exhibits/ishares_logprice_differences.pdf')"
   ]
  }
 ],
 "metadata": {
  "kernelspec": {
   "display_name": "Python 3",
   "language": "python",
   "name": "python3"
  },
  "language_info": {
   "codemirror_mode": {
    "name": "ipython",
    "version": 3
   },
   "file_extension": ".py",
   "mimetype": "text/x-python",
   "name": "python",
   "nbconvert_exporter": "python",
   "pygments_lexer": "ipython3",
   "version": "3.6.9"
  }
 },
 "nbformat": 4,
 "nbformat_minor": 4
}
