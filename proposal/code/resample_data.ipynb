{
 "cells": [
  {
   "cell_type": "code",
   "execution_count": 4,
   "metadata": {},
   "outputs": [],
   "source": [
    "import pandas as pd\n",
    "import numpy as np\n",
    "import os\n",
    "import seaborn as sns\n",
    "import matplotlib.pyplot as plt\n",
    "from tqdm.auto import tqdm"
   ]
  },
  {
   "cell_type": "markdown",
   "metadata": {},
   "source": [
    "# Import Data"
   ]
  },
  {
   "cell_type": "code",
   "execution_count": 5,
   "metadata": {},
   "outputs": [
    {
     "data": {
      "application/vnd.jupyter.widget-view+json": {
       "model_id": "65b9dea38a5c4f3096b310ac4e07370b",
       "version_major": 2,
       "version_minor": 0
      },
      "text/plain": [
       "HBox(children=(FloatProgress(value=0.0, max=74.0), HTML(value='')))"
      ]
     },
     "metadata": {},
     "output_type": "display_data"
    },
    {
     "name": "stdout",
     "output_type": "stream",
     "text": [
      "\n",
      "CPU times: user 18.7 s, sys: 7.47 s, total: 26.2 s\n",
      "Wall time: 26.3 s\n"
     ]
    },
    {
     "data": {
      "text/html": [
       "<div>\n",
       "<style scoped>\n",
       "    .dataframe tbody tr th:only-of-type {\n",
       "        vertical-align: middle;\n",
       "    }\n",
       "\n",
       "    .dataframe tbody tr th {\n",
       "        vertical-align: top;\n",
       "    }\n",
       "\n",
       "    .dataframe thead th {\n",
       "        text-align: right;\n",
       "    }\n",
       "</style>\n",
       "<table border=\"1\" class=\"dataframe\">\n",
       "  <thead>\n",
       "    <tr style=\"text-align: right;\">\n",
       "      <th></th>\n",
       "      <th>DATE</th>\n",
       "      <th>TIME_M</th>\n",
       "      <th>EX</th>\n",
       "      <th>SYM_ROOT</th>\n",
       "      <th>SYM_SUFFIX</th>\n",
       "      <th>PRICE</th>\n",
       "    </tr>\n",
       "  </thead>\n",
       "  <tbody>\n",
       "    <tr>\n",
       "      <th>0</th>\n",
       "      <td>20191001</td>\n",
       "      <td>9:30:00.015133152</td>\n",
       "      <td>Z</td>\n",
       "      <td>SPY</td>\n",
       "      <td>NaN</td>\n",
       "      <td>297.74</td>\n",
       "    </tr>\n",
       "    <tr>\n",
       "      <th>1</th>\n",
       "      <td>20191001</td>\n",
       "      <td>9:30:00.015202138</td>\n",
       "      <td>T</td>\n",
       "      <td>SPY</td>\n",
       "      <td>NaN</td>\n",
       "      <td>297.74</td>\n",
       "    </tr>\n",
       "    <tr>\n",
       "      <th>2</th>\n",
       "      <td>20191001</td>\n",
       "      <td>9:30:00.015220538</td>\n",
       "      <td>T</td>\n",
       "      <td>SPY</td>\n",
       "      <td>NaN</td>\n",
       "      <td>297.74</td>\n",
       "    </tr>\n",
       "    <tr>\n",
       "      <th>3</th>\n",
       "      <td>20191001</td>\n",
       "      <td>9:30:00.025664387</td>\n",
       "      <td>J</td>\n",
       "      <td>SPY</td>\n",
       "      <td>NaN</td>\n",
       "      <td>297.73</td>\n",
       "    </tr>\n",
       "    <tr>\n",
       "      <th>4</th>\n",
       "      <td>20191001</td>\n",
       "      <td>9:30:00.049346889</td>\n",
       "      <td>Z</td>\n",
       "      <td>SPY</td>\n",
       "      <td>NaN</td>\n",
       "      <td>297.74</td>\n",
       "    </tr>\n",
       "  </tbody>\n",
       "</table>\n",
       "</div>"
      ],
      "text/plain": [
       "       DATE             TIME_M EX SYM_ROOT  SYM_SUFFIX   PRICE\n",
       "0  20191001  9:30:00.015133152  Z      SPY         NaN  297.74\n",
       "1  20191001  9:30:00.015202138  T      SPY         NaN  297.74\n",
       "2  20191001  9:30:00.015220538  T      SPY         NaN  297.74\n",
       "3  20191001  9:30:00.025664387  J      SPY         NaN  297.73\n",
       "4  20191001  9:30:00.049346889  Z      SPY         NaN  297.74"
      ]
     },
     "execution_count": 5,
     "metadata": {},
     "output_type": "execute_result"
    }
   ],
   "source": [
    "%%time\n",
    "infile = '../data/TAQ/SPY/quarterly/2019Q4.zip'\n",
    "n = os.path.getsize(infile)*0.133\n",
    "chunksize = 200000\n",
    "rawdata_df = pd.concat((x for x in tqdm(pd.read_csv(infile, chunksize = chunksize), total = int(n/chunksize))))\n",
    "rawdata_df.head()"
   ]
  },
  {
   "cell_type": "markdown",
   "metadata": {},
   "source": [
    "# Process Data"
   ]
  },
  {
   "cell_type": "code",
   "execution_count": 34,
   "metadata": {},
   "outputs": [
    {
     "name": "stdout",
     "output_type": "stream",
     "text": [
      "Cleaning...\n",
      "Resampling...\n",
      "CPU times: user 24.9 s, sys: 26.6 s, total: 51.5 s\n",
      "Wall time: 54.1 s\n"
     ]
    }
   ],
   "source": [
    "%%time\n",
    "print('Cleaning...')\n",
    "data_df = rawdata_df.query('EX != [\"D\", \"M\"]').copy()\n",
    "\n",
    "# Add datetime info\n",
    "data_df['datetime'] = pd.to_datetime(data_df['DATE'].map(str) + ' ' + data_df['TIME_M'])\n",
    "data_df['date'] = data_df['datetime'].dt.date\n",
    "\n",
    "# Rename variables\n",
    "data_df.rename(columns = {'SYM_ROOT': 'ticker', 'PRICE': 'price'}, inplace = True)\n",
    "\n",
    "# Resample\n",
    "print('Resampling...')\n",
    "data_resample_df = (\n",
    "    data_df.set_index(\"datetime\")\n",
    "    .groupby([\"ticker\", \"date\"])\n",
    "    .resample(\"5min\", label=\"right\")[\"price\"]\n",
    "    .last()\n",
    "    .reset_index()\n",
    ")\n",
    "data_resample_df[\"price\"] = (\n",
    "    data_resample_df.sort_values(by=\"datetime\")\n",
    "    .groupby([\"ticker\", \"date\"])[\"price\"]\n",
    "    .fillna(method=\"ffill\")\n",
    ")\n",
    "\n",
    "# Fix dates\n",
    "data_resample_df = data_resample_df.sort_values(by=\"datetime\")\n",
    "data_resample_df = data_resample_df.drop('date', axis = 1)"
   ]
  },
  {
   "cell_type": "markdown",
   "metadata": {},
   "source": [
    "# Export Data"
   ]
  },
  {
   "cell_type": "code",
   "execution_count": 35,
   "metadata": {},
   "outputs": [],
   "source": [
    "data_resample_df.to_csv('../data/clean/prices_5_min/' + infile.split('/')[-1].split('.')[0] + '.csv', index = False)"
   ]
  },
  {
   "cell_type": "markdown",
   "metadata": {},
   "source": [
    "# Check Exchange Data"
   ]
  },
  {
   "cell_type": "code",
   "execution_count": null,
   "metadata": {},
   "outputs": [],
   "source": [
    "temp_df = rawdata_df.query('DATE == ' + str(rawdata_df['DATE'].iloc[0])).copy()\n",
    "temp_df['datetime'] = pd.to_datetime(temp_df['DATE'].astype(str) + ' ' + temp_df['TIME_M'])"
   ]
  },
  {
   "cell_type": "code",
   "execution_count": null,
   "metadata": {},
   "outputs": [],
   "source": [
    "temp_df['TR_CORR'].value_counts()"
   ]
  },
  {
   "cell_type": "code",
   "execution_count": null,
   "metadata": {},
   "outputs": [],
   "source": [
    "exchange_drops_list = [\"D\", \"M\"]\n",
    "plt.figure(figsize=(14, 7))\n",
    "sns.scatterplot(\n",
    "    x=\"datetime\",\n",
    "    y=\"PRICE\",\n",
    "    hue=\"EX\",\n",
    "    data=temp_df.query(\"EX not in @exchange_drops_list\")\n",
    ")\n",
    "plt.legend()"
   ]
  },
  {
   "cell_type": "markdown",
   "metadata": {},
   "source": [
    "# Merge Exported Data"
   ]
  },
  {
   "cell_type": "code",
   "execution_count": 36,
   "metadata": {},
   "outputs": [],
   "source": [
    "import os"
   ]
  },
  {
   "cell_type": "code",
   "execution_count": 38,
   "metadata": {},
   "outputs": [],
   "source": [
    "data_df = pd.concat(\n",
    "    [\n",
    "        pd.read_csv(\"../data/clean/prices_5_min/\" + y)\n",
    "        for y in [x for x in os.walk(\"../data/clean/prices_5_min/\")][0][2]\n",
    "    ]\n",
    ")"
   ]
  },
  {
   "cell_type": "code",
   "execution_count": 39,
   "metadata": {},
   "outputs": [
    {
     "data": {
      "text/html": [
       "<div>\n",
       "<style scoped>\n",
       "    .dataframe tbody tr th:only-of-type {\n",
       "        vertical-align: middle;\n",
       "    }\n",
       "\n",
       "    .dataframe tbody tr th {\n",
       "        vertical-align: top;\n",
       "    }\n",
       "\n",
       "    .dataframe thead th {\n",
       "        text-align: right;\n",
       "    }\n",
       "</style>\n",
       "<table border=\"1\" class=\"dataframe\">\n",
       "  <thead>\n",
       "    <tr style=\"text-align: right;\">\n",
       "      <th></th>\n",
       "      <th>datetime</th>\n",
       "      <th>price</th>\n",
       "    </tr>\n",
       "    <tr>\n",
       "      <th>ticker</th>\n",
       "      <th></th>\n",
       "      <th></th>\n",
       "    </tr>\n",
       "  </thead>\n",
       "  <tbody>\n",
       "    <tr>\n",
       "      <th>SPY</th>\n",
       "      <td>34398</td>\n",
       "      <td>34398</td>\n",
       "    </tr>\n",
       "  </tbody>\n",
       "</table>\n",
       "</div>"
      ],
      "text/plain": [
       "        datetime  price\n",
       "ticker                 \n",
       "SPY        34398  34398"
      ]
     },
     "execution_count": 39,
     "metadata": {},
     "output_type": "execute_result"
    }
   ],
   "source": [
    "data_df.groupby('ticker').count()"
   ]
  },
  {
   "cell_type": "code",
   "execution_count": 40,
   "metadata": {},
   "outputs": [],
   "source": [
    "data_df['datetime'] = pd.to_datetime(data_df['datetime'])\n",
    "data_df['date'] = data_df['datetime'].dt.date\n",
    "data_df = data_df.sort_values(by = ['ticker', 'date', 'datetime'])"
   ]
  },
  {
   "cell_type": "code",
   "execution_count": 41,
   "metadata": {},
   "outputs": [
    {
     "name": "stdout",
     "output_type": "stream",
     "text": [
      "<class 'pandas.core.frame.DataFrame'>\n",
      "Int64Index: 34398 entries, 0 to 4991\n",
      "Data columns (total 4 columns):\n",
      " #   Column    Non-Null Count  Dtype         \n",
      "---  ------    --------------  -----         \n",
      " 0   ticker    34398 non-null  object        \n",
      " 1   datetime  34398 non-null  datetime64[ns]\n",
      " 2   price     34398 non-null  float64       \n",
      " 3   date      34398 non-null  object        \n",
      "dtypes: datetime64[ns](1), float64(1), object(2)\n",
      "memory usage: 1.3+ MB\n"
     ]
    }
   ],
   "source": [
    "data_df.info()"
   ]
  },
  {
   "cell_type": "code",
   "execution_count": 46,
   "metadata": {},
   "outputs": [
    {
     "data": {
      "text/plain": [
       "<AxesSubplot:xlabel='date'>"
      ]
     },
     "execution_count": 46,
     "metadata": {},
     "output_type": "execute_result"
    },
    {
     "data": {
      "image/png": "[encoded data removed]",
      "text/plain": [
       "<Figure size 432x288 with 1 Axes>"
      ]
     },
     "metadata": {
      "needs_background": "light"
     },
     "output_type": "display_data"
    }
   ],
   "source": [
    "data_df.plot(x = 'date', y = 'price')"
   ]
  },
  {
   "cell_type": "code",
   "execution_count": 48,
   "metadata": {},
   "outputs": [],
   "source": [
    "data_df.to_csv('../data/clean/prices_5_min/SPY.csv', index = False)"
   ]
  }
 ],
 "metadata": {
  "kernelspec": {
   "display_name": "Python 3",
   "language": "python",
   "name": "python3"
  },
  "language_info": {
   "codemirror_mode": {
    "name": "ipython",
    "version": 3
   },
   "file_extension": ".py",
   "mimetype": "text/x-python",
   "name": "python",
   "nbconvert_exporter": "python",
   "pygments_lexer": "ipython3",
   "version": "3.6.9"
  }
 },
 "nbformat": 4,
 "nbformat_minor": 4
}
