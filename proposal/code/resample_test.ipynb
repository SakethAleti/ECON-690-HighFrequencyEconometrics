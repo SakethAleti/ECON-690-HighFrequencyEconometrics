{
 "cells": [
  {
   "cell_type": "code",
   "execution_count": 2,
   "metadata": {},
   "outputs": [],
   "source": [
    "import pandas as pd\n",
    "import numpy as np"
   ]
  },
  {
   "cell_type": "code",
   "execution_count": 96,
   "metadata": {},
   "outputs": [
    {
     "data": {
      "text/plain": [
       "0       20200228\n",
       "1       20200228\n",
       "2       20200303\n",
       "3       20200303\n",
       "4       20200303\n",
       "          ...   \n",
       "2227    20201019\n",
       "2228    20201019\n",
       "2229    20201019\n",
       "2230    20201019\n",
       "2231    20201019\n",
       "Name: DATE, Length: 2232, dtype: int64"
      ]
     },
     "execution_count": 96,
     "metadata": {},
     "output_type": "execute_result"
    }
   ],
   "source": [
    "pd.read_csv('../data/temp/low_volume.zip')['DATE']"
   ]
  },
  {
   "cell_type": "code",
   "execution_count": 88,
   "metadata": {},
   "outputs": [
    {
     "name": "stdout",
     "output_type": "stream",
     "text": [
      "CPU times: user 797 ms, sys: 93.8 ms, total: 891 ms\n",
      "Wall time: 896 ms\n"
     ]
    }
   ],
   "source": [
    "%%time\n",
    "rawdata_df = pd.read_csv(\n",
    "    \"../data/temp/b144c282db8243d9_csv.zip\",\n",
    "    nrows=500000,\n",
    "    low_memory=False,\n",
    "    dtype={\n",
    "        \"DATE\": \"uint32\",\n",
    "        \"EX\": \"string\",\n",
    "        \"SYM_ROOT\": \"string\",\n",
    "        \"SYM_SUFFIX\": \"string\",\n",
    "        \"PRICE\": \"float32\",\n",
    "    },\n",
    ")"
   ]
  },
  {
   "cell_type": "code",
   "execution_count": 89,
   "metadata": {},
   "outputs": [
    {
     "name": "stdout",
     "output_type": "stream",
     "text": [
      "<class 'pandas.core.frame.DataFrame'>\n",
      "RangeIndex: 500000 entries, 0 to 499999\n",
      "Data columns (total 8 columns):\n",
      " #   Column      Non-Null Count   Dtype  \n",
      "---  ------      --------------   -----  \n",
      " 0   DATE        500000 non-null  uint32 \n",
      " 1   TIME_M      500000 non-null  object \n",
      " 2   EX          500000 non-null  string \n",
      " 3   SYM_ROOT    500000 non-null  string \n",
      " 4   SYM_SUFFIX  0 non-null       string \n",
      " 5   TR_SCOND    316383 non-null  object \n",
      " 6   PRICE       500000 non-null  float32\n",
      " 7   TR_CORR     500000 non-null  int64  \n",
      "dtypes: float32(1), int64(1), object(2), string(3), uint32(1)\n",
      "memory usage: 26.7+ MB\n"
     ]
    }
   ],
   "source": [
    "rawdata_df.info()"
   ]
  },
  {
   "cell_type": "code",
   "execution_count": 90,
   "metadata": {},
   "outputs": [
    {
     "data": {
      "text/plain": [
       "0         NaN\n",
       "1         0.0\n",
       "2         0.0\n",
       "3         0.0\n",
       "4         0.0\n",
       "         ... \n",
       "499995    0.0\n",
       "499996    0.0\n",
       "499997    0.0\n",
       "499998    0.0\n",
       "499999    0.0\n",
       "Name: DATE, Length: 500000, dtype: float64"
      ]
     },
     "execution_count": 90,
     "metadata": {},
     "output_type": "execute_result"
    }
   ],
   "source": [
    "rawdata_df['DATE'].diff(1)"
   ]
  },
  {
   "cell_type": "code",
   "execution_count": 92,
   "metadata": {},
   "outputs": [
    {
     "data": {
      "text/plain": [
       "array([20200102, 20200103], dtype=uint32)"
      ]
     },
     "execution_count": 92,
     "metadata": {},
     "output_type": "execute_result"
    }
   ],
   "source": [
    "rawdata_df['DATE']rawdata_df['DATE'].diff(1)"
   ]
  },
  {
   "cell_type": "code",
   "execution_count": 68,
   "metadata": {},
   "outputs": [
    {
     "data": {
      "text/plain": [
       "'9:30:00.436516480'"
      ]
     },
     "execution_count": 68,
     "metadata": {},
     "output_type": "execute_result"
    }
   ],
   "source": [
    "rawdata_df['TIME_M'].iloc[0]"
   ]
  },
  {
   "cell_type": "code",
   "execution_count": 59,
   "metadata": {},
   "outputs": [
    {
     "data": {
      "text/html": [
       "<div>\n",
       "<style scoped>\n",
       "    .dataframe tbody tr th:only-of-type {\n",
       "        vertical-align: middle;\n",
       "    }\n",
       "\n",
       "    .dataframe tbody tr th {\n",
       "        vertical-align: top;\n",
       "    }\n",
       "\n",
       "    .dataframe thead th {\n",
       "        text-align: right;\n",
       "    }\n",
       "</style>\n",
       "<table border=\"1\" class=\"dataframe\">\n",
       "  <thead>\n",
       "    <tr style=\"text-align: right;\">\n",
       "      <th></th>\n",
       "      <th>DATE</th>\n",
       "      <th>TIME_M</th>\n",
       "      <th>EX</th>\n",
       "      <th>SYM_ROOT</th>\n",
       "      <th>SYM_SUFFIX</th>\n",
       "      <th>PRICE</th>\n",
       "    </tr>\n",
       "  </thead>\n",
       "  <tbody>\n",
       "    <tr>\n",
       "      <th>0</th>\n",
       "      <td>20200102</td>\n",
       "      <td>9:30:00.436516480</td>\n",
       "      <td>N</td>\n",
       "      <td>A</td>\n",
       "      <td>&lt;NA&gt;</td>\n",
       "      <td>85.900002</td>\n",
       "    </tr>\n",
       "    <tr>\n",
       "      <th>1</th>\n",
       "      <td>20200102</td>\n",
       "      <td>9:30:00.436537082</td>\n",
       "      <td>N</td>\n",
       "      <td>A</td>\n",
       "      <td>&lt;NA&gt;</td>\n",
       "      <td>85.900002</td>\n",
       "    </tr>\n",
       "    <tr>\n",
       "      <th>2</th>\n",
       "      <td>20200102</td>\n",
       "      <td>9:30:00.438161828</td>\n",
       "      <td>N</td>\n",
       "      <td>A</td>\n",
       "      <td>&lt;NA&gt;</td>\n",
       "      <td>85.900002</td>\n",
       "    </tr>\n",
       "    <tr>\n",
       "      <th>3</th>\n",
       "      <td>20200102</td>\n",
       "      <td>9:30:00.493192712</td>\n",
       "      <td>N</td>\n",
       "      <td>A</td>\n",
       "      <td>&lt;NA&gt;</td>\n",
       "      <td>85.550003</td>\n",
       "    </tr>\n",
       "    <tr>\n",
       "      <th>4</th>\n",
       "      <td>20200102</td>\n",
       "      <td>9:30:00.493212243</td>\n",
       "      <td>N</td>\n",
       "      <td>A</td>\n",
       "      <td>&lt;NA&gt;</td>\n",
       "      <td>85.519997</td>\n",
       "    </tr>\n",
       "  </tbody>\n",
       "</table>\n",
       "</div>"
      ],
      "text/plain": [
       "       DATE             TIME_M EX SYM_ROOT SYM_SUFFIX      PRICE\n",
       "0  20200102  9:30:00.436516480  N        A       <NA>  85.900002\n",
       "1  20200102  9:30:00.436537082  N        A       <NA>  85.900002\n",
       "2  20200102  9:30:00.438161828  N        A       <NA>  85.900002\n",
       "3  20200102  9:30:00.493192712  N        A       <NA>  85.550003\n",
       "4  20200102  9:30:00.493212243  N        A       <NA>  85.519997"
      ]
     },
     "execution_count": 59,
     "metadata": {},
     "output_type": "execute_result"
    }
   ],
   "source": [
    "rawdata_df.head()"
   ]
  },
  {
   "cell_type": "code",
   "execution_count": 17,
   "metadata": {},
   "outputs": [
    {
     "data": {
      "text/plain": [
       "array([nan, 'PRB', 'PRA', 'WS', 'PRACL', 'PRG', 'PRH', 'PRI'],\n",
       "      dtype=object)"
      ]
     },
     "execution_count": 17,
     "metadata": {},
     "output_type": "execute_result"
    }
   ],
   "source": [
    "rawdata_df['SYM_SUFFIX'].unique()"
   ]
  },
  {
   "cell_type": "code",
   "execution_count": 30,
   "metadata": {},
   "outputs": [],
   "source": [
    "rawdata_df[\"SYM_BOTH\"] = (\n",
    "    rawdata_df[\"SYM_ROOT\"]\n",
    "    + rawdata_df[\"SYM_SUFFIX\"].apply(lambda x: \"--\" if x == x else \"\")\n",
    "    + rawdata_df[\"SYM_SUFFIX\"].fillna(\"\")\n",
    ")"
   ]
  },
  {
   "cell_type": "code",
   "execution_count": 31,
   "metadata": {},
   "outputs": [
    {
     "data": {
      "text/plain": [
       "array(['A', 'AAL', 'AAP', 'AAPL', 'ABBV', 'ABC', 'ABMD', 'ABT', 'ACN',\n",
       "       'ADBE', 'ADI', 'ADM', 'ADP', 'ADSK', 'AEE', 'AEP', 'AEP--PRB',\n",
       "       'AES', 'AFL', 'AIG', 'AIG--PRA', 'AIG--WS', 'AIV', 'AIZ', 'AJG',\n",
       "       'AKAM', 'ALB', 'ALGN', 'ALK', 'ALL', 'ALL--PRACL', 'ALL--PRB',\n",
       "       'ALL--PRG', 'ALL--PRH', 'ALL--PRI', 'ALLE', 'ALXN', 'AMAT', 'AMCR',\n",
       "       'AMD'], dtype=object)"
      ]
     },
     "execution_count": 31,
     "metadata": {},
     "output_type": "execute_result"
    }
   ],
   "source": [
    "rawdata_df['SYM_BOTH'].unique()"
   ]
  },
  {
   "cell_type": "code",
   "execution_count": 13,
   "metadata": {},
   "outputs": [
    {
     "data": {
      "text/plain": [
       "array(['A', 'AAL', 'AAP', 'AAPL', 'ABBV', 'ABC', 'ABMD', 'ABT', 'ACN',\n",
       "       'ADBE', 'ADI', 'ADM', 'ADP', 'ADSK', 'AEE', 'AEP', 'AES', 'AFL',\n",
       "       'AIG', 'AIV', 'AIZ', 'AJG', 'AKAM', 'ALB', 'ALGN', 'ALK', 'ALL',\n",
       "       'ALLE', 'ALXN', 'AMAT', 'AMCR', 'AMD'], dtype=object)"
      ]
     },
     "execution_count": 13,
     "metadata": {},
     "output_type": "execute_result"
    }
   ],
   "source": [
    "\n",
    "rawdata_df['SYM_ROOT'].unique()"
   ]
  }
 ],
 "metadata": {
  "kernelspec": {
   "display_name": "Python 3",
   "language": "python",
   "name": "python3"
  },
  "language_info": {
   "codemirror_mode": {
    "name": "ipython",
    "version": 3
   },
   "file_extension": ".py",
   "mimetype": "text/x-python",
   "name": "python",
   "nbconvert_exporter": "python",
   "pygments_lexer": "ipython3",
   "version": "3.6.9"
  }
 },
 "nbformat": 4,
 "nbformat_minor": 4
}
